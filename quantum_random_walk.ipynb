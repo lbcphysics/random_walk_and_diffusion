{
 "cells": [
  {
   "cell_type": "markdown",
   "metadata": {
    "colab_type": "text",
    "id": "view-in-github"
   },
   "source": [
    "<a href=\"https://colab.research.google.com/github/lbcphysics/random_walk_and_diffusion/blob/master/quantum_random_walk.ipynb\" target=\"_parent\"><img src=\"https://colab.research.google.com/assets/colab-badge.svg\" alt=\"Open In Colab\"/></a>"
   ]
  },
  {
   "cell_type": "markdown",
   "metadata": {
    "colab_type": "text",
    "id": "-Lh381LZkY9W"
   },
   "source": [
    "# <font color='blue'>Part 1: Walking radomly with a quantum computer</font>\n",
    "Imagine walking down a road and with a coin in hand. Before you take your next step you flip a coin to decide whether to walk one step forward or one step back:\n",
    "- Heads: You take one step forward.\n",
    "- Tails: You take one step backward.\n",
    "\n",
    "After 10 steps where would you end up? This is a simple enough experiment to perform.\n",
    "Now imagine that you wanted to determine what your average displacement would be from your starting point. You have three options \n",
    "\n",
    "1. You repeat this experiment a 1000 times ($10 \\times 1000 = 10,000$ steps).\n",
    "2. Get everyone at MSU to perform this experiment and ask them to report their findings.\n",
    "3. Simulate this on a computer in a few minutes\n",
    "\n",
    "We are going to use option 3 here. Specifically we will use a quantum computer to simulate a coin toss. \n",
    "We will be using qiskit python libraries developed by IBM in this notebook to perform this task and understand the details of random walk.\n",
    "\n",
    "Note: the location of the actual physical qauntum computer is elsewhere. We can use the internet (the cloud) to access these quantum computers and run them.\n",
    "\n",
    "\n",
    "\n"
   ]
  },
  {
   "cell_type": "markdown",
   "metadata": {},
   "source": [
    "# Learning Goals\n",
    "1. Learn how to work with jupyter notebooks in the google colab environment to build a quantum circuit that simulates the results of a coin flip (H =1, T=0).\n",
    "3. Learn how to simulate random walk with this quantum circuit.\n",
    "4. Use this simulation to learn about the different properties of your random walk.\n",
    "5. Learn about the probability distribution of random walk.\n",
    "5. Learn how the probability distribution of random walk can be used to model and understand diffusion. \n",
    "6. Learn how random motion is different from coherent motion. "
   ]
  },
  {
   "cell_type": "markdown",
   "metadata": {},
   "source": [
    "# Initializing your setup\n",
    "You will need to run the code block below to ensure that all the libraries are installed in your environment and are correctly imported. It is not necessary for you to understand whats going on here, however if you would like to please refer to the python programming documentation.\n",
    "This may take a minute or two to run. \n",
    "Note: In order to run a block of code you can select run and either hit Run on top or press Shift+Enter on your keyboard."
   ]
  },
  {
   "cell_type": "code",
   "execution_count": null,
   "metadata": {},
   "outputs": [],
   "source": [
    "#!pip install qiskit - Needed in colab environment\n",
    "pip install qiskit"
   ]
  },
  {
   "cell_type": "code",
   "execution_count": 2,
   "metadata": {
    "colab": {},
    "colab_type": "code",
    "id": "MFyUj-8yI9JG"
   },
   "outputs": [],
   "source": [
    "\n",
    "# Include the necessary imports for this program\n",
    "import numpy as np\n",
    "from qiskit import QuantumCircuit, ClassicalRegister, QuantumRegister\n",
    "from qiskit import execute\n",
    "\n",
    "# Import plotting libraries\n",
    "import matplotlib.pyplot as plt\n",
    "import numpy as np\n",
    "from matplotlib import colors\n",
    "from matplotlib.ticker import PercentFormatter\n",
    "\n",
    "# Fixing random state for reproducibility\n",
    "#np.random.seed(19680801)"
   ]
  },
  {
   "cell_type": "markdown",
   "metadata": {},
   "source": [
    "# Flipping a coin quantumly\n",
    "\n",
    "\n",
    "    \n",
    "Each time you flip a fair coin, each of the outcomes (Head or Tails) has a $\\frac{1}{2}$ probability. \n",
    "In order to do this on a quantum computer we will need to set up a quantum circuit. \n",
    "A quantum circuit consists of \n",
    "- A quantum states \n",
    "- quantum gates that perform operations on the quantum state \n",
    "- and a measurement device. \n",
    "\n",
    "**<font color='red'> You do not need to know the details of this quantum circuit or anything related to quantum mechanics. All you need to know is that everytime I switch the circuti on I will generate either '0' or '1'. We will call T =0 and H=1. You may skip ahead if you are not interested.</font>**\n",
    "\n",
    "Think of the quantum state as a coin and the gate as your hand that actualy flips the coin. \n",
    "Finally we need eyes to record the result of our coin flip and for that we need a measurement device that observes what state the coin has been flipped in.\n",
    "Once flipped and then measured, there are two possible outcomes the quantum state is either in a  0 or 1 state.\n",
    "- By 0 we will denote Tails.\n",
    "- By 1 we will denote Heads.\n",
    "\n",
    "We will first setup a quantum circuit with \n",
    "- A quantum register that contains the quantum state\n",
    "- A [Hadamard gate](https://en.wikipedia.org/wiki/Quantum_logic_gate#Hadamard_(H)_gate \"Hadamard gate on Wikipedia\") that will perform the coin flip (quantum state flip)\n",
    "- A classical register that will record and store the result of the coin flip (quantum state flip)\n",
    "\n",
    "\n",
    "\n"
   ]
  },
  {
   "cell_type": "code",
   "execution_count": 3,
   "metadata": {
    "colab": {},
    "colab_type": "code",
    "id": "qTJMysLtJpsF"
   },
   "outputs": [
    {
     "data": {
      "image/png": "[encoded data removed]",
      "text/plain": [
       "<Figure size 244.412x144.48 with 1 Axes>"
      ]
     },
     "execution_count": 3,
     "metadata": {},
     "output_type": "execute_result"
    }
   ],
   "source": [
    "# Create a Quantum Register with 1 qubit (wire).\n",
    "quantum_register = QuantumRegister(1)\n",
    "\n",
    "# Create a Classical Register with 1 bit (double wire).\n",
    "classical_register = ClassicalRegister(1)\n",
    "\n",
    "# Create a Quantum Circuit from the quantum and classical registers\n",
    "circuit = QuantumCircuit(quantum_register, classical_register)\n",
    "\n",
    "# Place an Hadamard gate on the qubit wire\n",
    "circuit.h(quantum_register[0])\n",
    "\n",
    "# Measure the qubit into the classical register\n",
    "circuit.measure(quantum_register, classical_register)\n",
    "\n",
    "# Draw the circuit\n",
    "circuit.draw(output='mpl')\n"
   ]
  },
  {
   "cell_type": "markdown",
   "metadata": {
    "colab_type": "text",
    "id": "Ze1KvaGtumdf"
   },
   "source": [
    "If the above code ran correctly you should be able to see a quantum circuit like below\n",
    "<img src=\"files/qc.png\">\n",
    "Congratulations you have just created your first quantum circuit.\n",
    "- The Blue box denoted with a 'H' is called a Hadamard quantum gate that flips the quantum state.\n",
    "- The Black box measures the quantum state.\n",
    "\n",
    "\n",
    "**<font color='red'> You do not need to know the details of this quantum circuit or anything related to quantum mechanics. All you need to know is that everytime I switch the circuti on I will generate either '0' or '1'. We will call T =0 and H=1.</font>**\n"
   ]
  },
  {
   "cell_type": "markdown",
   "metadata": {},
   "source": [
    "# Extra Information about quantum mechanics and quantum states - You can skip ahead if you are not interested.\n",
    "\n",
    "The information here is for the curious mind, and is not necessary, you may skip ahead.\n",
    "\n",
    "Quantum states denoted by $\\vert\\ \\rangle$ the kind of quantum states that we will use are usually referred to as bipartitite quantum states, i.e. can only be observed to be a in the state  $\\vert0\\rangle$ or $\\vert1\\rangle$.\n",
    "The funny thing about quantum states is that they can exist as a superposition of states,i.e.$\\vert0\\rangle \\pm \\vert1\\rangle$. For example a quantum state can simultaneously be Heads or Tails! \n",
    "quantum gates that perform operations on the quantum state and a measurement device. \n",
    "To demonstrate the Hadamard gate, we'll create a simple quantum circuit with the [Qiskit](https://qiskit.org/) framework after we've imported the necessary items."
   ]
  },
  {
   "cell_type": "markdown",
   "metadata": {},
   "source": [
    "# Running your quantum circuit\n",
    "Now that the quantum circuit has been defined and drawn, let's execute it on a quantum simulator, running the circuit once. Each run and measurement of the circuit is called a *shot*. In other words, the number of shots tells me how many times I am flipping the coin.\n",
    "We will visualize the result of your run in the form of a histogram."
   ]
  },
  {
   "cell_type": "code",
   "execution_count": 40,
   "metadata": {
    "colab": {},
    "colab_type": "code",
    "id": "q9VtcrnDKmd1"
   },
   "outputs": [
    {
     "name": "stdout",
     "output_type": "stream",
     "text": [
      "{'0': 1}\n"
     ]
    },
    {
     "data": {
      "image/png": "[encoded data removed]",
      "text/plain": [
       "<Figure size 504x360 with 1 Axes>"
      ]
     },
     "execution_count": 40,
     "metadata": {},
     "output_type": "execute_result"
    }
   ],
   "source": [
    "#The number of times to run the circuit\n",
    "number_of_shots=1\n",
    "# Import BasicAer\n",
    "from qiskit import BasicAer\n",
    "\n",
    "# Use BasicAer's qasm_simulator\n",
    "backend_sim = BasicAer.get_backend('qasm_simulator')\n",
    "\n",
    "# Execute the circuit on the qasm simulator, running it \"number_of_shots\" times.\n",
    "job_sim = execute(circuit, backend_sim, shots=number_of_shots)\n",
    "\n",
    "# Grab the results from the job.\n",
    "result_sim = job_sim.result()\n",
    "\n",
    "# Print the counts, which are contained in a Python dictionary\n",
    "counts = result_sim.get_counts(circuit)\n",
    "print(counts)\n",
    "\n",
    "from qiskit.tools.visualization import plot_histogram\n",
    "\n",
    "# Plot the results on a bar chart\n",
    "plot_histogram(counts)"
   ]
  },
  {
   "cell_type": "markdown",
   "metadata": {
    "colab_type": "text",
    "id": "F1ZxWlWGyK-3"
   },
   "source": [
    "# Question 1\n",
    "\n",
    "- What do you see?  Discuss with your group how to interpret the histogram.\n",
    "- Change the number_of_shots to 100 or 1000 - doing this correspinds to flipping a coin 100 or 1000 times. What should you expect to see? What do the x and y axis of the plot indicate?"
   ]
  },
  {
   "cell_type": "markdown",
   "metadata": {},
   "source": [
    "# Quantum Random walk generator\n",
    "Now that we have our quantum coin flipper (our quantum circuit) ready, we are going to flip our quantum coin a 100 times and count the number of times we get 1s and the number of times we get 0s.\n",
    "If we get 50 Heads and 50 Tails, then we have taken 50 steps to the front and 50 steps back, so we are back to where we started. \n",
    "Run the code a couple of times to determine where your location should be after 100 steps. Note that we are starting from the origin at 0.\n",
    "Is your location the same each time you run the code? Discuss with your group why your location changes each time.\n"
   ]
  },
  {
   "cell_type": "code",
   "execution_count": 41,
   "metadata": {
    "colab": {},
    "colab_type": "code",
    "id": "Pu-omNpDsCJ7",
    "scrolled": true
   },
   "outputs": [
    {
     "data": {
      "text/plain": [
       "(array([0., 0., 0., 0., 0., 0., 0., 0., 0., 0., 0., 0., 0., 0., 0., 1., 0.,\n",
       "        0., 0., 0., 0., 0., 0., 0., 0., 0., 0., 0., 0., 0., 0., 0., 0., 0.,\n",
       "        0., 0., 0., 0., 0., 0., 0.]),\n",
       " array([-40.5       , -38.52439024, -36.54878049, -34.57317073,\n",
       "        -32.59756098, -30.62195122, -28.64634146, -26.67073171,\n",
       "        -24.69512195, -22.7195122 , -20.74390244, -18.76829268,\n",
       "        -16.79268293, -14.81707317, -12.84146341, -10.86585366,\n",
       "         -8.8902439 ,  -6.91463415,  -4.93902439,  -2.96341463,\n",
       "         -0.98780488,   0.98780488,   2.96341463,   4.93902439,\n",
       "          6.91463415,   8.8902439 ,  10.86585366,  12.84146341,\n",
       "         14.81707317,  16.79268293,  18.76829268,  20.74390244,\n",
       "         22.7195122 ,  24.69512195,  26.67073171,  28.64634146,\n",
       "         30.62195122,  32.59756098,  34.57317073,  36.54878049,\n",
       "         38.52439024,  40.5       ]),\n",
       " <a list of 41 Patch objects>)"
      ]
     },
     "execution_count": 41,
     "metadata": {},
     "output_type": "execute_result"
    },
    {
     "data": {
      "image/png": "[encoded data removed]",
      "text/plain": [
       "<Figure size 432x288 with 1 Axes>"
      ]
     },
     "metadata": {
      "needs_background": "light"
     },
     "output_type": "display_data"
    }
   ],
   "source": [
    "#number of steps\n",
    "number_of_steps=100\n",
    "# number of time we run each 100 step trial\n",
    "number_of_trials=1\n",
    "\n",
    "########################\n",
    "# DO NOT CHANGE BELOW THIS POINT\n",
    "########################\n",
    "# Import BasicAer\n",
    "from qiskit import BasicAer\n",
    "\n",
    "# Use BasicAer's qasm_simulator\n",
    "backend_sim2 = BasicAer.get_backend('qasm_simulator')\n",
    "\n",
    "histarr=np.array([])\n",
    "\n",
    "for i in range(number_of_trials):\n",
    "# Execute the circuit on the qasm simulator, running it number_of_steps times.\n",
    "    job_sim2 = execute(circuit, backend_sim2, shots=number_of_steps)\n",
    "\n",
    "# Grab the results from the job.\n",
    "    result_sim2 = job_sim2.result()\n",
    "# Get the counts, which are contained in a Python dictionary\n",
    "    counts2 = result_sim2.get_counts(circuit)\n",
    "# Determine net number of steps walked \n",
    "    steps= np.array([(counts2['0'] - counts2['1'])])\n",
    "    histarr=np.append(histarr,steps)\n",
    "\n",
    "# Make histogram    \n",
    "plt.xlabel(\"Location after 100 steps\")\n",
    "plt.ylabel(\"# of times I ended up at this location\")    \n",
    "plt.hist(histarr,bins=41,range=(-40.5,40.5))    \n",
    "    \n",
    "\n"
   ]
  },
  {
   "cell_type": "markdown",
   "metadata": {
    "colab_type": "text",
    "id": "Pk3WL9P9sCJ9"
   },
   "source": [
    "# Probability distribution for random walk\n",
    "By running the code a few times you should have seen that for each trial of 100 steps you ended up at a different location. \n",
    "We are now going to try to answer the question: How often are we going to end up +10 steps from where we started or -20 steps or 0 steps?\n",
    "In other words we are now going to determine the probability distribution for ending up at a particular location.\n",
    "In order to do this we will rerun our simulation of a 100 step random walk several times - do this by changing the value of the  variable number_of_trials above from 1 to:\n",
    "- a. 10\n",
    "- b. 100\n",
    "- c. 1000\n",
    "- d. 10000\n",
    "\n",
    "This will take a minute to run for each of the options - be patient and try to predict the answers to the questions below.\n"
   ]
  },
  {
   "cell_type": "markdown",
   "metadata": {},
   "source": [
    "# Question 2\n",
    "- If you were to do a 100 step random walk, what is the most likely location that you would end up in ? i.e. From your graph what is your most probable location.\n",
    "- Describe the shape of the graph that you see: be creative in the choice of your words?\n",
    "- How often will you end up +40 or -40 steps away from your starting point?"
   ]
  },
  {
   "cell_type": "markdown",
   "metadata": {},
   "source": [
    "# Gaussian or Normal Distribution\n",
    "The curve that you saw in your random walk trials is called a Gaussian or [Normal distribution](https://en.wikipedia.org/wiki/Normal_distribution) and takes the form:\n",
    "\n",
    "$ f(x | \\mu, \\sigma) = \\frac{1}{\\sqrt{2 \\pi \\sigma^2}}  e^{- \\frac{(x -\\mu)^2}{2 \\sigma^2}}$\n",
    "\n",
    "Here $\\mu$ is the mean value (or average) of the distribution and $\\sigma$ is the standard deviation. \n",
    "For your trials you should have found the average to be zero ($\\mu =0 $) and the standard deviation $\\sigma = \\sqrt{total number of steps} = \\sqrt{N}$. So the probability that we end up $k$ steps away after taking a total of $N$ steps is\n",
    "\n",
    "$ P(k) = \\frac{1}{\\sqrt{2 \\pi } N }  e^{- \\frac{(k)^2}{2 N}}$\n",
    "\n",
    "\n",
    "Lets test this out by plotting both the histogram for 10,000 trials from our simulation as well as the function above. Run the code below to do this\n",
    "\n"
   ]
  },
  {
   "cell_type": "code",
   "execution_count": 27,
   "metadata": {},
   "outputs": [
    {
     "data": {
      "image/png": "[encoded data removed]",
      "text/plain": [
       "<Figure size 432x288 with 1 Axes>"
      ]
     },
     "metadata": {
      "needs_background": "light"
     },
     "output_type": "display_data"
    }
   ],
   "source": [
    "# mean or average\n",
    "mu = 0 \n",
    "# Variance or standard deviation\n",
    "sigma = np.sqrt(number_of_steps) # mean and standard deviation\\\n",
    "## Set up plot\n",
    "count, bins, ignored = plt.hist(histarr,bins=41,range=(-40.5,40.5))\n",
    "plt.plot( bins, 2*number_of_trials/(sigma * np.sqrt(2 * np.pi))*np.exp( - (bins - mu)**2 / (2 * sigma**2) ),linewidth=2, color='r')\n",
    "# plot histogram and curve\n",
    "plt.show()"
   ]
  },
  {
   "cell_type": "markdown",
   "metadata": {},
   "source": [
    "# Great but what does this have to do with motion of atoms in gas?\n",
    "\n",
    "Imagine being in a very crowded place. To guide your imaginationa here's a picture of a crowded railway platform in Mumbai, India.\n",
    "<img src=\"files/crowd.jpg\">\n",
    "\n",
    "You try to walk in a straight line towards the exit but are constantly bumping into other people and are being tossed around in random directions. \n",
    "This is pretty much the story of an atom inside a gas.\n",
    "\n",
    "For an ideal gas, the atoms do not experience any force until they collide with other atoms. Once atoms collide, their trajectory changes. \n",
    "\n",
    "We can think of the distance between each collision that the atom experiences (aka mean free path) as the step size, and the direction in which the atom moves (front or back) is determined randomly just like a coin flip.\n",
    "Run the code below to see an animation of how an atom in an ideal gas moves.\n",
    "\n",
    "\n"
   ]
  },
  {
   "cell_type": "code",
   "execution_count": 13,
   "metadata": {},
   "outputs": [
    {
     "data": {
      "text/html": [
       "<img src=\"https://upload.wikimedia.org/wikipedia/commons/5/51/Brownianmotion5particles150frame.gif\">"
      ],
      "text/plain": [
       "<IPython.core.display.HTML object>"
      ]
     },
     "execution_count": 13,
     "metadata": {},
     "output_type": "execute_result"
    }
   ],
   "source": [
    "#Source wikipedia\n",
    "from IPython.display import HTML\n",
    "HTML('<img src=\"https://upload.wikimedia.org/wikipedia/commons/5/51/Brownianmotion5particles150frame.gif\">')"
   ]
  },
  {
   "attachments": {},
   "cell_type": "markdown",
   "metadata": {},
   "source": [
    "# <font color ='blue'> Part 2 : Using random walk to understand diffusion. </font> \n",
    "Alright now that we know that an atom moves around in a random way and that randomness can be encoded mathemamatically in a normal distribution, what can we do with that information?\n",
    "\n",
    "- **Objective: We are going to use random walk to model diffusion**\n",
    "\n",
    "Let us picture a single atom inside an ideal gas moving at a velocity $v_0$ - lets give it a name - Bob. \n",
    "\n",
    "<img src=\"files/random_scale.jpg\">\n",
    "\n",
    "- In each bit of time ∆t, either a collision moves Bob by a single step.\n",
    "- Bob moves at speed $v_0$ between collisions, and it takes time ∆t for each step to occur. So the distance traveled between collisions (the __mean free path__, or step length, 𝛌 ) is: \n",
    "$\\lambda \\simeq v_0 \\Delta t$\n",
    "- The more densely packed the atoms are the smaller the value of $\\lambda$.\n",
    "- Let us say Bob collides with another atom which we will call Alice. Since the motion of all the atoms are very random, Bob does not know which direction Alice is going to come in and hit him. \n",
    "- In 1D Alice could either hit him from the front or from behind. If hit from the front Bob would move one step back and if hit from behind he would move one step ahead. Here one step means Bob travels a distance $\\lambda$ in time $\\delta t$ before he is struck again?\n",
    "- The trajectory that Bob follows is the same as that of a random walk we simulated above.\n",
    "\n",
    "<font color='green'>Now that we know that the trajectory of a atom in an ideal gas can be modelled as a random walk lets do some calculations of some quantities in 1D. We will extend this to 3D at the end.</font>\n",
    "\n",
    "<font color='red'>At this point we want to also stop talking about discrete steps and use instead position coordinates $x= k \\lambda$ instead. So we can rewrite our probability distribution in terms of $x$ as </font>\n",
    "\n",
    "$ P(x) = \\frac{1}{\\sqrt{2 \\pi N\\lambda^2 } }  e^{- \\frac{(x)^2}{2 N \\lambda^2}}$\n",
    "\n",
    "Here \n",
    "- $\\lambda$ : Mean free path (the average distance travelled between two collisions)\n",
    "- $N$ : is the total number of steps\n",
    "\n"
   ]
  },
  {
   "cell_type": "markdown",
   "metadata": {},
   "source": [
    "# Question 3\n",
    "We want to able to figure out how Bob is able to \"diffuse\" or \"walk randomly\" from one corner of the gas to the other\n",
    "\n",
    "1. What is the average net displacement of an atom in an ideal gas? Hint: What was your average displacement after 100 steps of a random walk. \n",
    "\n"
   ]
  },
  {
   "cell_type": "markdown",
   "metadata": {},
   "source": [
    "# Mean displacement or Mean squared displacement or Root Mean Squared (rms) displacement?\n",
    "From your answer above you should have realized that the talking about the average displacement is not very useful. We do not care which direction he is diffusing in just the distance from his original starting position. \n",
    "\n",
    "So a more useful probability distribution to look at is the square of the distance $x^2$.\n",
    "This can be evaluated simply as \n",
    "\n",
    "$ P(x^2) = x^2 \\times P(x) = \\frac{1}{\\sqrt{2 \\pi N\\lambda^2 } } x^2 e^{- \\frac{(x)^2}{2 N \\lambda^2}}$\n",
    "\n",
    "# Question 4 \n",
    "- Why don't we simply use distance instead of taking the square of the displacement and then taking its square? Hint: The answer has more to do with math/ stats than physics.\n",
    "\n",
    "Run the code below to see what the Probability distribution of the mean square displacement looks like.\n"
   ]
  },
  {
   "cell_type": "code",
   "execution_count": 29,
   "metadata": {},
   "outputs": [
    {
     "data": {
      "image/png": "[encoded data removed]",
      "text/plain": [
       "<Figure size 432x288 with 1 Axes>"
      ]
     },
     "metadata": {
      "needs_background": "light"
     },
     "output_type": "display_data"
    }
   ],
   "source": [
    "\n",
    "# Total number of steps\n",
    "N = 100. # mean and standard deviation\n",
    "# Mean free path : currently set 1 nm\n",
    "l = 1.\n",
    "\n",
    "x = np.linspace(0.,100,100) # 100 linearly spaced numbers\n",
    "#y = numpy.sin(x)/x\n",
    "\n",
    "plt.plot( x, x**2/( np.sqrt(2 * np.pi * N * l**2))*np.exp( - (x)**2 / (2 * N * l**2) ),linewidth=2, color='r')\n",
    "\n",
    "plt.show()"
   ]
  },
  {
   "cell_type": "markdown",
   "metadata": {},
   "source": [
    "# Question 5\n",
    "- From your graph above can you determine the most likely value of the $x$? \n",
    "- What happens to the most likey value of $x$ if you increase or decrease the mean free path $\\lambda$?\n",
    "\n",
    "- What happens to $x$ if you increase or decrease the total number of steps N ?\n",
    "\n",
    "Extra Info: This is the same shape as the Maxwell-Boltzmann distribution which tells us the probability distribution of speeds of particles in a gas.\n",
    "\n",
    "\n",
    "The number of steps $N$ is really just a measure of time $t$. How do we see this? \n",
    "The rate at which collisions occur is simply given by the speed at which the atoms collide divided by the distance between collisions (aka mean free path), i.e. Rate of collision = $v_0/\\lambda$. Now that we know the rate of collision how many total number of steps (N) have been taken in time $t$.\n",
    "- Write an expression for $N$ in terms of $v_0,\\lambda$ and $t$.\n",
    "\n",
    "- Eliminate $N$ and rewrite the probability distribution below in terms of $v_0$ and $\\lambda$ and $t$\n",
    "\n",
    "$P(x^2) = \\frac{1}{\\sqrt{2 \\pi N\\lambda^2 } } x^2 e^{- \\frac{(x)^2}{2 N \\lambda^2}}$\n",
    "\n",
    "- How does the distance travelled by Bob change with time?\n",
    " Hint: Run the code below and see how the peak of the distribution moves.\n"
   ]
  },
  {
   "cell_type": "code",
   "execution_count": 38,
   "metadata": {},
   "outputs": [
    {
     "name": "stderr",
     "output_type": "stream",
     "text": [
      "//anaconda3/envs/qiskit/lib/python3.7/site-packages/ipykernel_launcher.py:29: RuntimeWarning: divide by zero encountered in true_divide\n",
      "//anaconda3/envs/qiskit/lib/python3.7/site-packages/ipykernel_launcher.py:29: RuntimeWarning: invalid value encountered in multiply\n"
     ]
    },
    {
     "data": {
      "text/html": [
       "<video width=\"432\" height=\"288\" controls autoplay loop>\n",
       "  <source type=\"video/mp4\" src=\"data:video/mp4;base64,AAAAHGZ0eXBNNFYgAAACAGlzb21pc28yYXZjMQAAAAhmcmVlAABeqW1kYXQAAAKgBgX//5zcRem9\n",
       "5tlIt5Ys2CDZI+7veDI2NCAtIGNvcmUgMTUyIC0gSC4yNjQvTVBFRy00IEFWQyBjb2RlYyAtIENv\n",
       "cHlsZWZ0IDIwMDMtMjAxNyAtIGh0dHA6Ly93d3cudmlkZW9sYW4ub3JnL3gyNjQuaHRtbCAtIG9w\n",
       "dGlvbnM6IGNhYmFjPTEgcmVmPTMgZGVibG9jaz0xOjA6MCBhbmFseXNlPTB4MzoweDExMyBtZT1o\n",
       "ZXggc3VibWU9NyBwc3k9MSBwc3lfcmQ9MS4wMDowLjAwIG1peGVkX3JlZj0xIG1lX3JhbmdlPTE2\n",
       "IGNocm9tYV9tZT0xIHRyZWxsaXM9MSA4eDhkY3Q9MSBjcW09MCBkZWFkem9uZT0yMSwxMSBmYXN0\n",
       "X3Bza2lwPTEgY2hyb21hX3FwX29mZnNldD0tMiB0aHJlYWRzPTYgbG9va2FoZWFkX3RocmVhZHM9\n",
       "MSBzbGljZWRfdGhyZWFkcz0wIG5yPTAgZGVjaW1hdGU9MSBpbnRlcmxhY2VkPTAgYmx1cmF5X2Nv\n",
       "bXBhdD0wIGNvbnN0cmFpbmVkX2ludHJhPTAgYmZyYW1lcz0zIGJfcHlyYW1pZD0yIGJfYWRhcHQ9\n",
       "MSBiX2JpYXM9MCBkaXJlY3Q9MSB3ZWlnaHRiPTEgb3Blbl9nb3A9MCB3ZWlnaHRwPTIga2V5aW50\n",
       "PTI1MCBrZXlpbnRfbWluPTI1IHNjZW5lY3V0PTQwIGludHJhX3JlZnJlc2g9MCByY19sb29rYWhl\n",
       "YWQ9NDAgcmM9Y3JmIG1idHJlZT0xIGNyZj0yMy4wIHFjb21wPTAuNjAgcXBtaW49MCBxcG1heD02\n",
       "OSBxcHN0ZXA9NCBpcF9yYXRpbz0xLjQwIGFxPTE6MS4wMACAAAAJOWWIhAAr//72c3wKa0czlS4F\n",
       "dvdmo+XQkuX7EGD60AAAAwABqtY84Jzh1UCn77C1RIge2AUrEpGZ4sb+ruNBzgkybHY5ps+c8Wtn\n",
       "CFAl/i4AAKw8ayCqBjOe04C7xN1LDZhorsHnUNfLOPFXMcPHvhTTCXXq8yIG5lxJ34WeVlgOHPH/\n",
       "bWETy7Gp399bE81MiY7zFTN+GA7xmUmyR8MDD1Q8gYX5K9vpdpKhwr5ULzOAW4U5x1Tzb4T7RwBg\n",
       "cKev9Eub85dg6jJTUMV8F7q8l2rfbXVqVS3NhKMWP5lcTZxlVlACVcC3cu0KaIgBi41wFpblP8TE\n",
       "mio7kpHssX9n6j8Eu92VDVGSMt0SuefhhN0W4byuVdbMQPpj7HX4Sg2zkENgG6zjN1dzZa5RfwAA\n",
       "4QngHtTip0GTVTW7X0V+yGBZPc4GCVYJpfSGsTk/7mbGbfzhwu8hh0vLxC4Iw6lJpzcWhIAAKQ0V\n",
       "rVLim3yK9D44FPjhEDatCurP4Pcyx03llK8AA0+Hwg1LN6NQDWvfTb6dJLNCQSXOoAThVABAYOMF\n",
       "XdHREtnnNMbYmRL1lWO/NpnLvQuRY01cHkA5DFXnxX1botTit3/k4ed/E9dfIrg9sAAAC0SLV6QY\n",
       "Nh7N1TepL7wzeiasDLBgapzdK5iZfU0GED9IFqtZxnFSHJu+ZxZ6rh7BNCsmxv9VH862ai9ScvyU\n",
       "NouD0E2tdNUrPrPxPe3KOSnPAnIskWFnuLPGHFbNV5x2V1fsQBJcgeESSELt+bODCnioBAHcoABr\n",
       "rh09nTNgQwgONfmAwrj2aZqUZjT+SEsT3Q5EN7wrqWjLUwNhmYGJYeovfZVdwdKRxGBVggSERMmz\n",
       "dkCWmja1gMaB0ms6k9jowmOih5azsh70dqrWM0zm1HnxKi+NGMiFiMUn2IBQBhxHTqV4B96wJrUe\n",
       "fGwC99Wb0eQuDOW/qPrm5iD3Ku/wDyVAM2IRCDuavpG4Zt3bU6jLLrRnefSOY8JpshPsnOlsvKS9\n",
       "ueUxCO+kFazE300ZJYm2PFN7o0iewxBv9W12KutUiG8qBl5QnRJmob094MTbjozwjZF1lahqEzIH\n",
       "QAC/7FgAAEMvT8FFg4dRVaJDLvM7XTjYfpAd+Zk/3WSVl6TsanWAccY62FegTlO3x0/vpCpSkM6/\n",
       "fyo0NoH+7aIFYWBF327UDluCGnTfeCpncajjcwt9LWxG2/l7oracSE7hzwC5O78Fs0B4z3IGqXog\n",
       "M15TCDB2vQUd9SrRcSCgZkWjL6IBleomsvzxvLqzHjZVYuq5Ki4FAw9EmR0xQ80sMXfCj1hIENFJ\n",
       "5DXJ5dVAIAOOw3TQ25TLzFfz3Hs3WxEFG5e2m9A+EzpJFFAHYwu48vUS1RzVbKWw7eon/sRgmVTr\n",
       "8zriOGTcQKtp4x9dNqN1uuuChdtQbFZqgoju0LZg48lkbcebiJf+92EuRt2Kffj8cA/p4JfNXFIb\n",
       "Ja+IQzJt6GvVG8Y0KEzhPWxuy53wfCi8U4riBFA64f4BxICkJuZOpv9+546TbUgZ3toZAw9vWPcY\n",
       "QCa45MZBakkNdhQbvFLSbUACm1yck+pwKSFctLziAYcbKELUexf5YEjCzAkO2iMDVfdfb1zwTTkl\n",
       "ifX6ypzxBDltXI2ZR0H3q/IHqYUIUi7gGQLyrWT+SkwO1y0AIuT68oxIQHoJhirBRr3V5MzabOB2\n",
       "rVb2WkvfwhUpUXxcyGqr03qDPlgE40k+BD0g8WRVCyD9s0t+UgNq9u0Ude77+vR5uaomZYRFVdWH\n",
       "rdlVaMzmMpqL9ITDeHYQVvXUpF2ajySOzg/lcm1TW4DfirkEjEK5HQ57wkvxYlCOeXKF7T5i+2UW\n",
       "O0ZnS1b7asS9Uzjgfm+px+ObA1NeV6ZCL8YhYt6Sh+ajydP1RvG9tOLL0ETg518j8Th8EJD57U5q\n",
       "ALS2iuIt1s92o7tIdnBtfmckSXwY01TMtcy0m7yuH9AJaZ+4kYzTrNHzhF+0rMdsGXyC19UdMdk8\n",
       "3H/2GQBYqBF/2RAMsv/ub6vdM/LFGpIDtwmBdfiHwP7FG4y/BJ1cFnLYAJ3Ji/DgN+ctzKynFRWQ\n",
       "EDQMNcCAN6OxhmdmvhdYng3/2bpHzb4au7riZ1363y2g65nxM2GctEoIqeaq35UUtF8kV8hqZUhX\n",
       "PLL1xWx8oXHI02wjYu0F4iy3sIyxwr0WL+E5LAyBtetWGQTulrMVqsUW1zMC/MjFcbKvEccS5DzY\n",
       "uvNGefL8WwKTUerwWIONfQ906/+DhqV4cKO51BZ2+RW1h8jrUiBxgVz/gFfQdXe24XP5PIaqEpF3\n",
       "ZosJQzvBz8KJnJFu9WoO9BQruQaVC4e+JWESRssF1YbzQfTRnEzd8TTCPjujpd+VWFTXoC/LEaAC\n",
       "gNYEjOp5zpbUKOh3wpKLHPH7QWw10WAA/+O2/eGXkoWaEO8XjIhNCceeV1QtEMtO13CmJGyh07ip\n",
       "91THDCRxiBza4u2U87q8emSAkKh3c8SLW3aVnorytL0bRryLl61fFeVVIcNH3Bhvq6wu5eVKiRHx\n",
       "aS57wqz5te06W+9kD2/7IqszEJmp9ZCbn9+Fivr5XBlXrt11v8h6Qu02uNn39YNC+/UDZK/6dxW+\n",
       "ARrsQBZHxgQs3y2cfXnmIPUt/LLSd5TDtFLg/F+ZDOKrKvZrmjXDTJXYrsFE9iXzxB4YKjLvO75U\n",
       "Z2AliKXSYX1Nzlttimpr9ElMAsaw4YC1uJ6XThYq1OChWbzke4d+xBPEFJN6/R2eQa8J8U+SAccX\n",
       "sqHbr13GWRl9/50hS1yr98FLTdkQ/97ILXo0ZpvDteI0cCmipajjFlUdnxtiwPKyoFPL5pxv9Stx\n",
       "wsEOmKE3qsm48hYdaPeXf9wcj7uKTQJzCAuGjwrAFMm2X9r7v/cphc0V6zNMrXDdQqq1/y1w38Lj\n",
       "XDzy6oOBSlTPLSSai5UqZ1FXgAdXElOFQ+HpTsxpgDjCkz2BFjL/3JN/yw8/f05W+zTEfDXHfqh6\n",
       "hkpWtADrlBITAmJp+1x+K9In17TydqQWGGTHK/EucwMJg53ghG5gg1bPJW900obKBKEE0lDZafHi\n",
       "84mVH0IBRGe7+CraINRPMyMiaxOKUQquFqFsKIL0U8tbZeVOZgRW4JqVejuSu9xL5gqdEgABd3v6\n",
       "BoAWYcfuoQAAAiFBmiJsQr/+OEAdiv/DYCc+A/SX3Cmf6NtDmmxwWHoYosEg4PwIm/TwMpL/qHLk\n",
       "On4XtqmWA+Obn+54Kfziw7mt1LuS7zqaOm5HOf/IBmZ3kXNNTnEVRITsSYv2k4usedo70looctF2\n",
       "H2lhJYVwxyFLC/7XJ5aSCiECazEK71TYUBLTHhI6he2B0qFPkevqfYQ4u4vZ1yo6qi4xN2SBZT9K\n",
       "VrQ3YHP0QaCYJP4gZDNvATxoYyWa8Up+PkYSZ67m3FnjnxXynRhU3GlCzxdcj49dlIuN003XIBJH\n",
       "YOzNwdw/K0oNfJ89TD5xj+YJqjqpcP623KxMtRR/IfRHyXqW1qNTCEPMNwmKN7rccL/cwj5CAMPF\n",
       "nGkRpPIj7MIcD8qJXsChn6wocypvQ2PJRRgcYHH9QpB/rrBiuh6qMU4VnIt5qShZM6pV3Z5EOmBu\n",
       "Q89oio3zZCEuTwWRGwbjupCfuWNDgySUlo+2HZdtG8HMlE9kBjdddYDANP16RQ/9KazbNb4GsoFs\n",
       "HUeumfMS+mYyR2Zn20+H5Fja19HeQsDk15Q2O0bdQ+CN870EWU5KTjBlb6i9//3bElIlgKE89cS6\n",
       "0/+fNShVxcFGgyT7MHT3dyzbZjDT/9LJ4zMeyAjzVlsO4N9M9XEtVbocKdSgGqkyGgH0H9KI6UmR\n",
       "U1HfZGd65DKckn5n95Xpch21YlyrmfIlM7p+/JSLC6D0l9+Nzxqm5ajMgAAAAI8BnkF5H/8Hu5sY\n",
       "tTLZZ2DqObIAAAMAch1TLAT1/evdnY8ACd1sj8Kd2SpPRkS4rza7YREXaGC+Ua2PyMT61sKZ9rHc\n",
       "dS87QXH4LSwC4NoZLW1Op37oryZSNp4yeja3jhxun8GoVuQEBi1zOB7bW01tXu8Kcm7SNt0HmAhV\n",
       "YCeGJifFiFxrquIxFI/tvqAwoQAAAUtBmkQ8IZMphCv//jhAKT1IuGBHKA0X7JmAIyO2PbHchsuZ\n",
       "ryrjOb0yXvZyMP8kqhDbfzHNsFY4p9phoBdoheH+N2uSIjbAqcyi0YzbAfY1bHpBtcaYFkqQrvbr\n",
       "m1pSII+1N4OB8JYOZYNB1Yu5OzYj7Fz0mZarjtd2r7PRT+4nvOeX4FLhJgmDqe7GsULAvPt5Ghif\n",
       "JOG+rjWkzwRZIv3OC2lNGFhozLV4ickIsxkP5aJVS7kfJXb3qK95OwXbeP43Q6RbfqgZIyJPWN2M\n",
       "GMBeIRpWzDrI2vZiIcEfF9YtoQCDxLzacElCMoNQMQxvBPEW6XPlnCWw/kfr3MpEzkuo4fujVn96\n",
       "vkS3hwzCHqCwXZ/pg8L3Aua7QlJqOJkQO88aIsWbbkYFmqWyFDZTiIUnhXdGx81jOnU/iPCE8DH7\n",
       "1PWu3Uuiqf9JMtjkAAAAWAGeY2pH/we7mxnu3qxB+CMNWggG1MDDqC9qLmxs8pJy4d+XnFp70zfB\n",
       "oBGG784Zr4AkvAEaVtxd852rNB0vhroKP5ly8gxf1t59dJKCvM7ZbqSzLK+inj0AAAB/QZplSeEP\n",
       "JlMCFf/+OEAAAzZw89jpAETGn89gcACzCjOGSaDlpWJvusldql55i/YkYKSj8ttC/W8YGd04gllL\n",
       "4EaCqKtSA+D6/ovGLfMcKOniOI5RAKrkpJkg0pVpzSF/vxnFPtfDGusnYyu9K+T0zwaKTT9zn4Gc\n",
       "SGWX7iaxgQAAAJtBmoZJ4Q8mUwIV//44QAADNeqXrwa96JvHI2DBSjQAtlu414+Sl3/3yQP4PR9Q\n",
       "dsCvRACj0brCwkMPoNy1xrcvLhurFbUWIEs0khccJIIaJGVvTBhoa3hqwFc69Mby7r0eJLKlIasH\n",
       "WTritjTMgAm/dvNYCsVIPvXsq5OLH8TkonQqqA1xRBrRbrD1jjucrk7+f8i5q8enAHMmwQAAAKVB\n",
       "mqdJ4Q8mUwIV//44QAAGRs8UDODQtMD0HPSb96yOt99FCZ4g2ZOJBSz8nVmX0EfIEl2M+7ULyLOq\n",
       "Z285Rm6M6xCOiBUQVZ821vAzJ0WeIY0Fwc486vrIhb8Q8d7Bf/yoi9wUDpoZj0CDvTv58RWBSceJ\n",
       "EZp0sb191wgD3PU/yvTPa3GlSzp+mdnp7mEtkFT9dr4yskmR45KTLXYckz/IpwS44rkAAACiQZrI\n",
       "SeEPJlMCF//+jLAAAZ5VeFtDYqpG/tnR5aAI7ubNkouH13NJQOM+fOJ16ULRddRzblLplo8xYurz\n",
       "k+0SnEOGcjfK+v9VnDusaG0nyC7MFYQo5saZTnv9ZnM6M/d3g51st1pReMo7SVRIOX3VrL4WTzmC\n",
       "GKZ8dr/ZcFAPUXxmDv6KmPxrnvInTBAcFig6oWptTtstuJ4eAvWGArQKOfcgAAAAz0Ga6knhDyZT\n",
       "BRE8L//+jLAAAaAUOpn7EAFrKlW3qkfXL9nP9JVC7pzK6BHn5RHaLc6gVrrhX6iemsuAHxP24L3j\n",
       "f5wiU7OQ6Hv2q0TD4o54s6IuT6l4+4UPzcn4nCRjok4Tg0T3hFiGH8b8gNIyRaaY8Lc091ollsGV\n",
       "z+uuV/m2os+/ln1lPiljGM7TZhJdwE63VQHeuJir0ld/ZfcDwp3p2SlNqHesGrhiQ+MkAoxmrZsS\n",
       "hDxNyiO3SBiavewP2wHexfMDPwEUoDh6KE0FZgAAAD8BnwlqR/8AANh44ua5IyeV9LdWDw0K81+Y\n",
       "ZPFR7cbLDNrQNN/cgIAJ1hvNVSfoKkOBtDVIdGdYvAdqW2hHwckAAAD3QZsNSeEPJlMCF//+jLAA\n",
       "AarhOieMKO1nj8n6wAbzzb1PE95cX/BIrNR4C4adK/kOLGDWgggYzpjrfUaVwDYCXnRwLTvY88g7\n",
       "Go9Yhc03R4Dtvp+W4fBp9joBOghe9l3LdZoVia0MgFjPUzf3VDxbOZzNFZ6yHeh1HplzbyI/k0jS\n",
       "ilctWWN0wywIRmJkYCDfqlXsJ0QPtdvU6VDsAG9WS3MGqvKYCxus9aSJfwIOmQ2TL2U2MFv+p6Vm\n",
       "/35phHyiwIUmfpJZkrYsVthZJAtjoB00bbPhuPA5R19FITnFtK9NC9WOUWKJdpt6hYmyyDRhT4vh\n",
       "H0ZMKAAAAEtBnytFETwj/wAAhwUQm0epFQi6ijj+3cKvdqi67RurIQkJ0d3xobHqRYKCE/cUYEAD\n",
       "8SRPXrlxy1eTnhtD8vv19kfI0PLe1Ym4rqAAAABAAZ9Makf/AAGclCuxN5AxV4gm8w6AQl2zrZOR\n",
       "5VNCabYcNnNb8eIM9yXcmDc6iV0wbsKh+It7bu1rFVXsLQm6gQAAAKpBm05JqEFomUwIX//+jLAA\n",
       "AzwaUrlWpQmT0xoXn95YoO77nOID4QPRBaOTEt4VdmTiAZ6pnItWWtDVjFmh+BzyQ8GkaFJhwU1G\n",
       "Uib7d2eTpkkm0K5LhTQnNqBBaiThwixpe/e/5NUiJHT3mDaj37Ub84x5lRc3cdqPbLNwXK0avDpW\n",
       "bjZwevCrRFBzEAV0PRUJGaCiAn3+WIaR7B0XhaZZHHrYaoYS5hD9NwAAAOdBm3FJ4QpSZTAhn/6e\n",
       "EAADNrtH8Klm/LY8LACyO27ICijIUv1ls7R4PuPSSPhZz7k/LNmFiydIVdeCtpINQIGgQFsvMzdF\n",
       "XP2o4A8/1/QLajZ1KiOEgiJHAO1dcR8w0XBKHix0n4U63TZL08Y9eMDFfoMwIAsVl/p2XMFM9QEx\n",
       "x9gqmKEpyUyOU9a7bojXy8A2YFsCHogCfrduEwBehQ+uTkuSByjXRD9RQY0K8zeN6PbtJVxnvnVu\n",
       "eHJzufWKsj1mcaJ9ZxfuoJ1xOaKF7WEHaxkvzX1Ul4775rOTqhGEF49yh2Uu7OEAAABQQZ+PRTRM\n",
       "I/8AAQXSKjonD1kv/pYyQAgCD2HKQnT4vmEgeYx+tLI9qHStdG+QFA7DHm3cYuXl2H5VtxNUAB69\n",
       "z0M9xGw+PrxsCn//rUN3QogAAAA3AZ+wakf/AAGlzpSyDheRwipP8jNdOALLWazwYJ78SjCNS1Vh\n",
       "tB01z3Ug04pQbiQZK6X4beYegAAAAR5Bm7VJqEFomUwIZ//+nhAAAzphocF9nuAJk5Ju4XhpqDzQ\n",
       "ZhZklIjm+j8uY/62gSuoPmI8n42Jf4h1xqTSY8izlez20AauwIFm7B4LYL/hMCGIVn6W3gb2xL+4\n",
       "lU7Ddxnn9Arx3m1bef1Hik31dP0zsrQmemP+9OVbLahcCIwPfjJoOCYkhrz8558vA0gB1g3GpCb5\n",
       "B2xukZherH5DABxJ9qF6qulsBBWvl3cMHJfM47UqeynfDy9KVaIMaO9paArZ1ZHc4ByOY5c60MfW\n",
       "DoR7vaDeKl8uxZhIJbl9CIO4nO0w64BjoGWAsszEDqMq5obP4zKSg/rRd2ly3Jz+EXg92eLDW7be\n",
       "+mdFvyH/GKP+a7UPT7HFUprvIrC7uXTBAAAAXUGf00URLCP/AAH8h8kwaeo/1Fq2s5IBbI93/gnl\n",
       "Ldyd4cRfGtcwV9TCPWYMhQYHszitC9u88nhWaIfnc9lsNoroWwAH87zat5TdJbwyUacJwVCsreyz\n",
       "xpE4tn0YYAAAAEMBn/J0R/8AAZybEIQ7f2clnEZQWKZfT8utJQrfhbEGZhiwbqR3Tc5PKdjVVx65\n",
       "dugMAJiPabRJoQaemLV8K6L7RA4YAAAASgGf9GpH/wADOSVLVwq8jQIe3Exbc//0an4LzKxmBXzs\n",
       "CqYl/8nIqUrif3irNexikRxWWb4FhYAS9x2vm6IBVQd2mBl9T4JWMmKRAAABMUGb+UmoQWyZTAhf\n",
       "//6MsAAGUuwRVrDRABGdtGvtUY+j7P71LW2pQhUIMi5Sy0H7nEgt8wCl/gjw7utkA7me4Rd5iirh\n",
       "GdwYiD4JShOl6IFP/GZXHO5qRcHB4OVbcQaDpUBoRzX3i/RpDK5RA6iK3Uafg9CulNyoEqHoYGdS\n",
       "qoypNtjFSgayQ+DMbnlkcwOBtuOKZ+EcM6AhmIFT/oZqT7TZu6KDho8ib+UEAgTxIBGWoNrmfi7X\n",
       "YgPnVcQKCBQIavrUYKyZtnB2OgORIQupIu/Tv8yghN1VjtzG1JuM1v9f4YECiPKJs0ICbCSiuX4S\n",
       "kSevbkdaFUX5AZkvVYJD0mhxSNrmrPES1IxzDSKcVH/6ZIgz+1L36SimFcMyahpETHkoHHEDxhaB\n",
       "hkNzMkcWaaX3AAAAZEGeF0UVLCP/AAH81ROPCygONy76dLbgdWQAkRs2nTdnrRwFch8ORGsujPAc\n",
       "w1ADlLSibiAgCcCWdb/bRtiKd2pZd43SorzYyTMGMV4CnP/hU5JC31dfXWlh1d57tEx0hQalRhMA\n",
       "AABCAZ42dEf/AAMvrggMaal4++k/Kee52N8uHZguQer8oL4RZ5/QEIGNbFfRym2TS6MNeWzSw1G6\n",
       "4qH4YTXMlqT8kgRNAAAARgGeOGpH/wADNoY2L5dRET3/PfcplSGZCY7EYCerqdAdgo+V9hhWQH1F\n",
       "PhqHVh5p2ntHUAddjIZ9ARd6pZeBlTchBCYCWDAAAAEyQZo8SahBbJlMCGf//p4QAAZGe+A7hKAC\n",
       "MPOiO+H4hGPEP2+kV+R3wjSYUGeXc7g2lXCb0UsyjDPEmQZG07QxAF06QVTrvpMioR2+2YyBVm8z\n",
       "Rd5h7AmS0ujpgABEEJGSngon8F6iQ63O56L9RF+2aZ+uBHF4ooXKUYNDqooJCGThrUsKkG+TsQHO\n",
       "vFIXPvLsefP6D6zaYG1PsPQx1cQ192sduQxW/g55mKqM7mIjbzlSA5+t7q/kK70SV2o/V6MMpCif\n",
       "0rlVzKZnzRK6ywnptgbK0ZtkzEPJfuGdFe+/NLwN4CHutV5qRxuHNhDPbcy27YLacIf19XyumTi+\n",
       "qIh13jm6J7bmpQgmBfW/r/dNuybIVRnyne8AKPH40yWo02Ai7IAhw6w8mVllywYORQclIEbhAAAA\n",
       "VkGeWkUVLCP/AAH8sdca4HvLmdA2dil42XvLhAN7O8iswKvBDKciFw0LFUwlrbIfEnNP4g007a0O\n",
       "Qo2Sj7gCcN3+ElcMAJGj0xrHrOvwn5HeHCr0nnjAAAAARgGee2pH/wADLmSoPjmvzahcy6ZOJ/c5\n",
       "lanfyFSNTAJfpw6dfmYR2GJOGCtpHwg8OzsTJxv59T0J8NgZiU+4XJNhJwAxREEAAAEdQZpgSahB\n",
       "bJlMCGf//p4QAAxP9H08O1ai5x6R7kXANddxR4WH38wCbWK33GCTBrNV5izkn9JuaLdbQQBTEbCd\n",
       "N6r6pnghQ97qvRTmJDtVQ6L5y27CrjBMapSjtxK6c+LVsM6bqDLkimRB8pIkZLLh24cl6p/Ferol\n",
       "diaFKSaXU8+7+7Qv5eWtrWeUZujE2II6hWB2KbBzpfnuHrplNtXSfd7LEu/9RfLtJSDu4PvUrj/e\n",
       "lSF4Oxf0UtRu4yWtdahqfFVPd0fTnvaUxW8if92jd7abUGLRkeKlCob3eypg1N5LU2OqefXtf94y\n",
       "uXmWFsYOmNkgtjGj5PmS70yE3KjN9WAngFwgn6TgG/fZSxD61vgi/vm25kiKdPD7iAmlAAAAa0Ge\n",
       "nkUVLCP/AAH7cNGeOfccrCjUeoAWhzmSu5HXNxi053GaBfEeUoXlceoBZ6cu8pUqCIBa/xhZKzrq\n",
       "IYQrCeowpJ22NjQW7rnwQ7bYNfzWzt9MDot1cvLZkvYOLvxO/RDxo0OcDJP7jollAAAARQGevXRH\n",
       "/wAGSvktvBc1PA/6HquLHm4lgZ9C4nnv602g9pTMPEICXziU+u5xSNvrZLw61vhcJlmv1dOLVhcB\n",
       "xpypPvJwQAAAAEABnr9qR/8ABkvIsaIj2ZjGS7lI9GeQB3OVlKafViYS7HuVFDfYulxCq0ZmQJzB\n",
       "HmFoYpiJA2ePzBBlSfiV4ZKBAAABLUGapEmoQWyZTAhn//6eEAAMQgo1iJrxlFHIAWwQm+NaO6wC\n",
       "5UAou+OSpvWADjSRuept13p/1YmxEblYvmO15G069Vf8AJHC/pAMD6iGXyJ85t8OnaeCsHXYjvZP\n",
       "QUUi5tKsvVqLBsnS5k7aAyUJ1Zmc6FaQH0abfPHH/hCx8utgrKVw/0nvCEM1UU9FLG/7h+97WD61\n",
       "10Oenn2rHYBCIqN/e5MaQRK5McNtqZRGp/pN6Lp4MGj01XWRGy9DDX5K6I0swqHB59DwsxsJGXUN\n",
       "2YiCoFf49L2Z1/tGZOW3Ll3IGbseM9K2r7IjWUsS//UqsksMArmem6bebRwtJSdoXgCihm/RX+iA\n",
       "pgIbp63GHGXZ4rkDk2fZAzFPj2bcGluTQWqbBCYlkKCnfXMwaFIAAABsQZ7CRRUsI/8AA/kNnnWU\n",
       "6jkvZxoUtw5ClatgX1HxBiFgLxr0wNd9926rYRU4o7AemECjmiOeberNJ9lGoksWYpHYTvQc7ZDJ\n",
       "GyBwoFhVp32qAErDxNXR6N+7ETr4vz2EyYRNhx00NqF2MoTjAAAASAGe4XRH/wAGRBF0JGzNVKv2\n",
       "UtPtK9Cn4QLPcoqnnEPlmGx1FuugxpfC14kmAjlGFW+o8ac2rsa9FiMTvySWjsmFm0KHtYDjgAAA\n",
       "AEwBnuNqR/8ABnJH2e9uCUUMjw6DdhVx1pXqssQr84YxkvUkTvwRbH7QEqCZhzw4OMKvcKZQ5awm\n",
       "uTMOSnUS5s40A5wVh153OGwGzBIxAAABM0Ga6EmoQWyZTAhn//6eEAAMOuXnK0ElPsXEAH68jCw8\n",
       "/2sm01Jcw1baUYQUckw3XyPOzMlbZdj91fz0k0wKZrEevl04XsRYAE5iHAb4MajRTjSc51HsViik\n",
       "8l1jYq/cpX6n4cu6CGMdWGPVJf5qHu/Px3uuIWFxz5p2WnSb+aHPo2whw5qDjgBhs4rzJlgrvOVP\n",
       "tsGRGs5gVD72xIuq21tH/+LXyQaHBgmPVXI0Oe+ffr79joW84Vgaav+iI6PGNr+TMcfg74b4ziyB\n",
       "58XbUdSY+V9/+57Tfpb8zhFiGmn9tsdbNUyszUw6bD7juS0eUSrm6788P6Xck396LlKDqF4K3yZB\n",
       "dYqFMA0IBhWyOllCP+/PYaoe7ujSSP4lieWEGLoN3fVXaBBrmBr3y8Kr1KB1LWEAAABdQZ8GRRUs\n",
       "I/8AA/m4LfOd5XABfjE7yD6MZh8XIULoS4+ipc1PsOBoJIkm8GaQ8d0duedLEVlR9w+W3D01rfMA\n",
       "U/f6HhR7qm5j1GdmszZlG3+eNi08a/elVnhvltMbAAAARwGfJXRH/wAGbv/p8W/MOJGn2zwWihxv\n",
       "nAIQRIlezo64xqiwbBIrzR1Sg15xTGPvlVSTulLWPIiL6mq3j5Gz8evS6cz6P6xBAAAAOQGfJ2pH\n",
       "/wAGckvNy547AyNQSeoObbBJcGlXT6+goM4qviZ1GKsEqQKB4o2HlAnbmoaI1ZY86VhgQAAAASFB\n",
       "myxJqEFsmUwIZ//+nhAAF9c642CBMUV05C58b41RRu/8ScQhkInzOW8gWYIGihm+uxiy/qy/tMmN\n",
       "vlIf5nTm+4+oBMaBnaZyzcVzICV2gZG+4+mycwmd+I866gDg1e4GZZOrvPtwLO0Po3BFe6XxIj4E\n",
       "q6NLqTrHHu09IQE2NCOeM05dpua034XxbkZfUyeoAYw53tDCk8CB2FuvH9R4WBzC6zj3PNEwKM/6\n",
       "FUtSFBcA45l89yHDLg3q/hwnal6hPec1vWAyP0SD24Bbrz74eABAU1TwMjUeZctJp0M0GFbXHj9b\n",
       "pNf06N2INJKdvriEthPiZDmcpLjOMd2gzF2pb5CNz4QPSaQdf1JJ0Yk7ZYXCugwl7CPiF29bq1lJ\n",
       "8sJgAAAAX0GfSkUVLCP/AAfGI0jcQtEcuYvdoRNzCBOxB8HqfyfOJNvfl3zv7/aPAssYyDk8mvUI\n",
       "uZF6nH6TiU+xJxD5TTnMV0NlB+HLRCxVXdFTAj0PnejABGFtSUKhpObMAJENAAAAOwGfaXRH/wAG\n",
       "RrW24VWn2sjm+nLPABZtb67Dzwk7eCJTGN8qqotUZFH1RHddJkO6wAfF327/IEGMxRkwAAAANgGf\n",
       "a2pH/wAMlJs24tF1QMKuELgCm5LmmE9Kyltx+ZBXmLyfJODu9R+NsXyr30GGlUf7LHSHQAAAAQpB\n",
       "m3BJqEFsmUwIZ//+nhAAGHXVblgcxxkACK6ip0VtJ2GzwmijkYEVnWhvA48dB23JYPQvth4AIXTO\n",
       "q4HeQDM/6gc/9aJPt0CrmgkVXZ/2AtEde6Iz/mqKDgNnR9jdDcTfOLUYeSesgeNfTJKInRUX/vJh\n",
       "+tMpDfRhyS/GgxarIOFVjFz4vSkIIM58IGc5tQrPHgBtS/IKdMg51ip+mfVbcJAMdTx2/7sazR4L\n",
       "zsrLtbb/qIR4R3TPrx7hfl73MIRl/5lNFomwwETWbXNVKiyiuUfR0iO6tKPYwLqMCo9G23sqeDe4\n",
       "fAMzOYYTmKyxvF2TCVD+WGObuxoR/dIo/uDfLWXs02AAK5KjYQAAAGVBn45FFSwj/wAHx2/PcRKx\n",
       "GIm8mbC37655QWEbU09IHwuwCyk2dpwGjw+l54v8deE45XL95mD30vR+BSY27wKi6gY8p29K3x2L\n",
       "FPeNeeWugK7spNIOQASGoCNWjixNOOHQkQSw8QAAADoBn610R/8ADEXyZO5ERhHU4R0yMwu1LkzB\n",
       "xamNS+X7q4QIBHF2Xy5Dh1tchSJAXOac78yfSbSYHCShAAAAPQGfr2pH/wAMjndnxNx09mIYLPDG\n",
       "RPWxScDnTT8OJEeuY9nudN+4hL42JO3LerjmvSxIOZ1FedudE6dpokAAAAEfQZu0SahBbJlMCGf/\n",
       "/p4QABh11W5gIgAaHjrmGkG+z0aAXaQJaAcsJcYWHtRYy/Zyh5E0dwBtv+iTk5TiChuPz2DcwMVY\n",
       "udSmyBmURwz7mTSCBLMQTbdIDN9huHEnlzx4brViVXXz5oJ48tMtzUiIxSoM8QcyvEj/rwDq3b2w\n",
       "Ermm4/vMSap2AapgQlD6HAlo3y9EiGHOBy+6em0KqLvVILLQrlvhqxc9coCzSkLC4u6/RoaMc8aS\n",
       "KZH1TK349R68H62X9l6GjF2AR9a+n7MVqamAT3kKwuh/tpAtmgPJlagUBuKpN8+A8+EzNNclerCo\n",
       "wvHiW+9A03E8BTdNhcqZo5dOJnDX32N5J90WzmCY1eQoaO2hPSXaKljsi2NAY6IAAABfQZ/SRRUs\n",
       "I/8AB8UsiuHbUdyKYkdQ96ePjxE1iB7TO/dRJArNDqLu8n4tSAMHL1pS4uLwONgL65lh8CXWm7Mc\n",
       "WpqolZoy4pHQWd8LGKvG5IhMgAmF94OOhosqtqhogqcAAAA6AZ/xdEf/AAyU68eTi7MGwT8SuAVO\n",
       "ZPOrtFwR1+ljhyRaolsvyeS8mrIlIcyL/90K4C0ajqb6gkDuMAAAADoBn/NqR/8ADJKlHjZPaA2I\n",
       "SjdxO18xXvSfEqhgt5jii7Ly22dVcpyM0Aii8mAq9zV4LSpgADAgZUsgAAABGUGb+EmoQWyZTAhn\n",
       "//6eEAAYkRXWAaQAKC2qAO/vk5/cwrmv4wKfPs/QzdQGneMlqsKjrZ0bbgHv1NE+QFQWtztUi6BQ\n",
       "MrbNRTPCILFq49cvyh5b11K1aGRkLwL3HVBVUYaN8jjvdyDwK+k6pZA7CEha/sx45Xy3L9EiplE5\n",
       "0Xq+nA5+VGssAB4p/wwWDVrC1XWeDsHIADCKYwgx//kInt7FGjj8ri7JP04X/XgM8ujK1hS/wr2T\n",
       "Nz1tsK+kwzWM0KYVb8skEpWUDb6QysJUSi/2VwAFNqRx67kG0QfRw8/30HCheJqatveZwOmP1CVm\n",
       "LJSApXhC2Lr1PBI7wgibsOyKcp5VBAMd0nQdyDqyih0jmqL/0s6vH/IxAAAAYUGeFkUVLCP/AAfC\n",
       "gVuhZklcT9n/8BRNaNaFHugaWtheAvO6eDIlBi/Qg1kmSVc9i7Y+z78liMr4Kmu0mOU4NhIIjVxE\n",
       "g8OO8LbLb7mr3sMkDVFsGCZq95+PsxRNrfvsFKIAAAA9AZ41dEf/AAxFhBgt654hGeiLPtisgLMP\n",
       "Qskck0rMPECtE60OeO9QygE+SVIWfBrCtV4s38AK126ca4BfYQAAAD8BnjdqR/8ADERphRcsf7op\n",
       "NzANubt24cgBlUnGSU141rTMQw1fg7hbExFE7erDW90KJTjtuoEFXkMOpgoVY0EAAAEKQZo8SahB\n",
       "bJlMCGf//p4QAC/65+BpGgULqN0b9i0+LG2KafWcb3FQnIJPdXCbMdWOElQrGyvQ2Q7ZZ8uyjf03\n",
       "bp97gV+ncZ8JVgfiqM3EFtRNeVuisaG7lfiMn+4nE2t/YjT98jxXtzTWJPttUqS2qlcB7Sjix8R9\n",
       "8S4y1q6kdkyDqIn7+2h7rPp+3W11PHWwQr2D0sbGplRscUmFmljJMVCHan7jKQZW55RkaEDrK98r\n",
       "z2EtwrpGViR2h6FuBHYhbEfo2QfHU/vgZZqqg7HDNjLYqnHgaXu+6WWzwvxdHDfeycxLVEBLId9n\n",
       "Czflx71fUhWQTn8vp9dHxHudwPD50py4cGl5JWUKgXAAAABUQZ5aRRUsI/8ADzbhtzBvGj4mfdzw\n",
       "Ys5FS18sI0jg/HsgvMqBpb4ViHMS3viODOWPE3B5vSA3sFM/24lMzRqqS9fGfMavTWwXtWQeWOIT\n",
       "Dn3tFxetAAAAQwGeeXRH/wAMRTCGXbFgcYyCNdXXpUv81k06zXY0emWwZKwGctenYPXo6K/G3r96\n",
       "kIQKj67TrJCDMhySnLBCLg6g22AAAAA/AZ57akf/ABiJKlu2IiRrEnIAi35VDykwkEjSny7ADX8V\n",
       "EfA6BQxFEKBlCcpg2JsxvlmKXhpxVRsLijgWLYZBAAABGUGaYEmoQWyZTAhn//6eEAAvwhquKaGQ\n",
       "nTfqAFqDxMttYDMTY2bcIPpflA70hJkoWYLLpQQOQ3i+pbRPrdVgijDB4+a5oRWwQH+xBTmElCNL\n",
       "3X3l1uokzWDC3UXemFeFugyO8f36laAt9BqoVML5gpla+xI82GmMlpmFvim0aRJeLRrV+Aj6cAAA\n",
       "Uzf5+vp+CDP8s/+neMZjETeG/nzcSMWUgLt0yKXU9rM+vLx9cKA8Ddt9aKdfUIUY+gDpc35/K9mg\n",
       "9DyuQ6LyswJFSbW3x+nW0OG1mhjxKCf1q9OEzAwHR8D3p4NPjoLaDQxFD02m/LaLL/Llg5Pc9ok4\n",
       "VzPTet6U5bexOB2TbTNLLcGXtLlAo9XwI22MKztXAAAAWUGenkUVLCP/AA8uu/CgD9SNRQZ/H7LK\n",
       "GEACBbHGNCSCz/GLDldcm9D1RTPruUtZjqc4n/yDtyLUJBv1yFlv6RRd28cnrFw5wyk28uFzMlCu\n",
       "H+HHnai+ttuAAAAAOQGevXRH/wAYiwgwdbD9z1jg3GH6Soi/8evYnhV5u3zPPxRdgQw6fQXk7zs1\n",
       "KfPRpqywzwewOzWDFgAAAD8Bnr9qR/8AGIhthSDnZUPgEUkkVws7Z2oDFQQRLztvAAovzagiAbJg\n",
       "BwrPXdiy7YHH+JuaPiHAXQd33Xq494EAAAEYQZqkSahBbJlMCGf//p4QAC/IJuPBJeC6OAEQSREX\n",
       "c7uOfi0Vuels6xgdj6DVcl09dldTOHO6oLrpan+T93pcPwHO4Mx6ingD0XTMSqz8BxHLk5071lOi\n",
       "xYkpJpQfes9F9XIdW1aYouRgW/ltb+xkhdPPFh2ZItgoNo1ZeQ6kB4P7o2+3aSZ7fx6hDDgKJcK7\n",
       "dR+KgCp1JwXwjNQ8ICBVX/pApq3Yv6JQRXd2E5J5dLEQku9Qh3tkjxq+PvCpjm5Sb/sMcExlzwrd\n",
       "lKDj78W7qQBSN5HDCymLnO1toXbPVAs1ObT+ZKuEzGvoVkiogaaqmvLtx2AlODzETA7Y8CcVrrEk\n",
       "b4U09VzeBsk/pjKp5A1VuzLKu5rbUAAAAFpBnsJFFSwj/wAPjDk7Ao/olRAU2CMCe/iEhQ/uQyLk\n",
       "MmmZw5+G1Q+sEk0u1NXk0WQW2zPD+L9gwrWSdCMTfPyeEBa3F3lWJkq5gl3qJQAtoKxy1RcHAvdq\n",
       "eOUAAABCAZ7hdEf/ABhrySWFehRgWqv0XGn9mPVBvX6dGD2VYT8sjU4RB3e8L9+kNSs+/L6i6Bbt\n",
       "p/FSD8vLSOSpRK8Ina3UAAAAQQGe42pH/wAZKR9oYVZb0x4mvG44D/lgjluKeu+9mjXgsAaAnJTp\n",
       "pMspALxJAroDorKWCBm8EcBN47oqabFjJg/JAAABGkGa6EmoQWyZTAhn//6eEAAvq4RY97gA3vfG\n",
       "s05KDYNY6ERObskzF21U7yf+WeWw3fQq6t5dnHQ4BIBj0U/hwHTu2grOaY0BLou/07uejpHT8KpP\n",
       "T/JtDgaaKI6y/DRzROh0EdpxowCMpzZ49vf9oKGUf3XRU7gDSQwOcE0b/6Se6KIPo9hVF50hhOCk\n",
       "SqgtHc26kUlWtX6UZz08BROz04u0q4ZTPr/xwzKnca3sgWEIXGCq37/wRDeAw7K1zDgi+OOgwBEG\n",
       "XEmjHSoSl9Tdinzao3xCqS3omh2SH4SmCJeZDHfj1gFlOtX/xt8qWwe7PDGShMMr++6josTFsPAm\n",
       "M37Uot8wSEOuVmYO9PRT0UwSUKEKVcay8xcRCwAAAGZBnwZFFSwj/wAPjt+fASv3BQOvEUAK7m5Y\n",
       "ctr/GbMU4RP4kbyvr0F06WEqxpGZb+kDGJBtm1Fdqupq4GVJmzExHBxezAKFdzVNsyJwLHGFUMc1\n",
       "TfKE/wLJNmxvJG8LK6flOtnTzwkAAAA7AZ8ldEf/ABkcErML8VJcClw9zKzhiA1cBtMvI9a8lAEs\n",
       "6mz2Thj/n1RaqXxnftGoII2P315evTB8BF0AAAA9AZ8nakf/ABkpKWGHqBbLHBzL5KgbZAKk7a2C\n",
       "xwcGEYtRVhWadHm8lbCdOjZwPLuBGroOZcOHES3FAvDdgAAAAYJBmyxJqEFsmUwIZ//+nhAAXXff\n",
       "wTcfaDD25RLNSj9vQa6anHFjBj89rTaCxtEUb7QBfj/OyaYBC3rW6OaeX0Sf0wWV/Acas4pzxStH\n",
       "B0Bszq2jrbDR7lunz8nzjibxxVwE2d1MsLpILLYZbNUBwmXrwMaphJBtv0BG06LOVK8UFiRgJwM0\n",
       "vyudrr4cmCvkLCSeLtm99goRQL6yQwOD1fS+T3QSMuirMTntkUmsbBQG3YP16kmN5lR7abh2dx28\n",
       "TtPwLTT1W3r7qxu1PD+VXUQ7RS3XztXRyHuq8ZzzFT5Q2Ckz6yvT8N0qkIlTdZCSz/EzQhOUz29b\n",
       "saJLchVmWlMWhN4WsJSO2Pvfpt9Yzw9lAwXOtK+7Gxr9lIkUmV0GZwRWqWm7mDB1gFcqPC4Alvse\n",
       "D6WwIiGPzX/CxMS6ObwWB+RitR1RU9S3jaDRubJ4h/yeqTVxywxxbtsv263emV9OcY2WhcwdCysZ\n",
       "TXa93xnIiuHQfUfbcQNBIgnKito2U0U+2AAAAGdBn0pFFSwj/wAeaIIDBsUeKjFA60PLjn/9/ySo\n",
       "DnzWcabxhxvk76dMr7yVkU1ma6zDtWInfmPgxGyt9DYyv6PVolH2dS9hVVu9UG5kc9VBmcRvvrZJ\n",
       "RKLurYQAkRjTEW4roNcxRwn5AAAAQgGfaXRH/wAYg6Dy2BmoQO5nIB6aaApoUuXVk8pmjZRbq1MO\n",
       "dEZuQXBPt+rfNolBrCHIyaE4mbMd0VZU6ykvUEiowAAAAEABn2tqR/8AMRJUv9QoaKrr5kTMi0dC\n",
       "yxwgqkk1ILrfg0foz5Kw+JWaz6YKahB5LQ5+pteDFQmu+p/FjUKJ7w6AAAABTEGbcEmoQWyZTAhn\n",
       "//6eEABc6y8tXoAEZGuKkrrqBCCiec5cISY7Ymc2rPvMnda+5pZqyol1jCTDT6u4FxHBaYjplYXY\n",
       "hWYhbX5QYmpwJ6K3WBMtc2ADysWWRK5SEs08FdmZj5d/CtIrHG6qcKHsljQZqKz8x9mgmAdPI+e3\n",
       "w+JX4+7D6Iyt5IAviwXc1SRd8MksRsrGtQQW/Q0lze+vZT4k13gOqUVjLi+bv6AN1MJnEFEzZiyt\n",
       "OCm8yLgIMxppszDPZS1CIlBoA9+34igg6ALztW1A7Z9fLtKttNtuczSivthI/Rkhd5lcKVcWjK/e\n",
       "5Z4IteTm1AfWMglyF/6S0eyxZ9dkoQ2CKm4x3WpiSYYxcKCpKLlW8s1awviP7uCQnTaFYvCtTFT8\n",
       "PLngwNBRjolO0dSStTLmYN8tu7cEQO8/adRjjKo+mmkGGje/AAAAYEGfjkUVLCP/AB5twzohlTJh\n",
       "vE9fOMmjnKmAxHclGKfebIRHT5wnrovJMqZ70YJzwEG1XvOuuywI8GRh0jZUGkGGbpBIRm4Uwz0s\n",
       "Dw0lBlQoMfT3LbKTLVtxeuJLrwVhfwAAAEUBn610R/8AMPf/UKQv/z5tSAa7Ip2wm991ulJTEnrr\n",
       "FcisQPwC5s2J97wxLpm8KYOjaGfp6Bn05SnE7Z6S7nAFHRw8eT8AAABCAZ+vakf/ADESPipcOaKL\n",
       "MNj/4wQeMD1bj86svzezOrTWSyI6g4oKxuwZpvOSDz7Hn/vfk//zrNoa9iUbsotGgk1AAAABTkGb\n",
       "tEmoQWyZTAhn//6eEABdAVcGFlCm29IAZ7IgCaHnZHAprxIRhE0OSvTjcsgwf8ti7g+b3I7i++ro\n",
       "7aiaKgqOP0Nl2j+/TUmEm7ksYVpXvf7cAz7eLboj0hy77Ip3udQ7A9iuF7QACLd8V4YgddZ+t5YY\n",
       "PpUmN6Fzacw9LWOwpq89ymXrPhmXFQxpN/QhwcbyFle03igkE5JsqrX8wY0M3p9/EGSz5cM37Y8N\n",
       "sHKj4I7ezt2LwA42mSwxqvVmZTvH08c4AGSbgUkAiZB39p+TWTGqdqAMRIqgsQXrjX8PtzHU7Xzu\n",
       "qAG8glVOp5kxCNLljZIbFPRSgcmVob+8laWsHnEU/cNmh2EfgKfjQH7UALRnovrSO/Dd0/z3jktN\n",
       "C2M5kFkaDLAjNbf7YZR0i65EJbV9A19nJh4l/MMM7QqQaLKao/J4CNIi1sWue2gAAABlQZ/SRRUs\n",
       "I/8AHm29tiT3DlhduXz0TsnGjGmEFlcGYXpRCtLiUaOA9IyHZsytfzbuPlnu2M4jJ9UfROnPXwXS\n",
       "phOovWrPfaA1wFCY9eCb6PKx5k9ynS/AAAq2sYzB6xaQ1GMWI3MAAABGAZ/xdEf/ADD4JIAXNtXI\n",
       "o1OLcPalQ6RXXdkPuwKJPKkR/ZCPJaAJ4fzzRquCqu2WWWQG6r22erUOqAK5ykI/2c9GG6gnvAAA\n",
       "AEYBn/NqR/8AMRJSUAtO6QNzy7HQ3eWq5lNII1UkYQXe0qtloAwNJeALteDSqFcWy9LHEN7H7fz7\n",
       "wVG4Xe3xspHuSf87oCRgAAABT0Gb+EmoQWyZTAhn//6eEABc+6E1BSAA0AMk/1IG/rgUUHGWYURY\n",
       "ufrspw0zHSmFdusR24lmd3VMllGKo3TAKIzOp1NuQgix4l8oyn0evrdAwjIRueVkQ18B/j1PN6g6\n",
       "lTAGXGcWYxF12+u1QHe3R4CCUbsAIZNWxnVEjtPzOZSJOEFId+r/dMdMSZCHYatkCF/qK03oOmVG\n",
       "74oslwNJgM9Gf3drIOnkigGjXiOwyTJedOhOgFtak5Db6eQGTMsJu89ckevGJaORDVvnoMIKR3bh\n",
       "aMgxPpkehhQkvoaf+LLebxfUKUKuLCsHGqPLUEnbOyZydpan/RU7w04687rZvMmZRFcJoSn41RlF\n",
       "9jdn+I9jYthi5pUim6ze41Gu87H8BeyAK0bURi4o49SoFwrneNY0UkoDoOb/8OTMizIFGWFJ+LlH\n",
       "TW/VVwErLIagANKBAAAAZ0GeFkUVLCP/AB5tuilKUxwsqIN52fm225qeveIurSo0nU4Kl5Tq3Py8\n",
       "7NhO8NG4UCJPTqGBOHfp7tmzLkm2+CoMZqpbbLSOPXxbG8H7sjuRi6u0frAtNc3bC8zy4uk98pEw\n",
       "eBIJkSMAAABCAZ41dEf/ADD3djkUYQ/2X/hbh70qxqIrP32HREkpn1Rsd9syY5pKKULqnU0nz4+q\n",
       "1ZcOSLLC3So43P30KfoQWgkJAAAASAGeN2pH/wAxElLDCp848N/12bi59G3W6Jty36HKpdAeh+RC\n",
       "nGMomDJz5PHbbuJJzEY73sVaB1p1v3Se/cL2zypYRvsxrbCagQAAAW1BmjxJqEFsmUwIZ//+nhAA\n",
       "tn80kLzNlGE9kHsNVPItR9jwLb9RLOYhYJqwcci4iYpOX4BXupzgdw0niTtFsN0ZjWkwdfB9diuQ\n",
       "txYjSWqi+i9c86VgZ1Ab7Ch+YPvSCK9HAHBspPS4M2uIm7Hd/en8uT0M6TeS/5g+zcDM75WCaZM4\n",
       "H6ZWWx+7SMEQ17j6zJZspuTuj6L00Ti2N9Fp9fk4Dev2NNYKc14uOfTKLODhuUR4pxhL5rjToYUV\n",
       "FWyVs9cQsqcFbQDfmK1DKSVgRRECNHMEW8PceD4A+bhHo7Y7pRaMwJa8ptTDYQLFdF4J1vMzqh1h\n",
       "EZR/hwus+xzfmP+GVu08X4xQJBPPdScb33ThmiQ/aIiAxDcH9+ac2jL7OsWTsfCQRhGyNOXfrO4Q\n",
       "J0yaEPq6nFc7v0wZPUvSWPe3wriwcTAE0Wj+2K1ValquMrP+BZa3ghUuBaZ1acA3NLYrwIWCfyi6\n",
       "2Z91QnCt9gAAAHdBnlpFFSwj/wA6ESU4BQ6pgbkhvfIu8AAONX3SqLn08yo2/CjDRMA2Az22DHjN\n",
       "tXJ/iJKflwHn7zJLn5hTjlQBmzjcA3JdsHOab3fJQvAW/8H+WpJuvlCAYNaYDkZCEe+F27E52VOV\n",
       "ecHNpUIc0agE6RmUASLpFQAAAE0Bnnl0R/8AXT0sjjIPWKe3aAEhgOPCECzqzp+V8Ft8701FK4er\n",
       "iN4UC3xR0fRCr3r88cmR1HD+218mfjBQsEP3x10Yr2cErL7uNeAGvAAAAEgBnntqR/8AXUgm8QgI\n",
       "nPf9xoHHRUZ9xybS+mqP5F5//nOeDYrair+m2sqWSPGyMtz+OTrR/OyKQwcQFWrqkanDZwB4579i\n",
       "DmkAAAFfQZpgSahBbJlMCGf//p4QALWqU8M9XY6ACw62SeQ9ThlM/UBi0HGHIRmm+dyHmpODxyCW\n",
       "BOYOjU1VV+bqDCYLnwGQ29cwaylZiY2CN2v5PvdqlvQP8KDwu4YNr1FOvbnqZfjfwBkmuXgLqdSP\n",
       "Xct9iWWP+RZJz99+dwDtbVOZA3mcV0wLXm+wQ4uy21wc1SkT5uoehSUvWk/d/ze9syhBqoI84MCd\n",
       "14ZVqEkTH2ApoNBGcyQljxLLlac16097eAshE8F8CIqCfgAPE3ijK1un64PaWME+cn6CfMQw34zJ\n",
       "GvviwLs6qeMO+xSzMlEQrgjYjrCOdeSL0pnLCyrK2kNEG7LpXZtPsyWiPUksihMSlNUwNPwkqfRv\n",
       "HSoDuw4qkyw7XQ0qWRhccvSNrufLZ8YWiIzgz7AcMX2js1csGmvbnxTruxx4ejQts5k4WHo+h3US\n",
       "VPJj+a6RnTWCoXYNRf8RAAAAf0GenkUVLCP/ADtw/6iedpJrXVNJF/voASwgAAAS8/aBfFnB78yl\n",
       "JDR5OsMgFyxNfusCGu+BEiM/a1n7V1HXlVS+6L/WlEAsLZd4DZVzc14qFc6lZH2kkGPM7PAA6iEm\n",
       "tCDuIyPkPqjMTvWfERo2130aI9uZvvhSU/Z1L3O80bAAAABHAZ69dEf/AF+vXQajlYw/fbbFQmy8\n",
       "OgBFIqPLgJyBhvy4J7x9zotKHqtu/s4UhczaDmrKpsYY+SLOVAx/doo1wRI1qW46DOgAAABRAZ6/\n",
       "akf/AF+8cRbijBgXHpZEQAjIG+/+jfYquL92f1awJ4AX9BNHxixDYQx26Nvta/mS6Ijm5EAm9TWf\n",
       "x1XTRY297Q6q83kZsgIozpUDYbIbAAABX0GapEmoQWyZTAhn//6eEAC5zzMGcFdwhGh4msQjFgXe\n",
       "4AhTZpZGUQaTEc35N+MQQoh+b9A6K3wPCy8J5meLeUTP/0VkMGhdy7l2yKyOsCJMJBy4HIeD3ZDI\n",
       "YudmIDU+JtcjK25LtwHbWIzdNBsVSY1xJ0Loke8rHxSNGPgqQHJhGp6II+JL1YgSTpTmEtVc9ufP\n",
       "EdexWk1oPaBfq6lNDAkCk6f2vRUiuo45RCHCBOz+ZywJMrGsaLc3Ca+H+8OGwgE1woO723hR1Jqa\n",
       "hOi/yIhB8Z6Php0dAu+b4jnpt+btnZBPzqCQLxgT/+qo81RZMG3jVtRT5U/ge1o81Hk/B0pCAh0A\n",
       "lh4Drwp5s0Et7kWNDl13VJCKZuXm1MUqgFSM2yK3gQJziz0Cu+xQ73v+/bDOnDlJt6Rg0fpnD0L1\n",
       "B0i65Fk6xwpeIq4EElFSohDTVAK3UULExsl/rkDFcrO8YAAAAGlBnsJFFSwj/wA7dtMPfynvOebG\n",
       "IFNKIYWMQk9zLBkdcwpo79Lm1zASjEQfA8HgQE5ldToRehb5TvzlhAJr9KI/yzosEQ0W9KeueH7f\n",
       "PoFrH1Z5cJMwKSGyV2i04/K4J/oKi8N/z01gYUEAAABNAZ7hdEf/AF9vvfyS8XImn1unTA12AkY0\n",
       "Uu9VqXL/o9bN3kIzFzNFfMziRxG/YMbvEV5F98BJ3ZU9Lf1zth/B8PanAdQiu1aAU0AwJCAAAABB\n",
       "AZ7jakf/AF+gbUu8+xM+pSf3zEBXgSuCmh5csq0J7BW2gYJUp1HYjhbQtzpv6T0cvc4YFrtDMNV6\n",
       "0KtpiZ7EAl8AAAFNQZroSahBbJlMCGf//p4QALm8sedxfHCiWAGvFofJ3/VZ4JSReZo+TORyk44Z\n",
       "xsDCPTu0TBrU1OvgQBE+x9mopYiiddpOIiPepz9/r30WvBZ/X4vwKJefnyR1pgnJHYF+ZDOfIfGU\n",
       "/PqHC+5GjI7WonFdPZ6OwQASZYuWFIStMdfoCMkEqifbv/oi0Wo2wlawPApWEXTaAYtKE3Os/pOE\n",
       "VmMLd19aSuRih1fTLjq2MJYeI6f7y3y5i5pstQd3M7tLpSTcWy9EHJGRRlMwNdvvWu1jQrU5Ho6Y\n",
       "zTJzrupZRv9MapqOCAY5x8Eby5nwNC/dnJzvdOyrl9ipsCmnK9Q61jWDM7P8OG7i+rngB5y5TuWX\n",
       "/kw+O+z+AWkaQOz2abKQEPXG1esKeIL3sF4gq6WSlVAKrjzUjiRR7tcbjK52q6Bh2pFTjH2Fq68L\n",
       "2urhAAAAZ0GfBkUVLCP/ADtbalKjbL640z3rnkslqMY6Y2VtxOff3k95YlCdA5muY8EAK/HWxcFU\n",
       "f92Iin0UBxeJw7E4atq9bkdPie0FQOB9cXFvKWHnc63gzhs3DWeek4TlFp3qo/uJadX9hQ0AAABA\n",
       "AZ8ldEf/AF065X0xMeQU05mEky2BSJNfHhadccsmiWeHl9LvlukLDM/0iGomu4D0ksPUYI9nK+RH\n",
       "pRLYOWsTMQAAAFQBnydqR/8AX478vg5gJoZUHa+R6rZNhfLpEiQinod1t/lQkvuvvh0UKZNgrY2W\n",
       "j2cE+lMt8n3sudHZNAqriI6+VLmQV+oTZxmkO2xNGdX4weiPG/AAAAFTQZssSahBbJlMCGf//p4Q\n",
       "ALnYUXsqAEViV3pW1/giryszj1kggczG0ibBuaKZ/nt/qZa4ih+2+WemF3mVgLzaM9hwE/eBcK9i\n",
       "Em4zYhW7/ti0AB6CtPwu4Rdyc9wffdrA5l8oxS6/WZiD5mhLSSaFYxSU9f108u7+7PoQq99T9sFm\n",
       "47iERlABB2Og8H7mPQYSggKIQ4xfyOcsCn1S717CL5tQkzOqs2vUNNAWKy5oSd2wzCShdeB9hPb7\n",
       "d+PiYyTJQFeRtMgMd9CmnIZzkD47h7hB+W1LlB115lHCvbdJZHOGUTVwqtG/zMIepjKP0RLJHcVk\n",
       "oZPKPays+2a1SQx7gNtuXcg7fGaolVMbDs508SWD09nxHJe3bMVSuTEewo20SVsHR8FQpA7cOr8+\n",
       "CWTwV2k4w27sXTkoEutwRqQSqzcGIUqvpHoAF1JC3IRN7Zup0FacAAAAYEGfSkUVLCP/ADtAE/3e\n",
       "U6j8SjLeU+AFQRA4wsQ6PRo8f6wU/qPt6LuYQE7zggmeKhNYP6zSpxrWP6eSLG7tLH6CpCzwg+xp\n",
       "+dB6wwSsHmD1lzcVI59xdDnvOXDdZ8CygQAAAE8Bn2l0R/8AX5VLrf6ynhynVKywwegUYDArF+cC\n",
       "ELcUjFrYifXAOhcBXQkOm/CeW+QdFnVUgTQYEnWT4hR1yxxaYY2dr9Ju9J1u+1Cgs4aUAAAAVQGf\n",
       "a2pH/wBdL6InQAC0D0xR+GvRW6B38ADirIbn3UWoZxISeL0rM2G+nFVB6qAPeAv3IXUWofwYnrtz\n",
       "oumdF1p2NzljmIIaAnCutSPXrf7gqLRIUsAAAAE/QZtwSahBbJlMCGf//p4QAWzmXSWTVMul2P4O\n",
       "OFpgAFmXSyqE0aW3NMgM8CRmXKuuKk1HKoM1ze6C966Lebuo121lIY2sHc+5b/9hkiRcRwFoJYqF\n",
       "KoQWTMbjnDZfuh16U/mf5pDlmzwnInO12sQkp7fleA+ommNN1KdIOBiM1WJ5Wz+BAN2u7+jAZP2y\n",
       "v9c9kdWQepvfR03SP4tDiRZFbhWqKGlfWXDydpFcnazC0XJwCXmfibOhfBgndSB4NJTAnlo41g0u\n",
       "PhqQzbQZXdd1ZEPSGnKhU/OSy+ziXNmjGSzLcT4w7ZA/P8JX+PsIg8YD3aBRwVAIoooSGFliZXfv\n",
       "FHzGbycnk8/hUciHijs2py1PgAANlrYggcFpSiUr4bAbIyowYYY5xpmMzDxPJ0azzoke+QpcOIYz\n",
       "8JMSbwvvxwAAAGdBn45FFSwj/wA7W15nSg3PgCsKUcsACuQR6dbxhp0Ntk+Au55XivMmXVQcg2OL\n",
       "+X6uEOFewxjvlGtlNuLdUeVInTeEMpKXzIHH1bPkJtqMcA518P1x+PCwGCC/ZO0OtdUrptvRyRtH\n",
       "AAAATAGfrXRH/wC1+lj58yyRuj/SNl5JmzuXWjRJdTfxl2IXefhHru1Kjpm27iIS3g55pt9Et7RT\n",
       "QP+ebRj/dclmAPpBVopUlNqVMV5pD/EAAABUAZ+vakf/ALYQTg258cXXkAssFy9qqAEsKAsdt40V\n",
       "MfK9b58NWWWDv5wOZrSB6d9vL61BOsPYTQAzB5Xznl71+0bTWMrSFF8qBrJej7i4qx0O/Qk4AAAB\n",
       "OUGbtEmoQWyZTAhn//6eEAFq4z1WvBZ17tvnulqg07IoWWJAEduxzcdZBhtW6Ntt0c4vTac12IQd\n",
       "Ic1KHTzrHqypB9o8zAPfmQpEyqH4M3nzq4JxZBd9yujeS/+bhfBk5Y5eAp6hhvhjwXHqYYiejf84\n",
       "Bt5vZAzbyp+6edXdE8CXB6PUlAi/CAgS4paoA2Ns1j8QzLsRJw8AWmqz31mpYjzEhGNYqDH96DSe\n",
       "Y/jLR4X4GLFPPI+kz3kTojoDLJ0M50Zf4oA8iouRArLPElLuZ/uUP00vufiR2XykwPtmfWgwnzvC\n",
       "PVW/4fnJacLce/hiZly5nsFz7oh1J7Ks/3v3trcduuFvZNf5uwHxzElCV4tUV7oSqeu43rht4emO\n",
       "iUMPtl409/MRQu0n0J43FIWbxzkBrc1UpeftxOQAAABnQZ/SRRUsI/8AdCH/UTzutO/wJHGlDwye\n",
       "5BVB0oNH3TBKoMLe42zec7G7dm91POkN4kzh5tu06ucW30OX1Qo0H8zW9ARtgxAcHc5SlBnZJ98j\n",
       "O7Xcg02TszP7b2sJq7kGA4aOxbBVMQAAAEUBn/F0R/8AXSFClC84207SjrT7ywVv/4yj83ayV5gs\n",
       "cyiL9ujnWJSK3FiMg8tOB9WBp7Qi+7+xXLYcjfcQV3pUFmlzMEgAAABeAZ/zakf/ALpj6utQUmRB\n",
       "2QFjTubqVACVoqVUbXpxRfU6stHVMIfymKwZBAPnSiJ2eJG7td0flS7N+1hdtWUAyel4mmj8yCxb\n",
       "Qbqr9vXVtx6oyly5Im8XQh6RyczOwAAAARVBm/hJqEFsmUwIZ//+nhABawVZr8JFvd7FjXLmvMLy\n",
       "AFjd2NQJz7GHAo2uRBDnF+pWoAjhGx7mP7QdOMD7dTpei/T3j/Fg3fy0RSKpEBjmv8LEmv882c4t\n",
       "P8nQtsCAdFw94ZLVmny7c6ZAOCxo5PgetRRI3/ykLveSZjXle1blSMXH7rNhvYcmiy2/LfPQ5PoP\n",
       "tSqf1+AfTzcECYc7AOFAKFAkk6dTgrAnR3LEmEBnw3O1p6+oSFz4sThy0g1oAzZ11vtgSCe7WUOg\n",
       "HFKLrIXB2bGx/QHAT6i4M09ILkQ/7b4XvzgIr0x+jl1YH+ogYSA3uxIJ1/PWvh9oH3nJqAaMZnx6\n",
       "9BE+vEOZtfveeeWI8o8xnS2BAAAAdUGeFkUVLCP/AHQbRxg07YJqk3AA3F/sLGzMYM6tK98Yvm/T\n",
       "2d1sYi7c28tcv3X2fAZwdQDnpftZBLwj2SeZYRnLyHfi9CbEgCZqO3yMzfPJl+G1QGCyUl4gMV8B\n",
       "EataWJlCVqDmjovowaw0REDB2SSXh5O/gAAAAEMBnjV0R/8Auf8G4IdCRLXcPtnjHI6nzk2o92fS\n",
       "CCygr2fgjQjlXh4Yexk9FZ0+845g2RoVpy+PS110mKfWF2hUGBGRAAAAWwGeN2pH/wC6FVHNZIQA\n",
       "LqCsHsYccOCkPAhNN7qHQpPFDf+n6Ahnblsy3izvvbQ5mnXQ2wfJzB9GBt7gnro5UJsVC96oIAG6\n",
       "PYfD3fr6Ppgi5ObSBtRts48zDHkAAAEcQZo8SahBbJlMCGf//p4QAWtjQh8PcALAOfWhNyAS9UXn\n",
       "3iYwdxZNdaGTLBX/7TYFV1VELDkVRslaXBaJrCC6l9HkAkwyr4Q3c4YVYHE6GQTNAmjbftblGyRU\n",
       "K6EHNoXIVsCUe0gzakIkZH1Z6uOTQyRsQ/PeoptvGSqfbivTrtBi1ey0RcFpo6gClOGXcc3nqdh/\n",
       "9ZYs79SbtFSYveGj91nkc1FgTK2ELY5kuHLvCT0Pbj8u1i0PVOXR6B0ErAA4FOZoDXB/M078tXMN\n",
       "04xCOG7tQb9JluLA70cEAPMQEs0nJDf/+8MjKS8s35sxm7d0lVarNgu+zrdgFLFeZQBV8JEiLmCA\n",
       "gl2QNKMKQXT57kN2Sl2aCLFB7sc9zBgAAABoQZ5aRRUsI/8Ac/Bo4Otlvj25p1gruKtaNvfMoRId\n",
       "xhpWFrAFPKy4uJ8K/9/rrh047+7jmkZp0/N3AkhFDXzHZHq7t9MhQgUzuznmzNhxIunBo37Sylwu\n",
       "k3PCpTa6VIXCF70p15jUniEAAABKAZ55dEf/ALoBYzjpu7vjX5i/5cdC/2VxE4OaXBQyYenqtX4q\n",
       "HEEnVZbc0fvBwA96WbWijflOxh2Byeqa5smPVNBvn12jbqE7vSgAAABEAZ57akf/ALoVJV1iVH4k\n",
       "yK/AmyC6+52CaNWBqiKu4mhGPZZpfA4yhRcYr257G08xkr5lOugv4xHoXYor3AW/YwIYToEAAAEd\n",
       "QZpgSahBbJlMCGf//p4QAWp1uoTr4Ja3AD7qe/RkB/IETzAk1ERkGd2E6QYuCuo7KQLyMAHlwelU\n",
       "UH/TrD+A8gvQW+Sn3gkkeQ6GztTPVcJa2bqTZXIZ9fi3E5d9ieimtvjgyCa6jJ3pGzqz/Q9Y9sJw\n",
       "Dhn/q8H3YZw5PBPqrQUPhobkGNzL9ELJjFtKhHz7Y8kAq/D7lSjsgxN2p3Y8P3UrOySq7NbNmEOy\n",
       "kJhvTc/o5ZNYmGJDrQmbBt+OtTk0lH7lmmnYZ7tYBkecja52B1gSwMsYG5AjeGdyfaWy96IYp3Yt\n",
       "AfGBtGAioADCBb9oUPtX6cGUpESX28atOkXGqO4Hm0vV//TjmKVrr5MF1TyBt1KT36p59DVivp2Z\n",
       "AAAAfEGenkUVLCP/AHP0CIrW32AkRoAR5r3/fMWbPCkiYRb9gAABzgjDyrcmo3eCktz1UQMg2Jli\n",
       "bZ7UgKIFHKhnZ4l+gvXEN0CSEqcUVQF4e1Kgyi0kFnRYKmZaIABPshk4FIQHRgDu8RvnaGkj8W+J\n",
       "xuaUVn9HMBpcYZkUlUAAAABNAZ69dEf/ALoC0l+uMjQm+pVdgkG3vydHFTZ0TOM9MiH9Orl/QZ0d\n",
       "Ya1S4kHnJbmHZP4xIj+uDDoH2pbHUMGa+8bB62FHJhkPkmN9CogAAABHAZ6/akf/ALoVJXPOp/gC\n",
       "kGO5LFDV0kdx8wDhMPwkOramt16idOQEtDwDV//6OmClbeuIkSLnGgL1SS2bq7bYoFJXFcudwv8A\n",
       "AADnQZqkSahBbJlMCF///oywAW2ry4pEAEVlqRFI1LJaufUNWbDGKFp5fJhbCjub8LpriOlhZV1M\n",
       "1BRQk0F24/R3ThXrYmKWeVJeAxq2lq3VOadY2ajMANuBnmWT7fzZFM6Q8R0UrZlEv9sV0PtaG9Qk\n",
       "/FgLD6CM2gTZF1USNC309oNoLmQicaWhKCRAr/C1H9GJYXZ8+1h5oSS6A8xCeh5VsWAmO/YS1tSu\n",
       "TKtWrZ32JzUH2kyslmLc9Cmm6A4sxV04YvFUjJ2T6E56plhCZ9EVC40uNH+jshifE1fw5jMzcunj\n",
       "PNyooBagAAAAdkGewkUVLCP/AHKMTVzipFUwMOo+R2SLgAcLYFUTgqoxVEJxPLJwAAADAWt9gO+a\n",
       "zxF9LUhoaEeAhJSh9cZAD9QGVONn1ExnM5vM996yO4Gf8e8EkekrTyuRCNQ/+qCTZFljYdzPFYgn\n",
       "RU0aROtj+rAbFPr0RmMAAABKAZ7hdEf/AWv0skeXZUQ/LuXwOq0H/anEQKig9Qty+ftsVIKjZfd9\n",
       "Yzg/u4IWslaf8ByilMypwbdce+o+7wKtwBYE1FDZex9JkNAAAABKAZ7jakf/AWwgg4cq2U2fZqSN\n",
       "UaE9CKbX+F9A/H2jIpy5X0FwhOHtkztvbWWj4n1HklbCf6S9MN6LeNFyjNp4nc8Z+OdjVBgy76UA\n",
       "AAD0QZroSahBbJlMCF///oywAW8wxKURyhtd4wsTbykAH8C2GZIhiFFs9QhKcixBTRjMBwQ6AfQ4\n",
       "7pvOTSr1lfviGSLiQJllQlPxJUXB1GkjX5PhNR9m08gdxsftRKdUmh3qr/c1xtzy+w3s1Me+P9+3\n",
       "+fz+cNiDyFGfIrEGUJ3WaNk+MpEFALdDxJhPKREcl8CxrLJvmhPB0s+NR0szJt8jbJbPx/wT2lHJ\n",
       "B/ftUHTYIGvWKQVkcvwWq0nY6q3nIpU2qjXgrZyfX5GpB0pRjjkkJsRC4U0ICzHbsWqflZexwr42\n",
       "ppYQzAs1pWrMwOzWT/VG+QZ5oQAAAGRBnwZFFSwj/wB0NeFofJx52szemwl/ndi/Ly3chcAiyg5d\n",
       "5WGfhWlm4REasDbv5Qlx130kH1Bu+pnkCg8FboGt8kFM7apnd1Megpe41ee9SKxJD0Ku+C8QmzQy\n",
       "Np6eHUQ/DtNxAAAASgGfJXRH/wC1woUpHNTBRN7L9ed3V/u6cQAcbnURiKfvfRiP5+yZeO+zcYdj\n",
       "zk5sqdzQROl16w2u5qWJyeEmnavIWM7P0Sy7OkVBAAAASwGfJ2pH/wC6HMklpFcBQaSHlreXB1w3\n",
       "hyNt81hwfG1GftyEQ3bCpCw73TSAijtPzmVw7yEs9+taU5Lcr87hIcBxTak6EB3rTcihmwAAANtB\n",
       "myxJqEFsmUwIX//+jLACyUxwtfKi5akfT8ExU7bMJo4fDIASJ4+/0pkq2XQLQSZEiTfTjzcaqWU3\n",
       "ju4eUT+xsE4o+DW1uPc36Dcb694038FiIpI6pHwctO+pFYaEFs6zrkDsA6l7Gho62o6yFNf8rZuH\n",
       "10/vtkLdghmVIiCaEl76asG74cFuPlWin6yPqnW2yqZEYEPqUjH2dpRU3gxMKLCSD8IoKCB/9vzy\n",
       "9+sG4x/p39k8d6LdETvqDFlR1h/32gQTw5J/5hXc6fvIZUGGqMxgNiF/B0qMrYAAAABzQZ9KRRUs\n",
       "I/8A4hFdUdCIhy4yh1Te10phHkMAM1sqFBxZMTUVVXyDYyAIgkl19ZKHvFsKG8FHJ8HktyhIgphH\n",
       "3YJs+f4Cu2PE+oIG9CN+1rZu89H2RmPKQURmkn0KU2qNP13oQVayoHZSRGPOw6IhuJgn4QAAAEkB\n",
       "n2l0R/8Ba/L8SOZJ/ONW7IvJSHJxvGCOt6spHE1JY3vfQVCHBBQMl53hTrkW9zZ/Z9OwlIVkMJzJ\n",
       "tdOkwcFZOf+Cl5/OcZYQAAAASwGfa2pH/wFqrAi0C/9mfoigUeOwlWZKTLZw0geHndBjPEG1mW+d\n",
       "q7qyjJ60Ne22Pe8XJTwUlsipOORIA8BtwL0rG5qUqWgy7XPJVQAAALZBm3BJqEFsmUwIV//+OEAK\n",
       "vEfXp/XO5+oANkKUQtfOVGLalCg+ifH0Z++nKPwAAAd7ub1ntb/QgZgMWFxtsC4lpu+arqcEYFR5\n",
       "eNNl+RL3K5/wtVVHz6ffisieNANP5W/p8AGH31sDIgc//7scisAuad52u+Cq2DutHM3P2/OkxaWb\n",
       "Fao61XzpshbX4dzBFjmpPI27Ds+lxVGjFsmxtyEvhFxrsK5qTp0JUia/Z8T5quIPB3GPKQAAAIFB\n",
       "n45FFSwj/wDiH1PHkBgPRK3mpDABaZk7SqR/9DYkGl13ZDXtkr7AycAbV82Miyu9nMlnr6/oIr9f\n",
       "SDjQNUhuHuwpgTGiLZgoEIYFpyoms9YYgA+XQCrEThtemLjsRKrb4Bvlkw7RKFdDFifRbeyXKGIq\n",
       "91NVtmf/PSF79GndbOEAAABOAZ+tdEf/AXTxohHW+1ztOr2TFkto6LGOJg9pI5cSfvWFW0BupPnP\n",
       "uZIQdwMcy2X2K9w/cnoDPiJ8dJMlWJvWfs1/1C8ro7M7AvOi0PpBAAAASAGfr2pH/wF0Te5RYLaW\n",
       "fFT1XKpLCLC5pvB+/W9cxCcTAK13XkHcG2ykQLBMaTrjv060XTyYLC67KvdlkeMcHEimHsEVEBJp\n",
       "wAAAAIhBm7RJqEFsmUwIR//94QAp2VPKRPnB3xqWa0Zj6B6iKLxrqUU3EHNB9+TUlWFb/xtSUj3W\n",
       "GFvFj1PY35KRZXRJMKauwUCPXZ4f/4WfadmaFVse7dwkQByfa6zDgM6OrmTY6zOVi5aWsNZ9/TIr\n",
       "9pMfXFPO9iKufU8wiJqBH+QoWt5gBaiEXQU9AAAAaUGf0kUVLCP/AOG9vnpP9OksVeododW8GR8D\n",
       "iFHFS2UzSCQV7MiA2BzZs3Sz6xLKpAeBgWzCtNwr6mlIaC5+Z74iGoF5ZKAMfBOHIWZBzHcQdhE4\n",
       "XRWIyrpd3xYZvQciNQLNruQGcb4CEQAAAEgBn/F0R/8Ba4UKUftbxMOiKYdxcp9jFu6caKPOSsgL\n",
       "RgyhluvGz+Qj0J5YYeDhEJ+nkRIjyXyFeZeiS1dWSmls/Sz6rfS4H+AAAABRAZ/zakf/AWqcvMly\n",
       "2llCbrpxs32+JkVrhlkMGcs7XkeBD5IMXHGx6rxRozAJ7ii/DSMzuG+ECCTGegqAD0olUzeQszbB\n",
       "GJIkbIRjYAJcK3UkAAAAVUGb9UmoQWyZTAj//IQAouRiE452u5uqCwCeGmlbi/cLQBll2v5Wa3dv\n",
       "pSkfv7iYEP8ZmHi0kqdbjITkNDNPJAAnL995B3bR9fRSeDvbIsCHQw0A64EAAAoGbW9vdgAAAGxt\n",
       "dmhkAAAAAAAAAAAAAAAAAAAD6AAAC7gAAQAAAQAAAAAAAAAAAAAAAAEAAAAAAAAAAAAAAAAAAAAB\n",
       "AAAAAAAAAAAAAAAAAABAAAAAAAAAAAAAAAAAAAAAAAAAAAAAAAAAAAAAAAAAAgAACTB0cmFrAAAA\n",
       "XHRraGQAAAADAAAAAAAAAAAAAAABAAAAAAAAC7gAAAAAAAAAAAAAAAAAAAAAAAEAAAAAAAAAAAAA\n",
       "AAAAAAABAAAAAAAAAAAAAAAAAABAAAAAAbAAAAEgAAAAAAAkZWR0cwAAABxlbHN0AAAAAAAAAAEA\n",
       "AAu4AAACAAABAAAAAAiobWRpYQAAACBtZGhkAAAAAAAAAAAAAAAAAAAyAAAAlgBVxAAAAAAALWhk\n",
       "bHIAAAAAAAAAAHZpZGUAAAAAAAAAAAAAAABWaWRlb0hhbmRsZXIAAAAIU21pbmYAAAAUdm1oZAAA\n",
       "AAEAAAAAAAAAAAAAACRkaW5mAAAAHGRyZWYAAAAAAAAAAQAAAAx1cmwgAAAAAQAACBNzdGJsAAAA\n",
       "s3N0c2QAAAAAAAAAAQAAAKNhdmMxAAAAAAAAAAEAAAAAAAAAAAAAAAAAAAAAAbABIABIAAAASAAA\n",
       "AAAAAAABAAAAAAAAAAAAAAAAAAAAAAAAAAAAAAAAAAAAAAAAAAAAGP//AAAAMWF2Y0MBZAAe/+EA\n",
       "GGdkAB6s2UGwloQAAAMABAAAAwGQPFi2WAEABmjr48siwAAAABx1dWlka2hA8l8kT8W6OaUbzwMj\n",
       "8wAAAAAAAAAYc3R0cwAAAAAAAAABAAAAlgAAAQAAAAAUc3RzcwAAAAAAAAABAAAAAQAABJBjdHRz\n",
       "AAAAAAAAAJAAAAABAAACAAAAAAEAAAMAAAAAAQAAAQAAAAABAAADAAAAAAEAAAEAAAAABAAAAgAA\n",
       "AAABAAADAAAAAAEAAAEAAAAAAQAABAAAAAACAAABAAAAAAEAAAIAAAAAAQAABAAAAAACAAABAAAA\n",
       "AAEAAAUAAAAAAQAAAgAAAAABAAAAAAAAAAEAAAEAAAAAAQAABQAAAAABAAACAAAAAAEAAAAAAAAA\n",
       "AQAAAQAAAAABAAAEAAAAAAIAAAEAAAAAAQAABQAAAAABAAACAAAAAAEAAAAAAAAAAQAAAQAAAAAB\n",
       "AAAFAAAAAAEAAAIAAAAAAQAAAAAAAAABAAABAAAAAAEAAAUAAAAAAQAAAgAAAAABAAAAAAAAAAEA\n",
       "AAEAAAAAAQAABQAAAAABAAACAAAAAAEAAAAAAAAAAQAAAQAAAAABAAAFAAAAAAEAAAIAAAAAAQAA\n",
       "AAAAAAABAAABAAAAAAEAAAUAAAAAAQAAAgAAAAABAAAAAAAAAAEAAAEAAAAAAQAABQAAAAABAAAC\n",
       "AAAAAAEAAAAAAAAAAQAAAQAAAAABAAAFAAAAAAEAAAIAAAAAAQAAAAAAAAABAAABAAAAAAEAAAUA\n",
       "AAAAAQAAAgAAAAABAAAAAAAAAAEAAAEAAAAAAQAABQAAAAABAAACAAAAAAEAAAAAAAAAAQAAAQAA\n",
       "AAABAAAFAAAAAAEAAAIAAAAAAQAAAAAAAAABAAABAAAAAAEAAAUAAAAAAQAAAgAAAAABAAAAAAAA\n",
       "AAEAAAEAAAAAAQAABQAAAAABAAACAAAAAAEAAAAAAAAAAQAAAQAAAAABAAAFAAAAAAEAAAIAAAAA\n",
       "AQAAAAAAAAABAAABAAAAAAEAAAUAAAAAAQAAAgAAAAABAAAAAAAAAAEAAAEAAAAAAQAABQAAAAAB\n",
       "AAACAAAAAAEAAAAAAAAAAQAAAQAAAAABAAAFAAAAAAEAAAIAAAAAAQAAAAAAAAABAAABAAAAAAEA\n",
       "AAUAAAAAAQAAAgAAAAABAAAAAAAAAAEAAAEAAAAAAQAABQAAAAABAAACAAAAAAEAAAAAAAAAAQAA\n",
       "AQAAAAABAAAFAAAAAAEAAAIAAAAAAQAAAAAAAAABAAABAAAAAAEAAAUAAAAAAQAAAgAAAAABAAAA\n",
       "AAAAAAEAAAEAAAAAAQAABQAAAAABAAACAAAAAAEAAAAAAAAAAQAAAQAAAAABAAAFAAAAAAEAAAIA\n",
       "AAAAAQAAAAAAAAABAAABAAAAAAEAAAUAAAAAAQAAAgAAAAABAAAAAAAAAAEAAAEAAAAAAQAABQAA\n",
       "AAABAAACAAAAAAEAAAAAAAAAAQAAAQAAAAABAAAFAAAAAAEAAAIAAAAAAQAAAAAAAAABAAABAAAA\n",
       "AAEAAAUAAAAAAQAAAgAAAAABAAAAAAAAAAEAAAEAAAAAAQAABQAAAAABAAACAAAAAAEAAAAAAAAA\n",
       "AQAAAQAAAAABAAAFAAAAAAEAAAIAAAAAAQAAAAAAAAABAAABAAAAAAEAAAUAAAAAAQAAAgAAAAAB\n",
       "AAAAAAAAAAEAAAEAAAAAAQAAAgAAAAAcc3RzYwAAAAAAAAABAAAAAQAAAJYAAAABAAACbHN0c3oA\n",
       "AAAAAAAAAAAAAJYAAAvhAAACJQAAAJMAAAFPAAAAXAAAAIMAAACfAAAAqQAAAKYAAADTAAAAQwAA\n",
       "APsAAABPAAAARAAAAK4AAADrAAAAVAAAADsAAAEiAAAAYQAAAEcAAABOAAABNQAAAGgAAABGAAAA\n",
       "SgAAATYAAABaAAAASgAAASEAAABvAAAASQAAAEQAAAExAAAAcAAAAEwAAABQAAABNwAAAGEAAABL\n",
       "AAAAPQAAASUAAABjAAAAPwAAADoAAAEOAAAAaQAAAD4AAABBAAABIwAAAGMAAAA+AAAAPgAAAR0A\n",
       "AABlAAAAQQAAAEMAAAEOAAAAWAAAAEcAAABDAAABHQAAAF0AAAA9AAAAQwAAARwAAABeAAAARgAA\n",
       "AEUAAAEeAAAAagAAAD8AAABBAAABhgAAAGsAAABGAAAARAAAAVAAAABkAAAASQAAAEYAAAFSAAAA\n",
       "aQAAAEoAAABKAAABUwAAAGsAAABGAAAATAAAAXEAAAB7AAAAUQAAAEwAAAFjAAAAgwAAAEsAAABV\n",
       "AAABYwAAAG0AAABRAAAARQAAAVEAAABrAAAARAAAAFgAAAFXAAAAZAAAAFMAAABZAAABQwAAAGsA\n",
       "AABQAAAAWAAAAT0AAABrAAAASQAAAGIAAAEZAAAAeQAAAEcAAABfAAABIAAAAGwAAABOAAAASAAA\n",
       "ASEAAACAAAAAUQAAAEsAAADrAAAAegAAAE4AAABOAAAA+AAAAGgAAABOAAAATwAAAN8AAAB3AAAA\n",
       "TQAAAE8AAAC6AAAAhQAAAFIAAABMAAAAjAAAAG0AAABMAAAAVQAAAFkAAAAUc3RjbwAAAAAAAAAB\n",
       "AAAALAAAAGJ1ZHRhAAAAWm1ldGEAAAAAAAAAIWhkbHIAAAAAAAAAAG1kaXJhcHBsAAAAAAAAAAAA\n",
       "AAAALWlsc3QAAAAlqXRvbwAAAB1kYXRhAAAAAQAAAABMYXZmNTguMjkuMTAw\n",
       "\">\n",
       "  Your browser does not support the video tag.\n",
       "</video>"
      ],
      "text/plain": [
       "<IPython.core.display.HTML object>"
      ]
     },
     "execution_count": 38,
     "metadata": {},
     "output_type": "execute_result"
    },
    {
     "data": {
      "image/png": "[encoded data removed]",
      "text/plain": [
       "<Figure size 432x288 with 1 Axes>"
      ]
     },
     "metadata": {
      "needs_background": "light"
     },
     "output_type": "display_data"
    }
   ],
   "source": [
    "# Average speed of Bob: currentl set at 100 nm/s\n",
    "v0 = 100. \n",
    "# Mean free path : currently set 1 nm\n",
    "l = 1.\n",
    "\n",
    "\n",
    "import numpy as np\n",
    "import matplotlib.pyplot as plt\n",
    "from matplotlib import animation, rc\n",
    "from IPython.display import HTML\n",
    "\n",
    "# First set up the figure, the axis, and the plot element we want to animate\n",
    "fig, ax = plt.subplots()\n",
    "\n",
    "ax.set_xlim(( 0, 400))\n",
    "ax.set_ylim(( 0, 40))\n",
    "\n",
    "line, = ax.plot([], [], lw=2)\n",
    "\n",
    "# initialization function: plot the background of each frame\n",
    "def init():\n",
    "    line.set_data([], [])\n",
    "    return (line,)\n",
    "\n",
    "# animation function. This is called sequentially\n",
    "def animate(i):\n",
    "    x = np.linspace(1, 600, 150)\n",
    "    #y = np.sin(2 * np.pi * (x - 0.01 * i))\n",
    "    y = x**2/( np.sqrt(2 * np.pi * v0 * l *i))*np.exp( - (x)**2 / (2 *  v0 *l *i))\n",
    "    #print(i)\n",
    "    line.set_data(x, y)\n",
    "    return (line,)\n",
    "\n",
    "# call the animator. blit=True means only re-draw the parts that have changed.\n",
    "anim = animation.FuncAnimation(fig, animate, init_func=init,\n",
    "                               frames=150, interval=20, blit=True)\n",
    "HTML(anim.to_html5_video())"
   ]
  },
  {
   "cell_type": "markdown",
   "metadata": {},
   "source": [
    "# The Diffusion constant \n",
    "We now define a quantity called the diffusion constant $D = \\lambda v_0$. Rewriting the probability distribution in terms of this quantity we see that\n",
    "\n",
    "$P(x^2) = \\frac{1}{\\sqrt{ \\pi D t } } x^2 e^{- \\frac{(x)^2}{ 2 D t}}$\n",
    "\n",
    "Note: You will find slightly different definitions of D in different texts. For example, some texts defined $D=1/2 \\lambda v_0$. \n",
    "\n",
    "# Question 6\n",
    "\n",
    "a. What are the units of the diffusion constant?\n",
    "\n",
    "b. How does the value of D affect the rate of diffusion ? Hint: use the code below and change the value of D to understand how the rate of diffusion would change.\n",
    "\n",
    "c. What is the typical values for the diffusion constant (aka diffusion coefficient) of a gas ? - Google this\n",
    "\n",
    "\n",
    "Extra Info:\n",
    "The standard deviation of the distribution : S.D. $ \\sigma = \\sqrt{D t}$. Okay so what does this tell me? \n",
    "\n",
    "The standard deviation tells us how spread out the distribution is. So larger the value of $\\sigma$, the more likely it is to find Bob far away."
   ]
  },
  {
   "cell_type": "code",
   "execution_count": 39,
   "metadata": {},
   "outputs": [
    {
     "data": {
      "image/png": "[encoded data removed]",
      "text/plain": [
       "<Figure size 432x288 with 1 Axes>"
      ]
     },
     "metadata": {
      "needs_background": "light"
     },
     "output_type": "display_data"
    }
   ],
   "source": [
    "\n",
    "# Diffusion constant of Bob\n",
    "D = 100. # mean and standard deviation\n",
    "# Mean free path : currently set 1 nm\n",
    "l = 1.\n",
    "# set time for diffusion, 2 seconds \n",
    "t= 2\n",
    "\n",
    "x = np.linspace(0.,100,100) # 100 linearly spaced numbers\n",
    "\n",
    "plt.plot( x, x**2/( np.sqrt(np.pi * D *t))*np.exp( - (x)**2 / (2 D *t) ),linewidth=2, color='r')\n",
    "\n",
    "plt.show()"
   ]
  },
  {
   "cell_type": "markdown",
   "metadata": {},
   "source": [
    "# So what is the rate at which a gas diffuses ?\n",
    "What we have determined so far is just the probability of finding Bob some distance squared $x$ from his starting point. \n",
    "We have tried to characterize the rate at which he diffuses by looking at how the peak of this distribution changes over time. In other words we know what Bob's most likely position is going to be as time progresses. \n",
    "Mathematically what have done is determined the r.m.s (root mean square) value of the position $x$, in terms of $D$ and time $t$ this is simply.\n",
    "\n",
    "$x_{rms}=\\sqrt{\\overline{x^2}} =\\sqrt{\\langle x^2 \\rangle} =  \\sqrt{2 D t}$\n",
    "\n",
    "Therefore, the rate at which Bob diffuses through the gas is $\\propto \\sqrt{t}$ as well as the property intrinsic to Bob - his diffusion cooefficient $D$. \n",
    "\n",
    "Q. How do we interpret the rms displacement $x_{rms}$?\n",
    "\n",
    "Interpretation 1: It is the average (or loosely speaking - the most likely) distance travelled by a single gas molecule in a given time interval.\n",
    "\n",
    "Interpretation 2: Roughly speaking it is the distance travelled by half the number of diffusing gas molecules in a given time interval.\n",
    "\n",
    "\n",
    "\n",
    "Extra Info: It is an exercise in calculus to derive this expression$x_{rms} =  \\sqrt{2 D t}$ from the probability distribution. This is not important for our understanding of diffusion so we wont go through it here. But there are numerous sources online where this has been worked out explicity.\n",
    "\n",
    "\n"
   ]
  },
  {
   "cell_type": "markdown",
   "metadata": {},
   "source": [
    "# From 1D to 3D diffusion\n",
    "The analysis we have just described can quite naturally be extended to the case of particles free to diffuse in two or three dimensions.  The three rules defining the random walk now apply in each of the two (or three) dimensions, and we assert that the motions in the x, y and z directions are statistically independent.  We have no reason to suspect that such an assumption is not valid.  In three dimensions, the diffusion coefficient D is defined in the way you might expect:\n",
    "\n",
    "For 1D motion we were trying to determine the most likely location using what is called the r.m.s (root mean square) value  $\\sqrt{\\overline{x^2}}$. For 2D motion this would be \n",
    "\n",
    "\n",
    "$r^2=x^2+y^2$\n",
    "\n",
    "$r^2=4Dt$\n",
    "\n",
    "$r_{rms}^{2D}=\\sqrt{\\overline{r^2}}=\\sqrt{4Dt}$\n",
    "\n",
    "So if I wanted to find the average displacement of bob after 100 seconds in 2D then this would simply be $~\\sim \\sqrt{4\\times D \\times 100} $\n",
    "\n",
    "# Question 7\n",
    "- What is the expression for rms displacement $r_{rms}$ in 3D? Here $r^2 = x^2 +y^2 + z^2$."
   ]
  },
  {
   "cell_type": "markdown",
   "metadata": {},
   "source": [
    "# <font color='blue'>Part 3 : Random vs Coherent/directed motion </font>\n",
    "\n",
    "Listeria, like all bacteria emit small molecules as waste product or for signaling. Here we will consider a “race” between a listeria bacteria (about 1 μm across) that swims along a straight track inside a (much larger ~15 μm) mammalian cell that it has infected. The listeria emits a pulse of signaling molecules. The listeria itself moves in the cell at a speed of about 5 μm/s. The question we want to tackle is whether molecules emitted by the listeria cell could move ahead of the cell as they diffuse. \n",
    "\n"
   ]
  },
  {
   "cell_type": "code",
   "execution_count": 22,
   "metadata": {},
   "outputs": [
    {
     "data": {
      "image/jpeg": "[encoded data removed]",
      "text/html": [
       "\n",
       "        <iframe\n",
       "            width=\"400\"\n",
       "            height=\"300\"\n",
       "            src=\"https://www.youtube.com/embed/dlAPOa_QXAo\"\n",
       "            frameborder=\"0\"\n",
       "            allowfullscreen\n",
       "        ></iframe>\n",
       "        "
      ],
      "text/plain": [
       "<IPython.lib.display.YouTubeVideo at 0x128f69750>"
      ]
     },
     "execution_count": 22,
     "metadata": {},
     "output_type": "execute_result"
    }
   ],
   "source": [
    "## Here is an informative video about the motion of listeria.\n",
    "## Run this code block to display video\n",
    "from IPython.display import YouTubeVideo\n",
    "#https://www.youtube.com/watch?v=dlAPOa_QXAo\n",
    "YouTubeVideo('dlAPOa_QXAo')"
   ]
  },
  {
   "cell_type": "markdown",
   "metadata": {},
   "source": [
    "# Question 8\n",
    "\n",
    "A. Assume that a Listeria cell, when at one end of the mammalian cell, emits a pulse of molecules with diffusion constant of D=200 μm2/s. The Listeria cell then moves to the other side of the mammalian cell, reaching the other side of the cell in 3 seconds. How much time does it take the diffusing molecules to reach the other end of the cell?\n",
    "\n",
    "B. Can diffusion be faster than directed motion? Explain your reasoning.\n",
    "\n",
    "C. If the mammalian cell were three times larger, by how much does the time to diffuse across a whole cell change? Explain your reasoning.\n",
    "\n",
    "D. A different signaling molecule emitted by the Listeria has had a chemical attached to it that glows when illuminated by a particular light source. A pulse is seen to be emitted at t = 0 and 5 seconds later is observed to have expanded to a blob that has a radius of 2 μm. If you can describe this as diffusion in two dimensions how big would you expect the blob to be if you took another picture at t = 20 s? Can you find the diffusion constant? If you can, do so. If you can’t explain why not."
   ]
  },
  {
   "attachments": {},
   "cell_type": "markdown",
   "metadata": {},
   "source": [
    "# Question 9\n",
    "In this question we will try to work out how to understand if motion is random or directed.\n",
    "\n",
    "A.  Compare and write expression for how the distance travelled ($x$) changes with time for a \n",
    "    \n",
    "    i. A random walker\n",
    "\n",
    "    ii. Directed (coherent) motion at constant speed.\n",
    "\n",
    "    iii. Directed (coherent) motion under uniform acceleration starting from rest \n",
    "    \n",
    "B. If you draw graph of $\\log{(x)}$ vs $\\log{(t)}$, for each of the cases above, they would all be\n",
    "linear graphs. From your expressions above what would the slopes of each of these graphs be.\n",
    "Explain how you could use this information to distinguish between directed and random motion.\n"
   ]
  }
 ],
 "metadata": {
  "colab": {
   "collapsed_sections": [],
   "include_colab_link": true,
   "name": "quantum_coin_flipping.ipynb",
   "private_outputs": true,
   "provenance": [],
   "version": "0.3.2"
  },
  "kernelspec": {
   "display_name": "Python 3",
   "language": "python",
   "name": "python3"
  },
  "language_info": {
   "codemirror_mode": {
    "name": "ipython",
    "version": 3
   },
   "file_extension": ".py",
   "mimetype": "text/x-python",
   "name": "python",
   "nbconvert_exporter": "python",
   "pygments_lexer": "ipython3",
   "version": "3.7.4"
  }
 },
 "nbformat": 4,
 "nbformat_minor": 1
}
