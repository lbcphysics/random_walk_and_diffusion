{
 "cells": [
  {
   "cell_type": "markdown",
   "metadata": {
    "colab_type": "text",
    "id": "view-in-github"
   },
   "source": [
    "<a href=\"https://colab.research.google.com/github/lbcphysics/random_walk_and_diffusion/blob/master/quantum_random_walk.ipynb\" target=\"_parent\"><img src=\"https://colab.research.google.com/assets/colab-badge.svg\" alt=\"Open In Colab\"/></a>"
   ]
  },
  {
   "cell_type": "markdown",
   "metadata": {
    "colab_type": "text",
    "id": "-Lh381LZkY9W"
   },
   "source": [
    "# Part 1: Walking radomly with a quantum computer\n",
    "Imagine walking down a road and with a coin in hand. Before you take your next step you flip a coin to decide whether to walk one step forward or one step back:\n",
    "- Heads: You take one step forward.\n",
    "- Tails: You take one step backward.\n",
    "\n",
    "After 10 steps where would you end up? This is a simple enough experiment to perform.\n",
    "Now imagine that you wanted to determine what your average displacement would be from your starting point. You have three options \n",
    "\n",
    "1. You repeat this experiment a 1000 times ($10 \\times 1000 = 10,000$ steps).\n",
    "2. Get everyone at MSU to perform this experiment and ask them to report their findings.\n",
    "3. Simulate this on a computer in a few minutes\n",
    "\n",
    "We are going to use option 3 here. Specifically we will use a quantum computer to simulate a coin toss. \n",
    "We will be using qiskit python libraries developed by IBM in this notebook to perform this task and understand the details of random walk.\n",
    "\n",
    "Note: the location of the actual physical qauntum computer is elsewhere. We can use the internet (the cloud) to access these quantum computers and run them.\n",
    "\n",
    "\n",
    "\n"
   ]
  },
  {
   "cell_type": "markdown",
   "metadata": {},
   "source": [
    "# Learning Goals\n",
    "1. Learn how to work with jupyter notebooks in the google colab environment to build a quantum circuit that simulates the results of a coin flip (H =1, T=0).\n",
    "3. Learn how to simulate random walk with this quantum circuit.\n",
    "4. Use this simulation to learn about the different properties of your random walk.\n",
    "5. Learn about the probability distribution of random walk.\n",
    "5. Learn how the probability distribution of random walk can be used to model and understand diffusion. \n",
    "6. Learn how random motion is different from coherent motion. "
   ]
  },
  {
   "cell_type": "markdown",
   "metadata": {},
   "source": [
    "# Initializing your setup\n",
    "You will need to run the code block below to ensure that all the libraries are installed in your environment and are correctly imported. It is not necessary for you to understand whats going on here, however if you would like to please refer to the python programming documentation.\n",
    "This may take a minute or two to run. \n",
    "Note: In order to run a block of code you can select run and either hit Run on top or press Shift+Enter on your keyboard."
   ]
  },
  {
   "cell_type": "code",
   "execution_count": null,
   "metadata": {},
   "outputs": [],
   "source": [
    "#!pip install qiskit - Needed in colab environment\n",
    "pip install qiskit"
   ]
  },
  {
   "cell_type": "code",
   "execution_count": 2,
   "metadata": {
    "colab": {},
    "colab_type": "code",
    "id": "MFyUj-8yI9JG"
   },
   "outputs": [],
   "source": [
    "\n",
    "# Include the necessary imports for this program\n",
    "import numpy as np\n",
    "from qiskit import QuantumCircuit, ClassicalRegister, QuantumRegister\n",
    "from qiskit import execute\n",
    "\n",
    "# Import plotting libraries\n",
    "import matplotlib.pyplot as plt\n",
    "import numpy as np\n",
    "from matplotlib import colors\n",
    "from matplotlib.ticker import PercentFormatter\n",
    "\n",
    "# Fixing random state for reproducibility\n",
    "#np.random.seed(19680801)"
   ]
  },
  {
   "cell_type": "markdown",
   "metadata": {},
   "source": [
    "# Flipping a coin quantumly\n",
    "Each time you flip a fair coin, each of the outcomes (Head or Tails) has a $\\frac{1}{2}$ probability. \n",
    "In order to do this on a quantum computer we will need to set up a quantum circuit. \n",
    "A quantum circuit consists of \n",
    "- A quantum states \n",
    "- quantum gates that perform operations on the quantum state \n",
    "- and a measurement device. \n",
    "\n",
    "Think of the quantum state as a coin and the gate as your hand that actualy flips the coin. \n",
    "Finally we need eyes to record the result of our coin flip and for that we need a measurement device that observes what state the coin has been flipped in.\n",
    "Once flipped and then measured, there are two possible outcomes the quantum state is either in a  0 or 1 state.\n",
    "- By 0 we will denote Tails.\n",
    "- By 1 we will denote Heads.\n",
    "\n",
    "We will first setup a quantum circuit with \n",
    "- A quantum register that contains the quantum state\n",
    "- A [Hadamard gate](https://en.wikipedia.org/wiki/Quantum_logic_gate#Hadamard_(H)_gate \"Hadamard gate on Wikipedia\") that will perform the coin flip (quantum state flip)\n",
    "- A classical register that will record and store the result of the coin flip (quantum state flip)\n",
    "\n",
    "\n",
    "**<font color='red'> You do not need to know the details of this quantum circuit or anything related to quantum mechanics. All you need to know is that everytime I switch the circuti on I will generate either '0' or '1'. We will call T =0 and H=1.<\\font>**\n"
   ]
  },
  {
   "cell_type": "code",
   "execution_count": 3,
   "metadata": {
    "colab": {},
    "colab_type": "code",
    "id": "qTJMysLtJpsF"
   },
   "outputs": [
    {
     "data": {
      "image/png": "[encoded data removed]",
      "text/plain": [
       "<Figure size 244.412x144.48 with 1 Axes>"
      ]
     },
     "execution_count": 3,
     "metadata": {},
     "output_type": "execute_result"
    }
   ],
   "source": [
    "# Create a Quantum Register with 1 qubit (wire).\n",
    "quantum_register = QuantumRegister(1)\n",
    "\n",
    "# Create a Classical Register with 1 bit (double wire).\n",
    "classical_register = ClassicalRegister(1)\n",
    "\n",
    "# Create a Quantum Circuit from the quantum and classical registers\n",
    "circuit = QuantumCircuit(quantum_register, classical_register)\n",
    "\n",
    "# Place an Hadamard gate on the qubit wire\n",
    "circuit.h(quantum_register[0])\n",
    "\n",
    "# Measure the qubit into the classical register\n",
    "circuit.measure(quantum_register, classical_register)\n",
    "\n",
    "# Draw the circuit\n",
    "circuit.draw(output='mpl')\n"
   ]
  },
  {
   "cell_type": "markdown",
   "metadata": {
    "colab_type": "text",
    "id": "Ze1KvaGtumdf"
   },
   "source": [
    "If the above code ran correctly you should be able to see a quantum circuit like below\n",
    "<img src=\"files/qc.png\">\n",
    "Congratulations you have just created your first quantum circuit.\n",
    "- The Blue box denoted with a 'H' is called a Hadamard quantum gate that flips the quantum state.\n",
    "- The Black box measures the quantum state.\n",
    "\n",
    "\n",
    "**<font color='red'> You do not need to know the details of this quantum circuit or anything related to quantum mechanics. All you need to know is that everytime I switch the circuti on I will generate either '0' or '1'. We will call T =0 and H=1.<\\font>**\n"
   ]
  },
  {
   "cell_type": "markdown",
   "metadata": {},
   "source": [
    "# Extra Information about quantum mechanics and quantum states - You can skip ahead if you are not interested.\n",
    "\n",
    "The information here is for the curious mind, and is not necessary, you may skip ahead.\n",
    "\n",
    "Quantum states denoted by $\\vert\\ \\rangle$ the kind of quantum states that we will use are usually referred to as bipartitite quantum states, i.e. can only be observed to be a in the state  $\\vert0\\rangle$ or $\\vert1\\rangle$.\n",
    "The funny thing about quantum states is that they can exist as a superposition of states,i.e.$\\vert0\\rangle \\pm \\vert1\\rangle$. For example a quantum state can simultaneously be Heads or Tails! \n",
    "quantum gates that perform operations on the quantum state and a measurement device. \n",
    "To demonstrate the Hadamard gate, we'll create a simple quantum circuit with the [Qiskit](https://qiskit.org/) framework after we've imported the necessary items."
   ]
  },
  {
   "cell_type": "markdown",
   "metadata": {},
   "source": [
    "# Running your quantum circuit\n",
    "Now that the quantum circuit has been defined and drawn, let's execute it on a quantum simulator, running the circuit once. Each run and measurement of the circuit is called a *shot*. In other words, the number of shots tells me how many times I am flipping the coin.\n",
    "We will visualize the result of your run in the form of a histogram."
   ]
  },
  {
   "cell_type": "code",
   "execution_count": 4,
   "metadata": {
    "colab": {},
    "colab_type": "code",
    "id": "q9VtcrnDKmd1"
   },
   "outputs": [
    {
     "name": "stdout",
     "output_type": "stream",
     "text": [
      "{'1': 1}\n"
     ]
    },
    {
     "data": {
      "image/png": "[encoded data removed]",
      "text/plain": [
       "<Figure size 504x360 with 1 Axes>"
      ]
     },
     "execution_count": 4,
     "metadata": {},
     "output_type": "execute_result"
    }
   ],
   "source": [
    "#The number of times to run the circuit\n",
    "number_of_shots=1\n",
    "# Import BasicAer\n",
    "from qiskit import BasicAer\n",
    "\n",
    "# Use BasicAer's qasm_simulator\n",
    "backend_sim = BasicAer.get_backend('qasm_simulator')\n",
    "\n",
    "# Execute the circuit on the qasm simulator, running it \"number_of_shots\" times.\n",
    "job_sim = execute(circuit, backend_sim, shots=number_of_shots)\n",
    "\n",
    "# Grab the results from the job.\n",
    "result_sim = job_sim.result()\n",
    "\n",
    "# Print the counts, which are contained in a Python dictionary\n",
    "counts = result_sim.get_counts(circuit)\n",
    "print(counts)\n",
    "\n",
    "from qiskit.tools.visualization import plot_histogram\n",
    "\n",
    "# Plot the results on a bar chart\n",
    "plot_histogram(counts)"
   ]
  },
  {
   "cell_type": "markdown",
   "metadata": {
    "colab_type": "text",
    "id": "F1ZxWlWGyK-3"
   },
   "source": [
    "# Question 1\n",
    "\n",
    "- What do you see?  Discuss with your group how to interpret the histogram.\n",
    "- Change the number_of_shots to 100 or 1000 - doing this correspinds to flipping a coin 100 or 1000 times. What should you expect to see? What do the x and y axis of the plot indicate?"
   ]
  },
  {
   "cell_type": "markdown",
   "metadata": {},
   "source": [
    "# Quantum Random walk generator\n",
    "Now that we have our quantum coin flipper (our quantum circuit) ready, we are going to flip our quantum coin a 100 times and count the number of times we get 1s and the number of times we get 0s.\n",
    "If we get 50 Heads and 50 Tails, then we have taken 50 steps to the front and 50 steps back, so we are back to where we started. \n",
    "Run the code a couple of times to determine where your location should be after 100 steps. Note that we are starting from the origin at 0.\n",
    "Is your location the same each time you run the code? Discuss with your group why your location changes each time.\n"
   ]
  },
  {
   "cell_type": "code",
   "execution_count": 10,
   "metadata": {
    "colab": {},
    "colab_type": "code",
    "id": "Pu-omNpDsCJ7",
    "scrolled": true
   },
   "outputs": [
    {
     "data": {
      "text/plain": [
       "(array([  0.,   0.,   1.,   1.,   3.,   9.,   8.,  31.,  35.,  67., 113.,\n",
       "        159., 234., 293., 402., 501., 552., 702., 754., 735., 755., 811.,\n",
       "        764., 636., 578., 522., 405., 277., 231., 161.,  96.,  54.,  34.,\n",
       "         34.,  14.,  17.,   6.,   3.,   2.,   0.,   0.]),\n",
       " array([-40.5       , -38.52439024, -36.54878049, -34.57317073,\n",
       "        -32.59756098, -30.62195122, -28.64634146, -26.67073171,\n",
       "        -24.69512195, -22.7195122 , -20.74390244, -18.76829268,\n",
       "        -16.79268293, -14.81707317, -12.84146341, -10.86585366,\n",
       "         -8.8902439 ,  -6.91463415,  -4.93902439,  -2.96341463,\n",
       "         -0.98780488,   0.98780488,   2.96341463,   4.93902439,\n",
       "          6.91463415,   8.8902439 ,  10.86585366,  12.84146341,\n",
       "         14.81707317,  16.79268293,  18.76829268,  20.74390244,\n",
       "         22.7195122 ,  24.69512195,  26.67073171,  28.64634146,\n",
       "         30.62195122,  32.59756098,  34.57317073,  36.54878049,\n",
       "         38.52439024,  40.5       ]),\n",
       " <a list of 41 Patch objects>)"
      ]
     },
     "execution_count": 10,
     "metadata": {},
     "output_type": "execute_result"
    },
    {
     "data": {
      "image/png": "[encoded data removed]",
      "text/plain": [
       "<Figure size 432x288 with 1 Axes>"
      ]
     },
     "metadata": {
      "needs_background": "light"
     },
     "output_type": "display_data"
    }
   ],
   "source": [
    "#number of steps\n",
    "number_of_steps=100\n",
    "# number of time we run each 100 step trial\n",
    "number_of_trials=10000\n",
    "\n",
    "########################\n",
    "# DO NOT CHANGE BELOW THIS POINT\n",
    "########################\n",
    "# Import BasicAer\n",
    "from qiskit import BasicAer\n",
    "\n",
    "# Use BasicAer's qasm_simulator\n",
    "backend_sim2 = BasicAer.get_backend('qasm_simulator')\n",
    "\n",
    "histarr=np.array([])\n",
    "\n",
    "for i in range(number_of_trials):\n",
    "# Execute the circuit on the qasm simulator, running it number_of_steps times.\n",
    "    job_sim2 = execute(circuit, backend_sim2, shots=number_of_steps)\n",
    "\n",
    "# Grab the results from the job.\n",
    "    result_sim2 = job_sim2.result()\n",
    "# Get the counts, which are contained in a Python dictionary\n",
    "    counts2 = result_sim2.get_counts(circuit)\n",
    "# Determine net number of steps walked \n",
    "    steps= np.array([(counts2['0'] - counts2['1'])])\n",
    "    histarr=np.append(histarr,steps)\n",
    "\n",
    "# Make histogram    \n",
    "plt.xlabel(\"Location after 100 steps\")\n",
    "plt.ylabel(\"# of times I ended up at this location\")    \n",
    "plt.hist(histarr,bins=41,range=(-40.5,40.5))    \n",
    "    \n",
    "\n"
   ]
  },
  {
   "cell_type": "markdown",
   "metadata": {
    "colab_type": "text",
    "id": "Pk3WL9P9sCJ9"
   },
   "source": [
    "# Probability distribution for random walk\n",
    "By running the code a few times you should have seen that for each trial of 100 steps you ended up at a different location. \n",
    "We are now going to try to answer the question: How often are we going to end up +10 steps from where we started or -20 steps or 0 steps?\n",
    "In other words we are now going to determine the probability distribution for ending up at a particular location.\n",
    "In order to do this we will rerun our simulation of a 100 step random walk several times - do this by changing the value of the  variable number_of_trials above from 1 to:\n",
    "- a. 10\n",
    "- b. 100\n",
    "- c. 1000\n",
    "- d. 10000\n",
    "\n",
    "This will take a minute to run for each of the options - be patient and try to predict the answers to the questions below.\n"
   ]
  },
  {
   "cell_type": "markdown",
   "metadata": {},
   "source": [
    "# Question 2\n",
    "- If you were to do a 100 step random walk, what is the most likely location that you would end up in ? i.e. From your graph what is your most probable location.\n",
    "- Describe the shape of the graph that you see: be creative in the choice of your words?\n",
    "- How often will you end up +40 or -40 steps away from your starting point?"
   ]
  },
  {
   "cell_type": "markdown",
   "metadata": {},
   "source": [
    "# Gaussian or Normal Distribution\n",
    "The curve that you saw in your random walk trials is called a Gaussian or [Normal distribution](https://en.wikipedia.org/wiki/Normal_distribution) and takes the form:\n",
    "\n",
    "$ f(x | \\mu, \\sigma) = \\frac{1}{\\sqrt{2 \\pi \\sigma^2}}  e^{- \\frac{(x -\\mu)^2}{2 \\sigma^2}}$\n",
    "\n",
    "Here $\\mu$ is the mean value (or average) of the distribution and $\\sigma$ is the standard deviation. \n",
    "For your trials you should have found the average to be zero ($\\mu =0 $) and the standard deviation $\\sigma = \\sqrt{total number of steps} = \\sqrt{N}$. So the probability that we end up $k$ steps away after taking a total of $N$ steps is\n",
    "\n",
    "$ P(k) = \\frac{1}{\\sqrt{2 \\pi } N }  e^{- \\frac{(k)^2}{2 N}}$\n",
    "\n",
    "\n",
    "Lets test this out by plotting both the histogram for 10,000 trials from our simulation as well as the function above. Run the code below to do this\n",
    "\n"
   ]
  },
  {
   "cell_type": "code",
   "execution_count": 12,
   "metadata": {},
   "outputs": [
    {
     "data": {
      "image/png": "[encoded data removed]",
      "text/plain": [
       "<Figure size 432x288 with 1 Axes>"
      ]
     },
     "metadata": {
      "needs_background": "light"
     },
     "output_type": "display_data"
    }
   ],
   "source": [
    "# mean or average\n",
    "mu = 0 \n",
    "# Variance or standard deviation\n",
    "sigma = np.sqrt(number_of_steps) # mean and standard deviation\\\n",
    "## Set up plot\n",
    "count, bins, ignored = plt.hist(histarr,bins=41,range=(-40.5,40.5))\n",
    "plt.plot( bins, 2*number_of_trials/(sigma * np.sqrt(2 * np.pi))*np.exp( - (bins - mu)**2 / (2 * sigma**2) ),linewidth=2, color='r')\n",
    "# plot histogram and curve\n",
    "plt.show()"
   ]
  },
  {
   "cell_type": "markdown",
   "metadata": {},
   "source": [
    "# Great but what does this have to do with motion of atoms in gas?\n",
    "\n",
    "Imagine being in a very crowded place. To guide your imaginationa here's a picture of a crowded railway platform in Mumbai, India.\n",
    "<img src=\"files/crowd.jpg\">\n",
    "\n",
    "You try to walk in a straight line towards the exit but are constantly bumping into other people and are being tossed around in random directions. \n",
    "This is pretty much the story of an atom inside a gas.\n",
    "\n",
    "For an ideal gas, the atoms do not experience any force until they collide with other atoms. Once atoms collide, their trajectory changes. \n",
    "\n",
    "We can think of the distance between each collision that the atom experiences (aka mean free path) as the step size, and the direction in which the atom moves (front or back) is determined randomly just like a coin flip.\n",
    "Run the code below to see an animation of how an atom in an ideal gas moves.\n",
    "\n",
    "\n"
   ]
  },
  {
   "cell_type": "code",
   "execution_count": 13,
   "metadata": {},
   "outputs": [
    {
     "data": {
      "text/html": [
       "<img src=\"https://upload.wikimedia.org/wikipedia/commons/5/51/Brownianmotion5particles150frame.gif\">"
      ],
      "text/plain": [
       "<IPython.core.display.HTML object>"
      ]
     },
     "execution_count": 13,
     "metadata": {},
     "output_type": "execute_result"
    }
   ],
   "source": [
    "#Source wikipedia\n",
    "from IPython.display import HTML\n",
    "HTML('<img src=\"https://upload.wikimedia.org/wikipedia/commons/5/51/Brownianmotion5particles150frame.gif\">')"
   ]
  },
  {
   "cell_type": "markdown",
   "metadata": {},
   "source": [
    "# Part 2 : Using random walk to understand diffusion\n",
    "Alright now that we know that an atom moves around in a random way and that randomness can be encoded mathemamatically in a normal distribution, what can we do with that information?\n",
    "\n",
    "- Objective: We are going to use random walk to model diffusion\n",
    "\n",
    "Let us picture a single atom inside an ideal gas moving at a velocity $v_0$ - lets give it a name - Bob. \n",
    "\n",
    "- On average Bob moves a length $\\lambda$ before he collides with another atom. The more densely packed the atoms are the smaller the value of $\\lambda$. $\\lambda \\simeq v_0 \\Delta t$ is the step size and is known as the __mean free path__ ($\\lambda$).\n",
    "- Let us say Bob collides with another atom which we will call Alice. Since the motion of all the atoms are very random, Bob does not know which direction Alice is going to come in and hit him. \n",
    "- In 1D Alice could either hit him from the front or from behind. If hit from the front Bob would move one step back and if hit from behind he would move one step ahead. Here one step means Bob travels a distance $\\lambda$ before he is struck again?\n",
    "- The trajectory that Bob follows is the same as that of a random walk we simulated above.\n",
    "\n",
    "Now that we know that the trajectory of a atom in an ideal gas can be modelled as a random walk lets do some calculations of some quantities in 1D. We will extend this to 3D at the end.\n",
    "\n",
    "At this point we want to also stop talking about discrete steps and use instead coordinates $x= k \\lambda$. So we can rewrite our probability distribution in terms of $x$ as \n",
    "\n",
    "$ P(x) = \\frac{1}{\\sqrt{2 \\pi N\\lambda^2 } }  e^{- \\frac{(x)^2}{2 N \\lambda^2}}$\n",
    "\n",
    "Here \n",
    "- $\\lambda$ : Mean free path (the average distance travelled between two collisions)\n",
    "- $N$ : is the total number of steps\n",
    "\n",
    "\n",
    "\n"
   ]
  },
  {
   "cell_type": "markdown",
   "metadata": {},
   "source": [
    "# Question 3\n",
    "We want to able to figure out how Bob is able to \"diffuse\" or \"walk randomly\" from one corner of the gas to the other\n",
    "\n",
    "1. What is the average net displacement of an atom in an ideal gas? Hint: What was your average displacement after 100 steps of a random walk. \n",
    "\n"
   ]
  },
  {
   "cell_type": "markdown",
   "metadata": {},
   "source": [
    "# Mean displacement or Mean squared displacement?\n",
    "From your answer above you should have realized that the talking about the average displacement is not very useful. We do not care which direction he is diffusing in just the distance from his original starting position. \n",
    "\n",
    "So a more useful probability distribution to look at is the square of the distance $x^2$.\n",
    "This can be evaluated simply as \n",
    "\n",
    "$ P(x^2) = x^2 \\times P(x) = \\frac{1}{\\sqrt{2 \\pi N\\lambda^2 } } x^2 e^{- \\frac{(x)^2}{2 N \\lambda^2}}$\n",
    "\n",
    "# Question 4 \n",
    "- Why don't we simply use distance instead of taking the square of the displacement and then taking its square? Hint: The answer has more to do with math/ stats than physics.\n",
    "\n",
    "Run the code below to see what the Probability distribution of the mean square displacement looks like.\n"
   ]
  },
  {
   "cell_type": "code",
   "execution_count": 23,
   "metadata": {},
   "outputs": [
    {
     "data": {
      "image/png": "[encoded data removed]",
      "text/plain": [
       "<Figure size 432x288 with 1 Axes>"
      ]
     },
     "metadata": {
      "needs_background": "light"
     },
     "output_type": "display_data"
    }
   ],
   "source": [
    "\n",
    "# Total number of steps\n",
    "N = 100. # mean and standard deviation\n",
    "# Mean free path : currently set 1 nm\n",
    "l = 1.\n",
    "\n",
    "x = np.linspace(0.,100,100) # 100 linearly spaced numbers\n",
    "#y = numpy.sin(x)/x\n",
    "\n",
    "plt.plot( x, x**2/( np.sqrt(2 * np.pi * N * l**2))*np.exp( - (x)**2 / (2 * N * l**2) ),linewidth=2, color='r')\n",
    "\n",
    "plt.show()"
   ]
  },
  {
   "cell_type": "code",
   "execution_count": 20,
   "metadata": {},
   "outputs": [
    {
     "data": {
      "image/png": "[encoded data removed]",
      "text/plain": [
       "<Figure size 432x288 with 1 Axes>"
      ]
     },
     "metadata": {
      "needs_background": "light"
     },
     "output_type": "display_data"
    }
   ],
   "source": [
    "\n",
    "# Total number of steps\n",
    "N = 100. # mean and standard deviation\n",
    "# Mean free path : currently set 1 nm\n",
    "l = 1.\n",
    "\n",
    "x = np.linspace(-20.,20,100) # 100 linearly spaced numbers\n",
    "#y = numpy.sin(x)/x\n",
    "\n",
    "plt.plot( x, 1/( np.sqrt(2 * np.pi * N * l**2))*(np.exp( - (x)**2 / (2 * N * l**2) ) + np.exp( - (-x)**2 / (2 * N * l**2) ) ) ,linewidth=2, color='r')\n",
    "\n",
    "plt.show()"
   ]
  },
  {
   "cell_type": "markdown",
   "metadata": {},
   "source": [
    "# Question 3\n",
    "- From your graph above can you determine the most likely value of the $x^2$ (the square of the distance) as well as $x$ ? \n",
    "- What happens to $x$ and $x^2$ if you increas or decrease the mean free path $\\lambda$?\n",
    "\n",
    "- What happens to $x$ and $x^2$ if you increas or decrease the total number of steps ?\n",
    "\n",
    "Fun fact: This is the same shape as the Maxwell-Boltzmann distribution which tells us the probability distribution of speeds of particles in a gas.\n",
    "\n",
    "\n",
    "The number of steps $N$ is really just a measure of time $t$ and the rate of collision. Since the rate of collision is simply the speed divided by the mean free path. \n",
    "We can define $N = v_0/\\lambda$.\n",
    "\n",
    "- Rewrite the probability distribution in terms of $v_0$ and $\\lambda$\n",
    "$P(x^2) = \\frac{1}{\\sqrt{2 \\pi N\\lambda^2 } } x^2 e^{- \\frac{(x)^2}{2 N \\lambda^2}}$\n",
    "\n",
    "- How does the distance travelled by Bob change with time?\n",
    " Hint: Run the code below and see how the peak of the distribution moves.\n"
   ]
  },
  {
   "cell_type": "code",
   "execution_count": 15,
   "metadata": {},
   "outputs": [
    {
     "name": "stderr",
     "output_type": "stream",
     "text": [
      "//anaconda3/envs/qiskit/lib/python3.7/site-packages/ipykernel_launcher.py:29: RuntimeWarning:\n",
      "\n",
      "divide by zero encountered in true_divide\n",
      "\n",
      "//anaconda3/envs/qiskit/lib/python3.7/site-packages/ipykernel_launcher.py:29: RuntimeWarning:\n",
      "\n",
      "invalid value encountered in multiply\n",
      "\n"
     ]
    },
    {
     "data": {
      "text/html": [
       "<video width=\"432\" height=\"288\" controls autoplay loop>\n",
       "  <source type=\"video/mp4\" src=\"data:video/mp4;base64,AAAAHGZ0eXBNNFYgAAACAGlzb21pc28yYXZjMQAAAAhmcmVlAABB9m1kYXQAAAKgBgX//5zcRem9\n",
       "5tlIt5Ys2CDZI+7veDI2NCAtIGNvcmUgMTUyIC0gSC4yNjQvTVBFRy00IEFWQyBjb2RlYyAtIENv\n",
       "cHlsZWZ0IDIwMDMtMjAxNyAtIGh0dHA6Ly93d3cudmlkZW9sYW4ub3JnL3gyNjQuaHRtbCAtIG9w\n",
       "dGlvbnM6IGNhYmFjPTEgcmVmPTMgZGVibG9jaz0xOjA6MCBhbmFseXNlPTB4MzoweDExMyBtZT1o\n",
       "ZXggc3VibWU9NyBwc3k9MSBwc3lfcmQ9MS4wMDowLjAwIG1peGVkX3JlZj0xIG1lX3JhbmdlPTE2\n",
       "IGNocm9tYV9tZT0xIHRyZWxsaXM9MSA4eDhkY3Q9MSBjcW09MCBkZWFkem9uZT0yMSwxMSBmYXN0\n",
       "X3Bza2lwPTEgY2hyb21hX3FwX29mZnNldD0tMiB0aHJlYWRzPTYgbG9va2FoZWFkX3RocmVhZHM9\n",
       "MSBzbGljZWRfdGhyZWFkcz0wIG5yPTAgZGVjaW1hdGU9MSBpbnRlcmxhY2VkPTAgYmx1cmF5X2Nv\n",
       "bXBhdD0wIGNvbnN0cmFpbmVkX2ludHJhPTAgYmZyYW1lcz0zIGJfcHlyYW1pZD0yIGJfYWRhcHQ9\n",
       "MSBiX2JpYXM9MCBkaXJlY3Q9MSB3ZWlnaHRiPTEgb3Blbl9nb3A9MCB3ZWlnaHRwPTIga2V5aW50\n",
       "PTI1MCBrZXlpbnRfbWluPTI1IHNjZW5lY3V0PTQwIGludHJhX3JlZnJlc2g9MCByY19sb29rYWhl\n",
       "YWQ9NDAgcmM9Y3JmIG1idHJlZT0xIGNyZj0yMy4wIHFjb21wPTAuNjAgcXBtaW49MCBxcG1heD02\n",
       "OSBxcHN0ZXA9NCBpcF9yYXRpbz0xLjQwIGFxPTE6MS4wMACAAAAJN2WIhAAr//72c3wKa0czlS4F\n",
       "dvdmo+XQkuX7EGD60AAAAwABqtY84Jzh1UCn77C1RIge2AUrEpGZ4sb+ruNBzgkybHY5ps+c8Wtn\n",
       "CFAl/i4AAKw8ayCqBjOe04C7xN1LDZhorsHnUNfLOPFXMcPHvhTTCXXq8yIG5lxJ34WeVlgOHPH/\n",
       "bWETy7Gp399bE81MiY7zFTN+GA7xmUmyR8MDD1Q8gYX5K9vpdpKhwr5ULzOAW4U5x1Tzb4T7RwBg\n",
       "cKev9Eub85dg6jJTUMV8F7q8l2rfbXVqVS3NhKMWP5lcTZxlVlACVcC3cu0KaIgBi41wFpblP8TE\n",
       "mio7kpHssX9n6j8Eu92VDVGSMt0SuefhhN0W4byuVdbMQPpj7HX4Sg2zkENgG6zjN1dzZa5RfwAA\n",
       "4QngHtTip0GTVTW7X0V+yGBZPc4GCVYJpfSGsTk/7mbGbfzhwu8hh0vLxC4Iw6lJpzcWhIAAKQ0V\n",
       "rVLim3yK9D44FPjhEDatCurP4Pcyx03llK8AA0+Hwg1LN6NQDWvfTb6dJLNCQSXOoAThVABAYOMF\n",
       "XdHREtnnNMbYmRL1lWO/NpnLvQuRY01cHkA5DFXnxX1botTit3/k4ed/E9dfIrg9sAAAC0SLV6QY\n",
       "Nh7N1TepL7wzeiasDLBgapzdK5iZfU0GED9IFqtZxnFSHJu+ZxZ6rh7BNCsmxv9VH862ai9ScvyU\n",
       "NouD0E2tdNUrPrPxPe3KOSnPAnIskWFnuLPGHFbNV5x2V1fsQBJcgeESSELt+bODCnioBAHcoABr\n",
       "rh09nTNgQwgONfmAwrj2aZqUZjT+SEsT3Q5EN7wrqWjLUwNhmYGJYeovfZVdwdKRxGBVggSERMmz\n",
       "dkCWmja1gMaB0ms6k9jowmOih5azsh70dqrWM0zm1HnxKi+NGMiFiMUn2IBQBhxHTqV4B96wJrUe\n",
       "fGwC99Wb0eQuDOW/qPrm5iD3Ku/wDyVAM2IRCDuavpG4Zt3bU6jLLrRnefSOY8JpshPsnOlsvKS9\n",
       "ueUxCO+kFazE300ZJYm2PFN7o0iewxBv9W12KutUiG8qBl5QnRJmob094MTbjozwjZF1lahqEzIH\n",
       "QAC/7FgAAEMvT8FFg4dRVaJDLvM7XTjYfpAd+Zk/3WSVl6TsanWAccY62FegTlO3x0/vpCpSkM6/\n",
       "fyo0NoH+7aIFYWBF327UDluCGnTfeCpncajjcwt9LWxG2/l7oracSE7hzwC5O78Fs0B4z3IGqXog\n",
       "M15TCDB2vQUd9SrRcSCgZkWjL6IBleoms08AzSK6TbPw24cXYQD1gqmwWl1D3wo9YSBDRSeRDTkX\n",
       "VQCADjsN0zSssgXSz+W4zKlj39biJ7YBipXZyht+31QzniimNqpyC1RzVbKWw7eon/sRgmVTr8zr\n",
       "iOGTcQKtp4x9dNqN1uuvo/d6KxWCBGxowVevin5jM9PlbOL/8kENVJXXV9fZv44aHgl81cUhslr4\n",
       "hDMm3obNN+zcFITOE9bG7LnfB8KTsEyuIEUDrh/gHEgKQm5j6nGIUWbP3MRBYVWhkDD29Y9xhAJr\n",
       "jkxkFqSQ12FBu8UtJtQAKbXJyT6nApIVy0vOIBhw3jOsR73/lgSs8eZSPOiPReDpisRVbxkFrFM1\n",
       "ZTzqXZeq4hs31eWiuWH5F+SNAJHHISc9sXHyHmrewH3EMO0FVMtm5gfBbFlET1S9QAApujrSjhzb\n",
       "Qg4/zuLOikhZXFT6SQyKmVb/+1goJu4sF/T4oVoWgumKSmLxhw8wbrs4kbNj7ZkKyWweIeSQCp20\n",
       "3szfkHTfjBhF7rTm1vLkpvz/Cboehywlck7WOwhkFVx/eCFcjoc9Xo34sSVNdA5AKs/i+32Ww6LD\n",
       "pWGdtWJeqZzrapvqcfjmIEfSnfTIRe6ipEAH7q1/nzjpKN43tpxbSkn7SZ0DR5Y3qr6Z+4WHD4l6\n",
       "UVxFutnuwiRE3w9bUariiS6BGmqZlrmWk34QhmZyWrCvkjGXJZo+cIv2lZjQjBot4R+iGRMZPNwH\n",
       "dbiA72E42vCDtVL/7m+sm8mxhsg0trIpP+r8Q+B/Yn4XP4JOrgs5bIGX5T6A22jXJuyspxUVkBA0\n",
       "DDHAgDejsbmuwh7i6xPBv/Ph8bNvhq7uqt5XfrfLaDrmfFQptskSgip5qoqC4S0XyRX0WWzXxNOM\n",
       "NJxxth/ccjTbCNi7JVF2W9YAV2dfXNOe19zwdBdztN4qHdLWYrVfVxhjf58tCp4d1tVUod3YW4k5\n",
       "Dovdqm3dYG6ae62Ui/6H0Cz/wcNSvDhR3v8Ofb5FbWHyOsyE8yTsYYcSdUVKrSCSgb6Ne0hzO8ji\n",
       "wlDO8HPwomDkW71ago4DdXcg0qFw0ONuXd4vYNKo3mg+mjOJm75hHyOIsVP3oy8k9B0fnPbol1gS\n",
       "gSM6nnOltQoCHeikelezzxIC7+N7xb/zy+uUg+Y1ZoQ7xeMiExJx55XVC0SeB4R4UxI2UOn20Ihq\n",
       "6wwkcYgf2uLtlPO6vHpkqjAEFk92FrbtKxKUx4YaNk2eW5etXxXk1SHDR9wYb6usLPV1wqLGUvvL\n",
       "SZBs+bXtOlvvL49v+yKrMw/ZrTWQm5/fhYsxixNn/onddb/GbjLtNrjZ9/WCQn79A2Sv+ncVveua\n",
       "7EAWR8YEKrqqPwA/pc/1LfyysneUw7RS4PxfmQySqyr2a5o1vMyV2K7BRPYl88QeGCoybfu+VGdg\n",
       "JYiYIpbZwKRcODMcQctEoALGsOGApbiel04WKtTgoVt2Ld5SBq4f6KKTev0dnkGvCbVPkgHHF7Kh\n",
       "269dxlkZff+dIEtcq/fBS03ZWP6+yC16NGabw0U22HApoqWg4xZVHZ8bYsDysmyQMkvkR7FT4/Rp\n",
       "jKWCb0vRVPRgBNHvLv+4Lx93FJoE5g+tTR4VgCmTbECkOdbSOXDsHutmmVrhuoVVa/1a4b+Fxrh5\n",
       "5dUHApbJHlpJNRcqVM6irIAOriSnCofG0p2Y0wBxhSZ7Aixl/7pG/5Yefv6crfZph/hrjv1Q9QyU\n",
       "GklwttTITAmJp+1x+K+bn16+ASPqBccZMbZ0461Y3852whG5gg1bPJW900obKBJ0E0lDZafHi84m\n",
       "VH0IBRGe7+Cu7ANRPMyMiZcQ8cAdBsc0NcUZulaZx/fj906GlwMcPzXuLtfDUMQ+1bAAA57r9A0A\n",
       "LMOP3UEAAAIZQZoibEK//jhAHYr/w2AnPgP0l9wpn+jbQ5pscFh6GKLBIOD8CJv08DKS/6hy5Dp+\n",
       "F7aplgPjm5/ueCn84sO5rdS7ku86mjpuRzn/yAZmd5FzTU5xFUSE7EmL9pOLrHnaO9JaKHLRbXHt\n",
       "LCSwq1E1xCwJb2Xivv8rxCBjxIW3ve+K7w1ukdQvbA6VCnyPX1PsIcXcXs65UdVRcYm7JAsp+lK1\n",
       "o7SJJCbu1N0n8QMhm3gJU7NX+6YJ1o6Jy5gtMd40iSIoEm67c7Xtp5GVmHuMxbOY/HsF5ORjr8Hj\n",
       "kTtd8sy7/ieG3J/IgcaGDQI8eR/Bv6Og/FRC/e5bjkQjUOuVGMphFG9AoaZU7NzzOMhtQwr7Z4dn\n",
       "R6IUC6LAr8qwWrJ0bbPwEv/r3Aso1vwEf3vPacTcwuxEdRzdyx54SbuDTVUvCVfy3MisLDMhLSFT\n",
       "qk8B21ChX9+Ki8e82gEGW3SGMa0JeLZLhBLWugQzLy4oMr5vaUxqmPjncTJHy/+mrzUU/DixeaB6\n",
       "9UlYtEpjL0qGGwJsc2422VBC3rROj5CleUeuskK54cygUfvwQBXfo61hP9aN19p3uevrv3GXG3xf\n",
       "bg8gt8D5AG+mu2eBGZiwDZzT7q0HX2jBmP64ok4HKEM+reGdETmAPQRyc9so+vS+Vbjrh8+1Ji4t\n",
       "0ePI2mzX9aSkaor1eHssaZZOb+hEwWAzym5YTidDZFVAAAAAigGeQXkf/we7mxi1MtlnYOo5sgAA\n",
       "AwByHVMsBPX9692djwAJ3YGKpDgqyN9CQt+wIbEtInnL6StTveRlsQtsJKUzKtqvPyz2fObSdqnp\n",
       "xg0tygNmqWbyBrw9p8Imb6dS4yNfOaWLqgWCDGLs5AxvIEi9gBshDXe2sBFvQUzU3Ani3cq7VgaB\n",
       "GSYegQAAAQlBmkM8IZMphCv//jhAKT1IuGBJqevgfK1hLyuGWl2QEDCo5GNcMsUdmnhajF0ZkT/a\n",
       "ynSG3v0ib1Wig218dgje6AkefXPJNyg4Tjq4nr1ZiU0ynFXWFaQ4m+O5hjAd+qxeBzqOvnffveIY\n",
       "xNbKwi4rD7mBY3c4IQ+AxkbyFmjYOOUFVYRMWqmPwGiqWTfVJaAh58fPPNCODCVtzbhK1OtyN026\n",
       "cO+XYAPCEk80c1auQpfl6DDxuHcQ1zUFF0zmZE9zk+kgs4yn3ieg4x+Ozup3cHKAmy8SnmEjkLkW\n",
       "VvJ2OMnopcfTlIjr+HTgbqtY7oEHnBZ+DuZH6qFTmc8G/wUOT58FhuP1v4JAAAAAlUGaZEnhDyZT\n",
       "AhX//jhAAAM6GlOMA7ACuZsPS8J2/Mq5yyYEVds/SUk4vMfUw5K5qk6EeKltQL92iMegJyQOJVKn\n",
       "UW6sjub5U4jzjGqkqD2ZMNfQmZdF59gm7oOHnvDCziJwlHXv/EaxHXezEsXV93ASFb48M6ZnLznG\n",
       "L8mNMEb2awGtIcegqURrqi4CAe4Y3Wege661AAAAlkGahUnhDyZTAhX//jhAAAM2cPPVdgBV/V9Q\n",
       "CnnqxYZZ1cn2UgzlJXa/aMFK8JZVG8GAlY8oNJlAh3Lv58m1vjEQSC1kHcXrscsfHDuY0Dbutq7k\n",
       "DHiPKtNQ5CNa35pCOAsFiz5/kqL9dW7jReLOqiy6TRdr2iSrW2oX6DIOV5Ke/4r6iDSs+7PFsbb0\n",
       "rmf7Nd2e9sT/UQAAAJJBmqZJ4Q8mUwIV//44QAADNewAyu1/BQN59qDnXG9mgBW2WDrDVV8X9oiQ\n",
       "XZpjN+EsP1DRthBrCMV67T9JjN7XKKVBigEpjtVdHuYCdtkbaKeHZUUMD1dGb3jy26Okl/iDiD5g\n",
       "4KbC9FWHMyaDtBzCZ5YPY9Mys1StLSmfNXvdFxFmhkzQGDWmXMlsXBA3ol9pvwAAAM1BmsdJ4Q8m\n",
       "UwIV//44QAAGRn2oGcGhaYHoOek370viwBEfoCKs4JOJI/pP9tkLjpfDslPtIasC648NMlFJiElO\n",
       "FVbECnOg6WCFqTq0aW8AWPOVF2+j7Lov4m2Vn4rDa+CZZvio6dN7V4GPiDhNXa3Sjot0KL4c3HZA\n",
       "2b/wjFodm155sq9zacXB5Hjfgwc9ebTGM7a1voRYhCsRumUbiTcRhVAlKAi87eAsNK33ckKHJbEp\n",
       "QkFLZq1PlItd2X6UdT9ZbnJQracnX2r3Js/zAAAArUGa6EnhDyZTAhf//oywAAGeVXhbQ2ItbFlU\n",
       "8wwAVzGsTEVfx5wlJb2wi9z2L0qOI1PNhRPUiNSne2a2ger6P7z9c5oGuD0B7Hyrzq6zRfiRe1/B\n",
       "myN8wG6RA5Zi1iG8KXfLti65km2GG652LEHVYgtxegnTdFIhsZJnMCGAXpIRJC0HEaUDNwZ0Fpl5\n",
       "CRc07uzHpKwLzuLQDK/MiLEeDgAusfCutUzg5Vi9XK3UAAAA2UGbCknhDyZTBRE8L//+jLAAAaAU\n",
       "Opn7EAFjSeO3tdlXn0ssh8v+aG7tqqG4i7WCxHhvIrxq1grv0Ey7kyEn1owmPmY6ofBf/HfP+WSH\n",
       "JtEDFjM4A0qQzKrRP3y6uqLhZxuZTyxa8Iv98kI4G5x7Kng5uTNLiy6MHZC9fSWrJ+6tyjCFond6\n",
       "aZ+6IBrIn/6c8FHVpDhZMv5Qr7LtPUbQD0Fw4FINcYOvTwpfupYl6RvuF9MjSXbR95v+fRyoLE/u\n",
       "wuj6L22fi+STddWd+q5N3tuOtFm1RralKuAAAABGAZ8pakf/AADYeOLmuTRM92OPiuzD5WcwU98A\n",
       "wTDohjal7Huxqmobm/0vGgAfuO81ZFSC5GPcv9MKN6uF7A9pTW1aHSCVzQAAAQVBmy1J4Q8mUwIX\n",
       "//6MsAABquE55BfxTAkx2dBwA3aoy2j8diWj0QraO+o5CliUn+2hB6d70QNW+rF3+KpXZF/E+SXv\n",
       "lFxpibydgDulyHoNAmfygjOokswa2cMRTk2tzux0+6c6bylIpM1ElJFsOS0oAd/jpnPDQaCuSIdg\n",
       "JGMT0lpijA+1IozMg5BC1UrDDA0NBb20ZmYVkdLoxMSVlJ5VlpsT+KYkrfsb263BvaOXp71Pf/qk\n",
       "emmypyU7+D0pJ0kt9dgPzdsSGS/JYzAf0RRIaWWZB3h81L36c5a/O235YFuQOjjCeivjJsU3jmq4\n",
       "vYB4BWrfDUAvIzG3L1T6tMG+PU9u0oAAAABSQZ9LRRE8I/8AAIcFCxokUNJ6YNg5SdPmPfZSfmeQ\n",
       "8YoOiGorD6h9OzsuUIgSfLD0sFA6DVRZu+6Si4yj1y39Cy8lteK6s8cqNA91UrtR8ZlRwAAAAEQB\n",
       "n2xqR/8AANLnSlhdqvJYnYi0yKjvfGKy7F2ySs+lp+BB3rqarevf/yD0FHc4W16J4E0rAT24ACdN\n",
       "8ERQ2jR4sxbkgQAAAK9Bm25JqEFomUwIX//+jLAAAz0UcXHrhLgwqt9UxcQDtTwlE3L+tLHFSzy+\n",
       "5z/JB76omkJ+nJpdXLxvivGNheJUSHxkS7RSn7GgYsNY62IeGxgjP+E91zs2uQCoeYxjqCexdoEy\n",
       "5yVaXW0IrSvV+CDiWkjJOfX4Evsev2Pw32hwGyIIbNXvnC2V6276wxfcSHRb5LNTZn4ja7+BopSP\n",
       "WlwtaeFkuQYInqw+K97smtXRAAAA30GbkUnhClJlMCGf/p4QAAM2u0fwpCgNZbYsALIuvf+yRWKl\n",
       "+aQYzaAKzj8GmEQVbHRF9GbKYxyvKYp61TQTOCatDcfrECxTw6k2sAKmZF4gpOJs608GPO5osxcJ\n",
       "xlYSsx8Kz9JCQrg5/piaC2iW2ffk9fLxrsjsZaHsAyA4jHXMSUnmyA38hbcbZbAG3mNPLB7hCIxU\n",
       "NGLAsNzCKtcRbIZ5YqM4ZJE9ql+Wrh4u2EHOq+gy53PNSoUY0ZHD6NW0X8ElTw1QPwj+YPrcDOlF\n",
       "oLIRjrzwImvw37ykxFgLDVkAAABNQZ+vRTRMI/8AAQXSKjonD1kvuWBMsQnbte80yv4sdnPkHsRj\n",
       "AkA993H8WebDBB+PKvZWMYAxNkAB7G5eWeeIkXBW6FE4v3oOBMO9YvEAAAA8AZ/Qakf/AAGm6GfH\n",
       "lGWdzgkhCsNSTjHDAisKwyLYmLD9fmlWFvRRBl/RfUUXsnX2b1mDhFQiSlQTo5SAAAAA70Gb1Umo\n",
       "QWiZTAhn//6eEAAGRc64NFqAO0JhR/1qdEhh5dVl3R6DQQl9+4G+9fk/YyNdQfnihoH8jVzBjNoL\n",
       "RI2HCcGZkkT25aexppyZNdi55bh7W9vsRHli/WNQjaRBNACiAtP7A/bVNbkzrLNtiVXRu0SsduCl\n",
       "CBepd/9Emov1Tp1UUaIW1OKLBrDL6yv+aWWmLrDIZ9OdzwNGRDkLB+CtrIFO00XVKl7/VhGebe+c\n",
       "bXvAXfQx75z4Vdr5ZBbIKqOUSEiMdfFZtvrWxZdQk8vchpLwhg8MFJkR25Mcc4FTV0iK5vs25Kv0\n",
       "paeQ1bVhAAAAYkGf80URLCP/AAH8iST9jREO3SaPiLJw1FKS0XBu867ksgb5KlQ6voEYEiU8tbTC\n",
       "IAWML0RzvLjTHtJ+QAkz0Ed/HkigyA7MrNgsRoseIVGmhBl0zT2XuUY++QFTpT/JqrpgAAAARwGe\n",
       "EnRH/wABppsQjghmp+B1lDNKORdA6a7H+Mmo0q6HFF9cIlVEIdoi10oMlJ69QAmI80D3poN98SrB\n",
       "DliJEIwQ3dpRHbuAAAAAUQGeFGpH/wADOSdoi391dlgr/ZdGFrmkbIuVQkZSfWRysB9k/Ps65/27\n",
       "sfkX2ddAQuI63kJ/gBMnbtX5aWzbbaYdYfTnhcUBUmxCziAQD0OD/wAAAS5BmhlJqEFsmUwIZ//+\n",
       "nhAABkbV/rntkNfWvtqINBbXQBN2IjLp9o7PbUTfPSx/KfLXMLTdunCrdmExEhYbrSmGtUUFdDAe\n",
       "utZjkwmMQ56ryzAumUkRiqDGtqFIpGSQr/6qX70Y+tOLgd3NWINSLqJmg+OwH1b7T7F6T5Ou0U99\n",
       "ThJEwl9CpVHWho4pciUEZDTlXDLNHaN/qRpUCvTvFcbaVt6F2oUVSQfXBNoTPgoZj99GsIkZv6iI\n",
       "xOwY6wa1v6myRA5msrMrOUbPFRfbDhbufIB4Zl+UY4eM7ttOYDTyujNfJhswM0ze0cu1ygnhAeGC\n",
       "WeLU0ww5bG2+MC+p63LEneUwE3qXn2Yv4qn4SvMClzbriv3EIOz7x9+SdlqFpmPC8/jtee3bpZT8\n",
       "8f5RkAAAAGNBnjdFFSwj/wAB+yH8lxT8S9rTNUAJEGdcJxAvHfJvdgT0wTbFjyAPfL7wmw895EDt\n",
       "pTRPBJKNPTZD3u7UZo96APT4g2DvNUJsNqDCvwSPcqTSwFzTsYSVb8ijEq1N8XR5XCEAAABKAZ5W\n",
       "dEf/AAMvrmFd8YRIG5LY2LqLAgXiawbkh0lLxq97w0oDkURCIdAXWKPb+un+Yn15bth7swun1aKw\n",
       "EvvQAnTfBBbf1rrMdy8AAABUAZ5Yakf/AAM2dcoFfLKinLhX23ShVGfB9/InKA6Lp5BIogJ9Bg0C\n",
       "Qr9MANBwInKa04PKxZA6Gh6aOOnkBO4Il1YC4VIATpvghKpqsiAfhuWKs1GAAAABDEGaXUmoQWyZ\n",
       "TAhn//6eEAAGRXaP4VLN+W8DFQAlnhzL+dXO7iK0xG6DUGsTQQ/RMF9b6DrYTzQhbQUcK613vkYD\n",
       "Tc2fjqgJtDwzy5NAjpIavciyBRpCo6v5GQY/IscWDoo67VkaByNMyBBOY/g5+smAWadCHBp/i6yq\n",
       "G8rDuve6PPDRMKBVGOAF4pOQRi0+dTmbHm4abg2j5QsgSbQDHgno9YhQYuS7/gK+KiOk0RncNi+z\n",
       "1sAm45YGSmus4gXKyrzjS5hmzZLq+5A4VHp+N5xJgbvrtjK5RVQ2Vr90jAkqlZRVJXfqcU/AtInq\n",
       "H+QH0oTDY/LwDczj8mlAnBiU9dPLQ74FRBNuh0OEgIEAAABfQZ57RRUsI/8AAfvQGhrq3RAtZicQ\n",
       "kr80QnoeswG5yoahk4Eav/8nnH0iephUoYcm3kiK4eikXZ8XcSWXcWl2xdTRA1BFzrgMIKWWQmZV\n",
       "GVrX3a9Gnqd6j5575QBWIesAAABLAZ6adEf/AAM3aVdlFYHuSF/Au6YLN9t2JohBGbz3116JTOXu\n",
       "XQp/rPBjQ6I813cPX7ls0HCSgUZ+asBPcoAJ03wQWjKRSk0DnbOhAAAARwGenGpH/wADN6RE8JY5\n",
       "yxwo42hE0uVQBwEYydqnSn4rWIM52aLo9QEZ2mIBc8YOhM6qpSWsCa08AE6b4ILZVRCZ1RLqIi2R\n",
       "AAABP0GagUmoQWyZTAhn//6eEAAMOu3R6BYgGI++S8+CKV3HpwZrQNkAirmw8/lzkzdRC7PMZEL6\n",
       "g8xE5RikAQgvVafGorlURx7ssq/Hik4U9jwInMaKjt99/kFj+h9IE9t73GmRcTPzODiLtfTn5943\n",
       "09Ctd3sL2bi/QjcldVg9LsriNjb1u1YCTYXh8pfI8yR/sw5TpEPg5n8UEKH1//A16mYSh1jlx0Lq\n",
       "n2rIuCCwyD/mbnlI8s3GfLe+GYgdOdF0qsp1hVQixmmF+Yr83jTQ+w6WgsTKEM73VvLHqCperuGz\n",
       "maVSe0T3TGwiazXKa/FUdAsMT+zi2hJ49pUjDZTvQde1bju+NbIjAWxmdtKtwN2epYvNfGY2lZN4\n",
       "5/breg10mZRbGuRyPz0CTS8acZd4oJLisLiu1pBtVz4z6OLEcRUAAABmQZ6/RRUsI/8AA+MSSfsa\n",
       "J166NFM3LOKbgFHHGkp6BQOA0tUI/TU8iRyJWG3yTRhyVHcGkKyST3T+Tzef94PDpS19PzYOEIJQ\n",
       "wAmrvNi9AYShgz81a7HO+YH7mTpV2C7YHZqO8HTAAAAATwGe3nRH/wAGcvZ4w7rEHAjPF92wuj5g\n",
       "ykhIasP+H05pNeObGWugcsEE4gnJyEVQCUBh/QIq9Mc8JF9fFrAmtaABOm+Byu2bZr9zFGNspoEA\n",
       "AABUAZ7Aakf/AAZzxynT1QXgUpmIROlYAb82cKFp7e24bVgJzpEYgWy0IxZt8d03YcqkaZC7xphy\n",
       "aPNKFwAd+Z34GmHee66Y/P47YBfE1dGB2iB4SuXAAAABN0GaxUmoQWyZTAhn//6eEAAMSIvkGHnI\n",
       "AbgN3WLo/90P4lv1Lyvewpc4bh9aXRzolDnb2NnEvDi1bXOAE57UZ7o1UG8NA6A1eAew6EK793nn\n",
       "ANyzvU0DjT1x6tMyksMWWLg+/bmdaY7wkAmJ5Hui8GBpcPZ/Cwww4uS6+0RzGGJeAAiDbc5/Sawr\n",
       "pFNpfZQHTnTL5rQuFb7eczvgn8v16qxiHODH0d8nB55/aGyV8Tng1dw20dan+ILiCIYvpKjldC+f\n",
       "uEAe1NiTfJ64u/uaI6JrUlC8CAzyfOPg8v/TlqnHxcGbzKKpAPZByG0/Rcks7v8K5lZ+VZUVd/OF\n",
       "L/Jsv5E6yto0wA0/Gq7LuPP4XHB0FVhHA3A0F/2TGnSR6PDcvk1oPe+neREYiQtn9ZYtw+TFRiCz\n",
       "nc6JAAAAekGe40UVLCP/AAP5bOcpplZzQAtaVZFY5aztwL2bdAZSfxAjedWd/FeCjXgq3DjBNNae\n",
       "buCR/B5ebSdYoxOU3bJ7ZRabazyoAAA6TyytxGo/c3slCOH5v6Bebal1mbQGtSJJFERzNZV/2dsA\n",
       "M6GV4YmbMvY27U1pfSZgAAAASQGfAnRH/wAGcLZtvhqgY2lT7gPTJ9VpN7LVd3P+fLNiX1iC5tL8\n",
       "n4cnSq6De2S2Nw4rE9efgBL+RoXzOeLz86oDWSm2MHVDMmkAAABSAZ8Eakf/AAZuYjjMGVe3LqhU\n",
       "wr42ZTNBsuGRaesGVqBwxuyANyj3TxZUSyJ6U89AyoF91G52mJAMRMZYLodwPJWAs96AE0b4IWBl\n",
       "lD6TF8QIkwAAASBBmwlJqEFsmUwIZ//+nhAADItRDTxBjH8VbwALpJg2w/Mi2A5lQb/lengpv++x\n",
       "mx2GqAflfkI//fZ70QVIOKDZZDZNTyPebHrr9D7HY29bVgjhmbpBszu0+DteE4L1h3J+SedaJSPX\n",
       "OiMWFP33DwRSpgd9fig9mJakKrhbHALgd/NU/xeNa5J+9bA5WwKJAW29jykPfucBWsQVoFdeiEmY\n",
       "808/zQxAYtxlECLmcKzO5OgXIQX6mXZZHeYQ5jvpUAXm2W4qB916j/vTKgVRqo1eUP+dnDKURBiz\n",
       "6Onj+IeqzY4TdToOaZd9478d5f4A9U53Mk4HW14kCugtrEJXhMe061ewc2v3wlJ+OZwfoPuVI7/2\n",
       "1C+BYuAILV7ABZtu7WkAAABXQZ8nRRUsI/8AA/jCIlK28rZoBFvvxN0wuVSvZgV+9pPUsI/tUnus\n",
       "EFQgKHLDgM4psMiTwyTkBcYzXJ9cdaL5mrWqj1UNj9Thm9m4nTs32h37ntJVp+j/AAAANgGfRnRH\n",
       "/wAGbv/p8eQW3VioCCz3AZymYL3qp36cojXljcXYkAT9nrF4ePMvmn9bkvL2/snd8AAAADoBn0hq\n",
       "R/8ABnJKcgcAWynN7fh6y4osb5pQSMWnz0YN/+i+gR5mjQeHkDbAuzfuqCkw6CDf0CtG6Eb0AAAB\n",
       "KkGbTUmoQWyZTAhn//6eEAAYdzrhVIQ6Ler+20MTQZAdCDi5mzYljsYNzpurimqd34/F68yfH2VI\n",
       "naWBZfB7cVpg6NX99taSdFWNoLmC7MhFkvkVMs8cQA0Rdv4AgAA1MUPw7jZGDge+zjnwWrg88yh7\n",
       "i/5w7wS8bQvT4DsCBaO3Bnmmf9hNhTycMk4X+35sbBXg6XpxePxYzvYkGsUXVmPbH3Q2mzvmp8d6\n",
       "Ag4Ixex+n7kPPrfNwvJ83Dj1YFFsNEG1ENx9fxg0U5iPuEctrgnUJXYXGx4SmJ3ZFk0AAAMABVJt\n",
       "ps9ZXgyPdmRBaPqIPh1mQnqa8kuUSNg0WkXL67E+imeIMOyCdC26qOukorXpoMNL9ppMLkvrGzDi\n",
       "vJoSQtXDspkPGgnA4YEAAABhQZ9rRRUsI/8AA+LpaKXKNcNSRxbbkARIAAADAGxubwpbG0hIkR2c\n",
       "krXX3Z944xqT8RI5YGTf2kybORucL35FxGdpl7vlkjonaVILRtXlarN7oLzW6Psr8rMUoNW50wGN\n",
       "SAAAADwBn4p0R/8ABkqYIZz637+YlYUlHC4DaR6rbnb9Cr4MNJ48TlZvImdWExkUy0rLoOlKxkWc\n",
       "RUC03bLwnIAAAAA0AZ+Makf/AAZFiofZvR9aerO/PgNlTtsMmN0+giqUIyjUbKbPPb/+94BrTP3f\n",
       "3Y0HQuAbgQAAATlBm5FJqEFsmUwIZ//+nhAAGHtWW5MfUgE17LNU3GdES3tnIN94+Q1EKJah6/Nd\n",
       "kJs+GJjwY8fD04sI+nacivz7lh40kHyorq9HjkjoSt6b2LNgNXQfRM6F1D9Rm3TY2oanAHhLBFq7\n",
       "FSBRPozuCtinewp2ZjIfmkFSRAaxZhn085UZ8Xf1YzF7c/TkJHRS4rNGAq7pSQ+RM8l1JVtr18A1\n",
       "DttEH8DqhgyWb/vv4oA3gE+qBCJZ42QHc9EOuckV87CND8hRX0238/ms4M2LPcoMYfpwf32xqDO5\n",
       "b5zufO6Dd6RK+/UQn0RW25v/w41kfev/vXLhsrpHPEbfpOyZm4k14oVxpn8tKprgnTmnfvYrOV+u\n",
       "CkUt1PSVpgup1vQyinOLDuVPVDHKYoAZ/LO98ADVEv5SeQEJPfbpAAAAZUGfr0UVLCP/AAfDBsd1\n",
       "MK9nCoMkoDLND5y8M1CRg4tCp28vhaCaol9IsfTz0/Z6hMECz/kc4wez8b7mEqEhK3Es7z5+pAEg\n",
       "ZCRMsivmNr4xnMFMjogAS1ZFrbaZsDurmiDYbWWBAAAANAGfznRH/wAMlZOBSXmT4seqJTyXF7FX\n",
       "Ukfp5ZubmIOCcj+q9juRTsWSUsAIcBwYAL6JN0AAAAA4AZ/Qakf/AAyUAsJFxMmEsDxGmMNZnGeL\n",
       "QnCINBr35tw5AKhCywuf+u8fxgw0TaVmP4GvnId524AAAAEyQZvVSahBbJlMCGf//p4QABh1vVx7\n",
       "3ACwuw4nmDsHdGWk9eRw1wcu1PWyXR0cKBKlHNSPpNwbaHxvZX6mi8Uny8ZcEc7OsmhBgfa9wfFq\n",
       "yEchj5hmICiRUsX01Dy2DWnoIx7pg9rJsriZJVtsJR7pM3ujGcGZoOo1TmF6+by/+3mOh/BnjEox\n",
       "FPS2w/MbYBmMPz+5EyMtvYapa9V+gI95AsYgkP4W9XeK9/0qHi3n/iFuG7oBEy4cQ4ADVlOc/IQ4\n",
       "3SBgGm5PIoZh/ZUQ6v8EHTcvNA9Q8WMRjX+cn8FmRF4xW4TSQQjNZe+ET43IArmK+GHINIoVX4Ih\n",
       "rdG60jk7tBuh+/hXhTyV7PIIi5l+ZzzOUL3HnuanG7iGtL4QDBpZVtEuxfB/k3hyM8+RHWPYtMn9\n",
       "AAAAaUGf80UVLCP/AAfGnlveNiTA1DAA0M6hqBhEogaiHAuEiosRlJoFqG5VepKKl6Apk3n04E/B\n",
       "QyOLMBpfEqSZF/RqjMSeGJmsiLJp4AxQ6pcuXQDmUNkKdI1kkey8Fu6g1sWr9zr1WC8NmAAAADoB\n",
       "nhJ0R/8ADJUD0cWS1cwNNMZiYd7RboF7tGfhR9kyJRtKlj4Lcy2g29310mUETcMu71qnBULRK2Um\n",
       "AAAAPQGeFGpH/wAMkqV4cEtKZGlfJVZm3YrsbSfuZoCOiSJOq2xRW3IUogETuDOXxFNnhRNyUii0\n",
       "LRwAe5645R0AAAFLQZoZSahBbJlMCGf//p4QABiRE+O9ZABU6MfCpC46XydvWJxTdANiFa3ZteeO\n",
       "UzHeLkTUPHlrXB9bpcOZcHaF8g+/00m3aEOXKgHW5QYzW9iOj4LtdHVa1V1MFqffDPiqeDt2VEvI\n",
       "M2VSAw9ChI0S+1I9ohwAR83PboL6tYg9tcWi7JPl1kHPq0/OWUbZNDVpLMHawMElTBvpFwQY8ZTv\n",
       "wQy33WuKFa+gPtudpEwvcROohGkv/+GX6K/aIw5Y/Aei3tETiAeDRzidaTTC8JiMoH5QUt4iR30K\n",
       "STpPXQkq6Y+l2Vg7tgaX7s0HPTiqd9sTyDjCDr2ydA5DqGiyUUTf4Mgtc6Ne1YZnRTIVm2Z05Er4\n",
       "THFhlDnkw8xgWk3i1o4lyw6/HPRn/Uquh04vXQ45r3lZ/qxAlFPfDL5WFatKA0MGphxXeBMk+7zB\n",
       "eAAAAF9BnjdFFSwj/wAHw134PxVpDMPvqdWPzrt61Y7EzWgtkO2YcQQxtIW1GWBg9hOatBzHJcKM\n",
       "FgUMhhwapCS0lMRi9bJiulUYLcS9uEWZUAqEP8q7vYBmsaoclwmkqUlqgQAAAEUBnlZ0R/8AF+vl\n",
       "bkrAmjWO9unx3+sH4w8mlsQY5FfvcNZejdMvp8EpmGLuCwR3nuD9xzJKXb+M9ORvldCGogALsElR\n",
       "weEAAAA3AZ5Yakf/ABfvIsaaOHS/UkemHZX1Qp9Krd3LaV4ZMGqBjJDgbC4z6IcpfX4DbwrRHJ9A\n",
       "YlxingAAAQVBml1JqEFsmUwIX//+jLAAMAq7GgdtI2NRIE2da9YAm5SmbBXb7ZDF0IxwBc3WpiPa\n",
       "CxS3cw43xou09SNSYdkyGAyEiJJl2OK8Qd1IqyFZOzSqP8GhXgcG9rTG+xAO71JxpKpf2QyDLb2D\n",
       "RzuJFXpYlmtjgSHPYKev0Bjzv4V0qVHPWIa0ZxADRTGEQZPmR8OIAHE8A5zjzJFTCNe3BNp8kMr1\n",
       "3/phEG53J3g+ohXdGbK232x8OkqnaaZTqbOTpsHvs27WUPvokF1sdt5syRh3skR1Dxl5Y0cBJcat\n",
       "EQfBd6sHubBZtHQ4hzy93SCMoz+hDq0vtYllQqDEYJ58GHFpXGAHiZ0AAABYQZ57RRUsI/8ADzbg\n",
       "yXD8tJ+S9j906pGHdnGFHn65G/AQoSS7FKBpr349bJKKCVs5O1L4Euq9i47NliUSFO5pt5HYQd9Y\n",
       "2yB9r6tuLysdvlSa6l8HIPfNeAAAADYBnpp0R/8ADEUwhN1ppu4QSCWUCiPvOyd67N1cHsEZUQfd\n",
       "D8p9xVMHpse0j1IywBYXZOz9Pd8AAAA+AZ6cakf/ABiLIDkTgWYcuzvpraKP+mHgkylRwF9v9VoG\n",
       "z4nBq1xFpxzu0fjdJAYJ9ciOaTGGqutgCQMr4bcAAAERQZqBSahBbJlMCF///oywADAKxxpkwAza\n",
       "0DgaNJzef0qWnhwrBP40oB2GHge8pvTDY6gGmX+IP4rBTKXp1yv0uERYuScKp/KKyCTYwPtQRU2Q\n",
       "lDYE/Dm7+3NJUSlsTKk+HiYV7iKVzsGxMuKjZd3D3sNpKLGPce16zKtR5sUb/Q6mVqOqKSkLHTrT\n",
       "vFBVfah3Qux0PW1WjAmGP1B7iR4A4D7VMkz+d/dDy0Hly1Q6/o0e71oWl0fjId7iKhkFrqArtmdJ\n",
       "rbh9Nd20HfPelKAP+zyYW2U6WB2AAAAPZxo0NGhWn88404rcL9KabAEa/wvXkKIThgGKTnBtXGX/\n",
       "Vt9VWEz/MyNL18ub5njIaBx8Eo24AAAAZ0Gev0UVLCP/AA8upASfCmklXbddgFnmJzYkALDAAAAg\n",
       "72E9YTJtGdj4s/N6EuBHMfl8rFQVMVsAA3XYaZYMnEwRvlobFkVmUzU3/OtvP7dodRI1qxJl5XKB\n",
       "H6eRYPUlX3+zXsnoFFAAAABAAZ7edEf/ABiKYQnG0xG41VltHvnw66tnF2Fghd4IH8IPGzLP2Hed\n",
       "dwuEb+Oi49K62KtCY9qZ8QMTNAc7h+QAPQAAAEYBnsBqR/8AGH16XLyn5xt2q6bH6co5ar56jx8w\n",
       "R1j4cvfSDW9zxshNk2+5HqfJAwg7EBki//feDE+k033nVmBcflJ5gYFwAAABIkGaxEmoQWyZTAhf\n",
       "//6MsAAwS+cJcSvgArXrAkp7e5J2ue01EC2x2uorFWzf96ISuIu1uWFbxddI8jTTOnFeqtxCPZxC\n",
       "X4GkhiVObNP/TMllhKMB0lRFLQIufAkO5GtU5Djf0o5SpcGh/D2TwplYx9t+WFHA+A1gX1NAZ7aM\n",
       "aKO+oJ1hazOb6YO/L+PA4oabTHSu5oDT4n8Pz4YeUcOARXCEDIAuyEdX8ZayTMQStq4QrN+vEL2J\n",
       "8NCP1u06gHKl+BcMFvzxErHxbuI/czE2205ifTwPiuTCRpz3eamK1VwLOiza0f3gT1PC+VbXJRtT\n",
       "b/khWO+IrDSrE7eIR/jAikHRycawo7eSTxK4yA3kSaPXN+KBPspTfzTfDaba5r64+FYhAAAAT0Ge\n",
       "4kUVLCP/AA8upARfpkYQHxMcyYkyLjNSVpCnbpAhgvS+aUhkUCiVJB00GnLLA2Zjg/tyDC/1vm+u\n",
       "WCzyEjCT6BTa5dI8JiWli6/zI2AAAABAAZ8Dakf/ABh9elnie8VTn3IVU1mjA3g+mgTN2zeI5GCC\n",
       "n7mgTR+j3htQJQQZz4Ij5GpLPPuRDXV/brQTATGJwQAAAONBmwZJqEFsmUwUTC///oywADBCr95K\n",
       "sARtUXiF0oH/LBoEWkzPZ4Jt5xz+EVf0OjSbZFsNysFUtMktGP0DN19zo6ciyDCFjA2t8MArDp/q\n",
       "2eE2HtgIo/lfcX6uGaZeSTXPZa6YmtJOXot7rxMX4aTnMJSBev5Y7fsGqBmFmyoHwD8IG6Pbd3or\n",
       "rWadsEs4T6aS8eLkSnjMzf00ULPTBWMvf/LPGuU39tvVq/SxpgzlyoWqqoc4AjMh5wdsKXNoi7lk\n",
       "OgfrGJQeDc46M8BXXpBX9kKwfqnvY/ODNqxWirVeUeqAMQAAAEgBnyVqR/8AGH16XLyh2zwr/52D\n",
       "huDclBfWzHepRlKYMVRjjEe9INgqE3CUMvN5jbq+uYl30kcqrfDrsoU4ZTBnFdagy+QV9t8AAAD2\n",
       "QZsoSeEKUmUwUsM//p4QAC/rCdW2uz5xIQAcOGYu2uTW2nIouAN9ZfvpgToHnZm0xx1jmTq8fxdH\n",
       "wp/+JFwVDeSjPhC3ZWnrrw+4/F7vVdnp0X3sUO6lLSwbkRj4N7feYyTOCurFOGReqv5SPcxLPCVp\n",
       "JRr/Qh1e4hoL3gNF3o8+qAGZSBo28NYbpGFKzILuaACztRm8qU+aV7sLCo13bPJVJS+rm1vfaLbO\n",
       "IT8/HcF7DJofGqSn3JVsmcVvSVXsZ8BWw6MbeKDA33+uBJfaxaOblk+46m6DfB3mPASRqhBzanmC\n",
       "ai0d7zDSfCkX48rtxunglkKTAAAAPgGfR2pH/wAv0oS53ndHe1g0SMrqyAaZolkZGq56qIaI785b\n",
       "5Ot0hF/J+KBfXstQ2e0tZkdNXztGYJligFHAAAABHUGbTEnhDomUwIZ//p4QAFz91K1GvafULffW\n",
       "LgB/9u5pSlDIBzoXHys+62+/mh/+fMLZXwwSoq5g2G43Ho+cN/lBCBjVEWtWRUK5aHGpt5vFVeAr\n",
       "eTNSqxmsM13L5tGjh/c9+P85qMFqguW5JLVW+lmIqeNI8rxZK++cu5qqriFsjzTF+oAYrp31OxZT\n",
       "WQYAyWRfnbzo6frgYa5RovQFNImGLuiajnz8lL0N6XBufOootkWBfAJ4oR46nPv4bEkWTcVjZl4b\n",
       "7KbnwNiQw9+LlaOOJFufzFgWmKYX+J74IZNTcA0BwugG+DHJ2DD21cfkUJ4yJZyBzn0yFuxmGBlE\n",
       "0L6fPMGHCD1L5Z2lU5fyUpsPZf4yclk6sDMPG+KBfQAAAGNBn2pFFTwj/wAdvck60NeYoovPfUkR\n",
       "aNcOZr9U/rV05jmp7dE0iiEKHT0NrX0Habfsu3esW2kb1fDDwAC5uCh6reAkEs37nIi+O9zEJbd9\n",
       "HBleZ2IJKKjcDLmtHQA4Omn6yUEAAAA8AZ+JdEf/AC+4XkCcyuQzqblmZv39CoLvyz9zFRgG633S\n",
       "uDFYyHjA7SEnCYuOjZlcj8NHL9i7GM0K5wVcAAAAOQGfi2pH/wAv0neaN8YZ1JBqcPVM3dot+Th+\n",
       "riZu3bO3OhrEbMNPcsSNG8xRaqsMYp+ZggWMANodEAAAAQFBm5BJqEFomUwIZ//+nhAAXRP9XAI9\n",
       "t8gBt7+9IRzAB0LUZRrDYagO1ogYV64ARz6wcxH7aUs0NnoQiOZj1Sf1V/pNbrGXcISbKOnLqBrI\n",
       "Y1RauQga2ZAyVbywxjfimrsM3EE+WfmDfsHd201GQjkN70uCUwF4d9b2BqnGX3WRxokrmvSJ1ZXB\n",
       "4+iP77g26uZU3jqm9JLGX7HfNt8WJml9tmVoKhuYGoA/UtnzKSAgoFRsMasHwd8tnD2s18ZyVVnj\n",
       "TGHcKdhH8WhtBo75PBGdJWgAnDLeC/9hwC2Z5KHb71/Sz0pbdkbkNYWkV7dQTOTBPToXvUDQmHGd\n",
       "Ixt6QqIyoQAAAGNBn65FESwj/wAdt0uMNiMuDwTh/zcDBPgBihU4YjIm3OYmG8Bk5G7nGckT3vjs\n",
       "XUW4yb0/S+IBYk8KSiUNT7ybBmAmEylDE54XPiQlYONVggFzEJ9Qre/AWrv7jQ9Uz4kW3MEAAAA/\n",
       "AZ/NdEf/AC+YvztnoGzmDNnAeL15GF7mI0DJhMzLngQ7yLDWYCzZ83AF8AwHcaC/v4AEO1CQWztf\n",
       "5pS3TFfBAAAARAGfz2pH/wAvuvS54/ZfxQGKwFlgJn7syMqtZyUaVoxcoqmUDwqljmbfK6ttQyAX\n",
       "jpN+d/tyJLOBEZpGvrQe3KdcWubwAAABB0Gb1EmoQWyZTAhf//6MsABdwrfVHnOAHyK0BGiXZ6Yp\n",
       "EqXndQTFXaObzK6I8cFYjenCbZNEaFULA3sVoOPC6+Q95lmqiOLsJrngn6r9RNujILeDaeX4Eevm\n",
       "xgla4mS66dRi8YdvyvBEif3iv6PPE29dKQFwgLxCFJ2r9LcRsaTX5gnOfbjIZRPPM7nT3Xs1Ej/i\n",
       "8dfV8yIf39qB8K8wuO20IFsas/ySXtv/R33ScZO+PR/mRej5qGjVhI08LAMWrPrYAB+MJUgU7eJf\n",
       "AcmXDrjVfEY6XeEw26dG7bCawSoCsnlIL15FAv1Xhinqi7I6t2lBB6bLlU4p26drBmlt6Im1okYm\n",
       "h7mRAAAAa0Gf8kUVLCP/AB2nEdfCg7Rky+ed/EwlSOLyfetazMAu8uW19GgI1v7kN0Iif8ikCLP1\n",
       "85YCFToqDuqGc+nsp2bnXzq/KaC50DtEyFxcK98tjY8oABsXwKmKHePtD8WUyV5hDrpPQq9eKFch\n",
       "AAAASAGeEXRH/wAv1AIVLbXxUqUyDkKpy9m3mjOnc5TBv+3eBQSJY5fpz/jlNgzK5TxXK+828j4s\n",
       "gzfLtqJoZB/qAtWnizPd7dXYIAAAAEIBnhNqR/8AL7pFXj9uia5I0qDEhtuu8FciIS3Ru69np17W\n",
       "kZiEs/hl1LovczNaJBNWhy9dsXhbgVmCL/gOaSH5zW0AAAD6QZoYSahBbJlMCF///oywAF3koiaK\n",
       "PCqA+Amg0KbcpLCAGjVT2Y70ifp8+brsbPdoCCCerdGl+z/Yo3e1s58BQdp5OoCbor4+f0m3/8hL\n",
       "wMR1I8LocLnJyyEm4hiNNNUDwO46+gLLjRd3H0BnEvsWp5X3PwJG1o9O8hUdRw/S5M+szoQ95F8M\n",
       "znsJ4dSxHrK6TeUPz7bBtfZAkKCeTEeY7TMu5ZEyZzPJT7FLPpuGoO0c+/SAP+1P4sLXK07vZK6C\n",
       "gAKGdrSRbY4q1MirQjj6h8xQx2IJFePgv3YSUgFzo9rRAAa8/lsVqsMDxcD33GBottgMh0blI2hP\n",
       "CQAAAGNBnjZFFSwj/wAdi8qakdm3Eiy3tn5IP8d5cS9gr2s5zLLf8j5vnne9LvznD6ovsAMgopum\n",
       "Uwhzw9ZEwRQxd/5DzunfeW6ZtEzVHk+gCo8zQi+L3MH98lFgKtIBxTl8Sxrtm8AAAAA+AZ5VdEf/\n",
       "AC/UwhG0YHkbVTu0/YYwkSrNaXHSMdM46WVo+GWmuxTKQeo3U9tuvychZ94m/p5so2Q9xFNseYEA\n",
       "AABFAZ5Xakf/AC+69LYfEEB7pERfMtKkKmSUfbuuj6jW5TeTef855uhb22RoVkHUDTRBljlJTLY2\n",
       "CMUB+FBuIICkNGqs+JihAAAA3kGaXEmoQWyZTAhf//6MsABgGCWCIritGa38gBY2bzRJA79qyDLm\n",
       "A8ScCTlGfbV5guZHjO1mxEtrBPMW1Twy3vsa17dpxDQTrSNCHKMTjf/yH6iZJKKiyR8oRXaH3n8R\n",
       "Ef74t6VIzMLQ3SxdGCpTQnmeVl2CZziotaEz+ScWDhJz0COarHEWHg2NxY6nneNhw73cABXWpwRv\n",
       "6aK4W7odbdyT89IwgjXySLQaYO1SPNGVNxtc13sP0Mds1vH1wPq/5tt+TCdhvQJMJ6fBCTHWYVbd\n",
       "1y9+8eP8CilxdraomAAAAF5BnnpFFSwj/wAeadNQ/OKhPQpJRqxSF/qwjjNgVFfc+Y5nYI4YsCGA\n",
       "1oT7E2N2L9UaFub6vtrn5TQ5bCCEoUhfDR6xIPJpxM1OsJJLyISm7I26AfeazOrA83CYiBGzAAAA\n",
       "QQGemXRH/wAvtUQ15LBBxg8gMOIeG59PZszORTLMTX7uexKWEdC4g8gXWrClA2X4qHFDcUsUSbxX\n",
       "OFMDZ6gZJYJeAAAAOAGem2pH/wAvvFwVhLiy/UxOGzS6enNwDb7PH3cTXdWtUIGcf2obmGF0pSX5\n",
       "8DdVCgDvWVDBgwdBAAAAs0GagEmoQWyZTAhX//44QALFB+dvuWvA0sAIvlCAKFqXELpV7ENOT7wX\n",
       "b2MWHQierGh3Dv5/jWjCraSe9pH0VlmZWxtI7vsiTHJQ1XoKsdxkocFD6tWv2pDgP4DRPS3aiLHC\n",
       "Fr9Dxv14HdULNOoqZbZo2U37QzTDmHuLuvVRX7yTpgTny+t/nAAAAwAbUdc9svqE6198AM1RE2RF\n",
       "jU3lMNCjoS3ewqt+8itbRdVrSuiRlpKBAAAAakGevkUVLCP/ADoQ+Sbv4IFcGbr1wivwAAa/6m4u\n",
       "0043/YtqWvjcGeLlkvhsHAGZs4+XTiu+GPEgQzkG2TE7BWGJvK41NLifvCCdJb2/cZ/iOto8LHqt\n",
       "2Hu5ciIVMfqDErzCUccdXA+uSegAAABDAZ7ddEf/AFr9LgnsKAjP+odWLBVHhio7LfBpB3ROWfeR\n",
       "VdewoPzD6TgJqW3SF+lCaqP9ynbClJHrSaqU/jLYUf5aLgAAAEYBnt9qR/8AXSybIgOl4cCyqkPZ\n",
       "2mEfBBJVu3whc0wqy8o2LjNIsBMKiC1FQTYo1Vx4SGlhkN4O1Cl9tgH5gaSI80oUw6CZAAAAcEGa\n",
       "w0moQWyZTAj//IQAK1zLgB6R3BBtwTQPlucIkwrxixpr+qcxLn9OUvguQsjwNCbEwND3RFbHOWKi\n",
       "eJ5dWPu3pfw4EgXQ5e0cXeKBhe3SnH/QEe15UYm7WodsE0jELFvZpIP5Zv8vWaS8moxEN+AAAABZ\n",
       "QZ7hRRUsI/8AO3uC2CoXiSrKM4bNjE9bTFStFFN83yrjkPsXvnlObr01nssQE6YlQ4JWpDRiHDN4\n",
       "bHnN7loh4Z5edRH2DFYtx9RAAuqjzPf+XwgGH3qQBtsAAABHAZ8Cakf/AF+kZOwE3p9QrWSDbVEI\n",
       "Xa4QKp5a41Kzzlv5SAKiAP8emYI1d4bcsx8R5T7Ju8YlIPOwycfETdNNszZsagf3+ksAAAeWbW9v\n",
       "dgAAAGxtdmhkAAAAAAAAAAAAAAAAAAAD6AAAB9AAAQAAAQAAAAAAAAAAAAAAAAEAAAAAAAAAAAAA\n",
       "AAAAAAABAAAAAAAAAAAAAAAAAABAAAAAAAAAAAAAAAAAAAAAAAAAAAAAAAAAAAAAAAAAAgAABsB0\n",
       "cmFrAAAAXHRraGQAAAADAAAAAAAAAAAAAAABAAAAAAAAB9AAAAAAAAAAAAAAAAAAAAAAAAEAAAAA\n",
       "AAAAAAAAAAAAAAABAAAAAAAAAAAAAAAAAABAAAAAAbAAAAEgAAAAAAAkZWR0cwAAABxlbHN0AAAA\n",
       "AAAAAAEAAAfQAAACAAABAAAAAAY4bWRpYQAAACBtZGhkAAAAAAAAAAAAAAAAAAAyAAAAZABVxAAA\n",
       "AAAALWhkbHIAAAAAAAAAAHZpZGUAAAAAAAAAAAAAAABWaWRlb0hhbmRsZXIAAAAF421pbmYAAAAU\n",
       "dm1oZAAAAAEAAAAAAAAAAAAAACRkaW5mAAAAHGRyZWYAAAAAAAAAAQAAAAx1cmwgAAAAAQAABaNz\n",
       "dGJsAAAAs3N0c2QAAAAAAAAAAQAAAKNhdmMxAAAAAAAAAAEAAAAAAAAAAAAAAAAAAAAAAbABIABI\n",
       "AAAASAAAAAAAAAABAAAAAAAAAAAAAAAAAAAAAAAAAAAAAAAAAAAAAAAAAAAAGP//AAAAMWF2Y0MB\n",
       "ZAAe/+EAGGdkAB6s2UGwloQAAAMABAAAAwGQPFi2WAEABmjr48siwAAAABx1dWlka2hA8l8kT8W6\n",
       "OaUbzwMj8wAAAAAAAAAYc3R0cwAAAAAAAAABAAAAZAAAAQAAAAAUc3RzcwAAAAAAAAABAAAAAQAA\n",
       "AuhjdHRzAAAAAAAAAFsAAAABAAACAAAAAAEAAAMAAAAAAQAAAQAAAAAGAAACAAAAAAEAAAMAAAAA\n",
       "AQAAAQAAAAABAAAEAAAAAAIAAAEAAAAAAQAAAgAAAAABAAAEAAAAAAIAAAEAAAAAAQAABQAAAAAB\n",
       "AAACAAAAAAEAAAAAAAAAAQAAAQAAAAABAAAFAAAAAAEAAAIAAAAAAQAAAAAAAAABAAABAAAAAAEA\n",
       "AAUAAAAAAQAAAgAAAAABAAAAAAAAAAEAAAEAAAAAAQAABQAAAAABAAACAAAAAAEAAAAAAAAAAQAA\n",
       "AQAAAAABAAAFAAAAAAEAAAIAAAAAAQAAAAAAAAABAAABAAAAAAEAAAUAAAAAAQAAAgAAAAABAAAA\n",
       "AAAAAAEAAAEAAAAAAQAABQAAAAABAAACAAAAAAEAAAAAAAAAAQAAAQAAAAABAAAFAAAAAAEAAAIA\n",
       "AAAAAQAAAAAAAAABAAABAAAAAAEAAAUAAAAAAQAAAgAAAAABAAAAAAAAAAEAAAEAAAAAAQAABQAA\n",
       "AAABAAACAAAAAAEAAAAAAAAAAQAAAQAAAAABAAAFAAAAAAEAAAIAAAAAAQAAAAAAAAABAAABAAAA\n",
       "AAEAAAUAAAAAAQAAAgAAAAABAAAAAAAAAAEAAAEAAAAAAQAABAAAAAACAAABAAAAAAEAAAMAAAAA\n",
       "AQAAAQAAAAABAAADAAAAAAEAAAEAAAAAAQAABQAAAAABAAACAAAAAAEAAAAAAAAAAQAAAQAAAAAB\n",
       "AAAFAAAAAAEAAAIAAAAAAQAAAAAAAAABAAABAAAAAAEAAAUAAAAAAQAAAgAAAAABAAAAAAAAAAEA\n",
       "AAEAAAAAAQAABQAAAAABAAACAAAAAAEAAAAAAAAAAQAAAQAAAAABAAAFAAAAAAEAAAIAAAAAAQAA\n",
       "AAAAAAABAAABAAAAAAEAAAUAAAAAAQAAAgAAAAABAAAAAAAAAAEAAAEAAAAAAQAABAAAAAACAAAB\n",
       "AAAAABxzdHNjAAAAAAAAAAEAAAABAAAAZAAAAAEAAAGkc3RzegAAAAAAAAAAAAAAZAAAC98AAAId\n",
       "AAAAjgAAAQ0AAACZAAAAmgAAAJYAAADRAAAAsQAAAN0AAABKAAABCQAAAFYAAABIAAAAswAAAOMA\n",
       "AABRAAAAQAAAAPMAAABmAAAASwAAAFUAAAEyAAAAZwAAAE4AAABYAAABEAAAAGMAAABPAAAASwAA\n",
       "AUMAAABqAAAAUwAAAFgAAAE7AAAAfgAAAE0AAABWAAABJAAAAFsAAAA6AAAAPgAAAS4AAABlAAAA\n",
       "QAAAADgAAAE9AAAAaQAAADgAAAA8AAABNgAAAG0AAAA+AAAAQQAAAU8AAABjAAAASQAAADsAAAEJ\n",
       "AAAAXAAAADoAAABCAAABFQAAAGsAAABEAAAASgAAASYAAABTAAAARAAAAOcAAABMAAAA+gAAAEIA\n",
       "AAEhAAAAZwAAAEAAAAA9AAABBQAAAGcAAABDAAAASAAAAQsAAABvAAAATAAAAEYAAAD+AAAAZwAA\n",
       "AEIAAABJAAAA4gAAAGIAAABFAAAAPAAAALcAAABuAAAARwAAAEoAAAB0AAAAXQAAAEsAAAAUc3Rj\n",
       "bwAAAAAAAAABAAAALAAAAGJ1ZHRhAAAAWm1ldGEAAAAAAAAAIWhkbHIAAAAAAAAAAG1kaXJhcHBs\n",
       "AAAAAAAAAAAAAAAALWlsc3QAAAAlqXRvbwAAAB1kYXRhAAAAAQAAAABMYXZmNTguMjkuMTAw\n",
       "\">\n",
       "  Your browser does not support the video tag.\n",
       "</video>"
      ],
      "text/plain": [
       "<IPython.core.display.HTML object>"
      ]
     },
     "execution_count": 15,
     "metadata": {},
     "output_type": "execute_result"
    },
    {
     "data": {
      "image/png": "[encoded data removed]",
      "text/plain": [
       "<Figure size 432x288 with 1 Axes>"
      ]
     },
     "metadata": {
      "needs_background": "light"
     },
     "output_type": "display_data"
    }
   ],
   "source": [
    "# Average speed of Bob: currentl set at 100 nm/s\n",
    "v0 = 100. \n",
    "# Mean free path : currently set 1 nm\n",
    "l = 1.\n",
    "\n",
    "\n",
    "import numpy as np\n",
    "import matplotlib.pyplot as plt\n",
    "from matplotlib import animation, rc\n",
    "from IPython.display import HTML\n",
    "\n",
    "# First set up the figure, the axis, and the plot element we want to animate\n",
    "fig, ax = plt.subplots()\n",
    "\n",
    "ax.set_xlim(( 0, 400))\n",
    "ax.set_ylim(( 0, 40))\n",
    "\n",
    "line, = ax.plot([], [], lw=2)\n",
    "\n",
    "# initialization function: plot the background of each frame\n",
    "def init():\n",
    "    line.set_data([], [])\n",
    "    return (line,)\n",
    "\n",
    "# animation function. This is called sequentially\n",
    "def animate(i):\n",
    "    x = np.linspace(1, 400, 100)\n",
    "    #y = np.sin(2 * np.pi * (x - 0.01 * i))\n",
    "    y = x**2/( np.sqrt(2 * np.pi * v0 * l *i))*np.exp( - (x)**2 / (2 *  v0 *l *i))\n",
    "    #print(i)\n",
    "    line.set_data(x, y)\n",
    "    return (line,)\n",
    "\n",
    "# call the animator. blit=True means only re-draw the parts that have changed.\n",
    "anim = animation.FuncAnimation(fig, animate, init_func=init,\n",
    "                               frames=100, interval=20, blit=True)\n",
    "HTML(anim.to_html5_video())"
   ]
  },
  {
   "cell_type": "markdown",
   "metadata": {},
   "source": [
    "# The Diffusion constant \n",
    "We now define a quantity called the diffusion constant $D = \\lambda v_0$. Rewriting the probability distribution in terms of this quantity we see that\n",
    "\n",
    "$P(x^2) = \\frac{1}{\\sqrt{ \\pi D t } } x^2 e^{- \\frac{(x)^2}{ D t}}$\n",
    "\n",
    "What is the significance of the diffusion constant?\n",
    "\n",
    "1. It is related to the standard deviation of the distribution : S.D. $ \\sigma = \\sqrt{D t}$. Okay so what does this tell me?\n",
    "2. Greater the value of D the more rapidly Bob should be able to diffuse across.\n",
    "Let us check this by running the code below and changin the values of D, and checking the most likely place we are going to find Bob."
   ]
  },
  {
   "cell_type": "code",
   "execution_count": 21,
   "metadata": {},
   "outputs": [
    {
     "data": {
      "image/png": "[encoded data removed]",
      "text/plain": [
       "<Figure size 432x288 with 1 Axes>"
      ]
     },
     "metadata": {
      "needs_background": "light"
     },
     "output_type": "display_data"
    }
   ],
   "source": [
    "\n",
    "# Diffusion constant of Bob\n",
    "D = 100. # mean and standard deviation\n",
    "# Mean free path : currently set 1 nm\n",
    "l = 1.\n",
    "# set time for diffusion, 2 seconds \n",
    "t= 2\n",
    "\n",
    "x = np.linspace(0.,100,100) # 100 linearly spaced numbers\n",
    "\n",
    "plt.plot( x, x**2/( np.sqrt(np.pi * D *t))*np.exp( - (x)**2 / (D *t) ),linewidth=2, color='r')\n",
    "\n",
    "plt.show()"
   ]
  },
  {
   "cell_type": "markdown",
   "metadata": {},
   "source": [
    "# Question 4: \n",
    "- What are the units for the diffusion constant D?\n",
    "- What is the typical values for the diffusion constant (aka diffusion coefficient) of a gas ? - Google this\n"
   ]
  },
  {
   "cell_type": "markdown",
   "metadata": {},
   "source": [
    "# So what is the rate at which a gas diffuses ?\n",
    "What we have determined so far is just the probability of finding Bob some distance squared $x^2$ from his starting point. \n",
    "We have tried to characterize the rate at which he diffuses by looking at how the peak of this distribution changes over time. In other words we know what Bob's most likely position is going to be as time progresses. \n",
    "Mathematically what have done is determined the r.m.s (root mean square) value of the position $x$.\n",
    "\n",
    "$\\sqrt{\\bar{x^2}} = \\sqrt{2 D t}$\n",
    "\n",
    "The rate at which Bob diffuses through the gas is $\\propto \\sqrt{t}$ as well as the property intrinsic to Bob - his diffusion cooefficient $D$. \n",
    "\n",
    "The analysis we have just described can quite naturally be extended to the case of particles free to diffuse in two or three dimensions.  The three rules defining the random walk now apply in each of the two (or three) dimensions, and we assert that the motions in the x, y and z directions are statistically independent.  We have no reason to suspect that such an assumption is not valid.  In three dimensions, the diffusion coefficient D is defined in the way you might expect:\n",
    "\n",
    "For 1D motion we were trying to determine the most likely location using what is called the r.m.s (root mean square) value of $\\sqrt{\\bart{x^2}}$. For 3D motion this would be \n",
    "\n",
    "$r^2=6Dt$\n",
    "$r^2=x^2+y^2+x^2 $\n",
    "$\\sqrt{\\overline{r^2}}=\\sqrt{6Dt}$\n",
    "\n",
    "So if I wanted to find the average displacement of bob after 100 seconds then this would simply be $~\\sim \\sqrt{6\\times D \\times 100} $"
   ]
  },
  {
   "cell_type": "markdown",
   "metadata": {},
   "source": [
    "# Part 3 : Random vs Coherent motion \n",
    "\n",
    "Listeria, like all bacteria emit small molecules as waste product or for signaling. Here we will consider a “race” between a listeria bacteria (about 1 μm across) that swims along a straight track inside a (much larger ~15 μm) mammalian cell that it has infected. The listeria emits a pulse of signaling molecules. The listeria itself moves in the cell at a speed of about 5 μm/s. The question we want to tackle is whether molecules emitted by the listeria cell could move ahead of the cell as they diffuse. \n",
    "\n"
   ]
  },
  {
   "cell_type": "code",
   "execution_count": 22,
   "metadata": {},
   "outputs": [
    {
     "data": {
      "image/jpeg": "[encoded data removed]",
      "text/html": [
       "\n",
       "        <iframe\n",
       "            width=\"400\"\n",
       "            height=\"300\"\n",
       "            src=\"https://www.youtube.com/embed/dlAPOa_QXAo\"\n",
       "            frameborder=\"0\"\n",
       "            allowfullscreen\n",
       "        ></iframe>\n",
       "        "
      ],
      "text/plain": [
       "<IPython.lib.display.YouTubeVideo at 0x11688dfd0>"
      ]
     },
     "execution_count": 22,
     "metadata": {},
     "output_type": "execute_result"
    }
   ],
   "source": [
    "## Here is an informative video about the motion of listeria.\n",
    "from IPython.display import YouTubeVideo\n",
    "#https://www.youtube.com/watch?v=dlAPOa_QXAo\n",
    "YouTubeVideo('dlAPOa_QXAo')"
   ]
  },
  {
   "cell_type": "markdown",
   "metadata": {},
   "source": [
    "# Question 5\n",
    "\n",
    "A. Assume that a Listeria cell, when at one end of the mammalian cell, emits a pulse of molecules with diffusion constant of D=200 μm2/s. The Listeria cell then moves to the other side of the mammalian cell, reaching the other side of the cell in 3 seconds. How much time does it take the diffusing molecules to reach the other end of the cell?\n",
    "\n",
    "B. Can diffusion be faster than directed motion? Explain your reasoning.\n",
    "\n",
    "C. If the mammalian cell were three times larger, by how much does the time to diffuse across a whole cell change? Explain your reasoning.\n",
    "\n",
    "D. A different signaling molecule emitted by the Listeria has had a chemical attached to it that glows when illuminated by a particular light source. A pulse is seen to be emitted at t = 0 and 5 seconds later is observed to have expanded to a blob that has a radius of 2 μm. If you can describe this as diffusion in two dimensions how big would you expect the blob to be if you took another picture at t = 20 s? Can you find the diffusion constant? If you can, do so. If you can’t explain why not."
   ]
  },
  {
   "cell_type": "code",
   "execution_count": null,
   "metadata": {},
   "outputs": [],
   "source": []
  }
 ],
 "metadata": {
  "colab": {
   "collapsed_sections": [],
   "include_colab_link": true,
   "name": "quantum_coin_flipping.ipynb",
   "private_outputs": true,
   "provenance": [],
   "version": "0.3.2"
  },
  "kernelspec": {
   "display_name": "Python 3",
   "language": "python",
   "name": "python3"
  },
  "language_info": {
   "codemirror_mode": {
    "name": "ipython",
    "version": 3
   },
   "file_extension": ".py",
   "mimetype": "text/x-python",
   "name": "python",
   "nbconvert_exporter": "python",
   "pygments_lexer": "ipython3",
   "version": "3.7.4"
  }
 },
 "nbformat": 4,
 "nbformat_minor": 1
}
